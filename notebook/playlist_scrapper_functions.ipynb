{
 "cells": [
  {
   "cell_type": "markdown",
   "id": "72de69dc",
   "metadata": {},
   "source": [
    "# 플레이리스트 기반 노래 데이터 수집 함수"
   ]
  },
  {
   "cell_type": "code",
   "execution_count": 36,
   "id": "c89a8358",
   "metadata": {},
   "outputs": [],
   "source": [
    "import os\n",
    "import pandas as pd \n",
    "import numpy as np\n",
    "import matplotlib.pyplot as plt\n",
    "import seaborn as sns\n",
    "\n",
    "import requests\n",
    "from bs4 import BeautifulSoup as bs\n",
    "import json\n",
    "\n",
    "import re\n",
    "from tqdm import tqdm"
   ]
  },
  {
   "cell_type": "code",
   "execution_count": 37,
   "id": "68b751d4",
   "metadata": {},
   "outputs": [],
   "source": [
    "def get_font_family():\n",
    "    \"\"\"\n",
    "    시스템 환경에 따른 기본 폰트명을 반환하는 함수\n",
    "    \"\"\"\n",
    "    import platform\n",
    "    system_name = platform.system()\n",
    "\n",
    "    if system_name == \"Darwin\" :\n",
    "        font_family = \"AppleGothic\"\n",
    "    elif system_name == \"Windows\":\n",
    "        font_family = \"Malgun Gothic\"\n",
    "    else:\n",
    "        # Linux(colab)\n",
    "#         !apt-get install fonts-nanum -qq  > /dev/null\n",
    "#         !fc-cache -fv\n",
    "        import matplotlib as mpl\n",
    "        mpl.font_manager._rebuild()\n",
    "        findfont = mpl.font_manager.fontManager.findfont\n",
    "        mpl.font_manager.findfont = findfont\n",
    "        mpl.backends.backend_agg.findfont = findfont\n",
    "        \n",
    "        font_family = \"NanumBarunGothic\"\n",
    "    return font_family"
   ]
  },
  {
   "cell_type": "code",
   "execution_count": 38,
   "id": "ac5137b8",
   "metadata": {},
   "outputs": [],
   "source": [
    "# style 설정은 꼭 폰트설정 위에서 합니다.\n",
    "# style 에 폰트 설정이 들어있으면 한글폰트가 초기화 되어 한글이 깨집니다.\n",
    "plt.style.use(\"seaborn\")\n",
    "# 폰트설정\n",
    "plt.rc(\"font\", family=get_font_family())\n",
    "# 마이너스폰트 설정\n",
    "plt.rc(\"axes\", unicode_minus=False)\n",
    "\n",
    "# 그래프에 retina display 적용\n",
    "# from IPython.display import set_matplotlib_formats\n",
    "# set_matplotlib_formats(\"retina\")"
   ]
  },
  {
   "cell_type": "markdown",
   "id": "868ca006",
   "metadata": {},
   "source": [
    "## 플레이리스트 단어 검색 메인"
   ]
  },
  {
   "cell_type": "code",
   "execution_count": 39,
   "id": "c2261ca5",
   "metadata": {},
   "outputs": [],
   "source": [
    "# 한글을 unicode hex로 변환.\n",
    "def keyword_to_unicode(keyword: 'str') -> str:\n",
    "    keyword.encode('utf-8')\n",
    "    regex = re.compile(r'\\\\x')\n",
    "    keyword_unicode = re.sub(regex, '%', str(keyword.encode('utf-8'))[2:-1]).upper()\n",
    "    return keyword_unicode\n",
    "\n",
    "# 사용 안함.\n",
    "def get_playlst_main(keyword: 'str' = '행복') -> dict:\n",
    "    playlist_url = \"https://www.melon.com/dj/djfinder/djfinder_informCnt.json\"\n",
    "    # keyword to unicode\n",
    "    keyword_unicode = keyword_to_unicode(keyword)\n",
    "    # Headers information\n",
    "    headers = {\n",
    "        'Accept': 'application/json, text/javascript, */*; q=0.01',\n",
    "        'Accept-Encoding': 'gzip, deflate, br',\n",
    "        'Accept-Language': 'ko,en-US;q=0.9,en;q=0.8,zh;q=0.7',\n",
    "        'Connection': 'keep-alive',\n",
    "        'Content-Length': '81',\n",
    "        'Content-Type': 'application/x-www-form-urlencoded; charset=UTF-8',\n",
    "        'Host': 'www.melon.com',\n",
    "        'Origin': 'https://www.melon.com',\n",
    "        'Referer': f'https://www.melon.com/dj/djfinder/djfinder_inform.htm?djSearchType=T&djSearchKeyword={keyword_unicode}',\n",
    "        'User-Agent': 'Mozilla/5.0 (Windows NT 10.0; Win64; x64) AppleWebKit/537.36 (KHTML, like Gecko) Chrome/103.0.0.0 Safari/537.36',\n",
    "        'X-Requested-With': 'XMLHttpRequest'\n",
    "    }\n",
    "    # payload information\n",
    "    data = {\n",
    "        'djSearchType':'T',\n",
    "        'djSearchKeyword': keyword_unicode,\n",
    "        'pagingFlag': 'Y',\n",
    "        'tagSearchType': 'S'\n",
    "    }\n",
    "    # Request - Post\n",
    "    response = requests.post(playlist_url, data, headers=headers)\n",
    "    # json loads\n",
    "    playlist_main = json.loads(response.text)\n",
    "    return playlist_main"
   ]
  },
  {
   "cell_type": "code",
   "execution_count": 40,
   "id": "414401c0",
   "metadata": {},
   "outputs": [
    {
     "data": {
      "text/plain": [
       "{'ORDERBY': 'POP',\n",
       " 'djSearchKeyword': '#행복',\n",
       " 'djSearchType': 'T',\n",
       " 'pagingFlag': 'Y',\n",
       " 'djPlylstList': [],\n",
       " 'relationTagList': [],\n",
       " 'djPlylstListTotCnt': 1042,\n",
       " 'menuInfo': {'subMenu': 'DJ_FINDER',\n",
       "  'mainMenu': 'DJ',\n",
       "  'subMenuDpFlg': True,\n",
       "  'menuTitle': '멜론DJ>DJ파인더>멜론',\n",
       "  'menuLocation': '<a href=\"/dj/today/djtoday_list.htm\" title=\"멜론DJ - 페이지 이동\">멜론DJ</a> &gt; <strong><span class=\"none\">현재 위치</span>DJ파인더</strong>'},\n",
       " 'menuId': 67190101,\n",
       " 'tagSearchType': 'S',\n",
       " 'httpDomain': 'http://www.melon.com',\n",
       " 'httpsDomain': 'https://www.melon.com',\n",
       " 'staticDomain': 'https://static.melon.co.kr'}"
      ]
     },
     "execution_count": 40,
     "metadata": {},
     "output_type": "execute_result"
    }
   ],
   "source": [
    "# 사용 예시\n",
    "get_playlst_main('행복')"
   ]
  },
  {
   "cell_type": "markdown",
   "id": "4364e56e",
   "metadata": {},
   "source": [
    "## 관련 tag 수집"
   ]
  },
  {
   "cell_type": "code",
   "execution_count": 41,
   "id": "ad625921",
   "metadata": {},
   "outputs": [],
   "source": [
    "def get_related_tags(keyword: str = '행복') -> dict:\n",
    "    related_tags = []\n",
    "    result = {}\n",
    "    playlist_tag_url = f'https://www.melon.com/dj/djfinder/djfinder_inform.htm?djSearchType=T&djSearchKeyword={keyword}'\n",
    "    # Headers information    \n",
    "    headers = {\n",
    "        'User-Agent': 'Mozilla/5.0 (Windows NT 10.0; Win64; x64) AppleWebKit/537.36 (KHTML, like Gecko) Chrome/103.0.0.0 Safari/537.36',\n",
    "    }\n",
    "    # Request - get\n",
    "    response = requests.get(playlist_tag_url, headers = headers)\n",
    "    html = response.text\n",
    "    # parse text by beautifullsoup\n",
    "    parse = bs(html, 'html.parser')\n",
    "    # find imformations\n",
    "    playlist_numbers_txt = parse.find_all(\"p\", \"text\")\n",
    "    related_tags_txt = parse.find_all(\"button\", \"tag_item\")\n",
    "    playlist_numbers = int(re.findall(r'[0-9]+', playlist_numbers_txt[0].text)[0])\n",
    "    for idx in range(len(related_tags_txt)):\n",
    "        related_tags.append(related_tags_txt[idx]['id'])\n",
    "    # make return values\n",
    "    result['keyword'] = keyword\n",
    "    result['playlist_numbers'] = playlist_numbers\n",
    "    result['related_tags_numbers'] = len(related_tags_txt)\n",
    "    result['related_tags'] = related_tags\n",
    "    \n",
    "    return result"
   ]
  },
  {
   "cell_type": "code",
   "execution_count": 44,
   "id": "d9cf9ef9",
   "metadata": {},
   "outputs": [],
   "source": [
    "# 사용예시\n",
    "a = get_related_tags('두근')"
   ]
  },
  {
   "cell_type": "code",
   "execution_count": 45,
   "id": "92f77e52",
   "metadata": {},
   "outputs": [
    {
     "data": {
      "text/plain": [
       "('두근', 369, 30)"
      ]
     },
     "execution_count": 45,
     "metadata": {},
     "output_type": "execute_result"
    }
   ],
   "source": [
    "a['keyword'], a['playlist_numbers'], a['related_tags_numbers']"
   ]
  },
  {
   "cell_type": "code",
   "execution_count": 46,
   "id": "8e4314c9",
   "metadata": {},
   "outputs": [
    {
     "name": "stdout",
     "output_type": "stream",
     "text": [
      "['설렘', '사랑', '봄', '달달', '기분전환', '설레임', '감성', '카페', '기분좋은', '썸', '인디', '휴식', '연애', '고백', '몽글몽글', '국내', '달달해', '분위기', '매장', '청춘', '커플', '힙합', '설레이는', '힐링', '스윗', '짝사랑', '두근두근', '명곡모음', '국힙', '셀렘']\n"
     ]
    }
   ],
   "source": [
    "print(a['related_tags'])"
   ]
  },
  {
   "cell_type": "markdown",
   "id": "a0da79ef",
   "metadata": {},
   "source": [
    "### 기본 수집 태그 설정"
   ]
  },
  {
   "cell_type": "code",
   "execution_count": 47,
   "id": "d4e6528b",
   "metadata": {},
   "outputs": [],
   "source": [
    "인기테마 = ['기분전환', '감성', '힐링', '드라이브', '사랑', '추억', '이별', '여행', '여름', '휴식',\n",
    "        '운동', '비오는날', '분위기', '위로', '트렌디', '공부', '몽환', 'ASMR', '카페', '클럽', '매장', \n",
    "        '노래방', '버스', '라운지', '한강', '집', '지하철'\n",
    "       ]"
   ]
  },
  {
   "cell_type": "code",
   "execution_count": 48,
   "id": "48acadd4",
   "metadata": {},
   "outputs": [],
   "source": [
    "인기장르 = ['발라드', '힙합', '인디', '댄스', '뉴에이지', '알앤비', '재즈', '클래식', '록', \n",
    "        '팝', 'OST', 'EDM', 'CCM', 'JPOP', '트로트', '월드뮤직', '블루스', '컨트리']"
   ]
  },
  {
   "cell_type": "code",
   "execution_count": 49,
   "id": "70b8a5a3",
   "metadata": {},
   "outputs": [],
   "source": [
    "인기태그 = ['환상', '느긋한', '페스티벌', '여름밤', '싱잉랩', '생각', '흐림', '잔잔한', '설렘']"
   ]
  },
  {
   "cell_type": "code",
   "execution_count": 50,
   "id": "422450bf",
   "metadata": {},
   "outputs": [],
   "source": [
    "#major sentiment : happy, angry, peaceful, sad\n",
    "감정태그1 = ['행복한', '화나는', '슬픈', '평온한']"
   ]
  },
  {
   "cell_type": "code",
   "execution_count": 51,
   "id": "ba575bec",
   "metadata": {},
   "outputs": [],
   "source": [
    "#Excited, happy, contented, calm, fatigue, depressed, sad, disgusted, angry, nervous, fear, surprised\n",
    "감정태그2 = ['설레는', '행복한', '만족하는', '침착한', '피로한', '우울한', '슬픈', '역겨운', '화난', '불안한', '두려운', '놀란']"
   ]
  },
  {
   "cell_type": "code",
   "execution_count": 52,
   "id": "dc8a9c6c",
   "metadata": {},
   "outputs": [],
   "source": [
    "total_tag_list = 인기장르 + 인기태그 + 감정태그1 + 감정태그2"
   ]
  },
  {
   "cell_type": "code",
   "execution_count": 53,
   "id": "18db7020",
   "metadata": {},
   "outputs": [
    {
     "name": "stdout",
     "output_type": "stream",
     "text": [
      "['발라드', '힙합', '인디', '댄스', '뉴에이지', '알앤비', '재즈', '클래식', '록', '팝', 'OST', 'EDM', 'CCM', 'JPOP', '트로트', '월드뮤직', '블루스', '컨트리', '환상', '느긋한', '페스티벌', '여름밤', '싱잉랩', '생각', '흐림', '잔잔한', '설렘', '행복한', '화나는', '슬픈', '평온한', '설레는', '행복한', '만족하는', '침착한', '피로한', '우울한', '슬픈', '역겨운', '화난', '불안한', '두려운', '놀란']\n"
     ]
    }
   ],
   "source": [
    "print(total_tag_list)"
   ]
  },
  {
   "cell_type": "code",
   "execution_count": 17,
   "id": "09aaa1ca",
   "metadata": {},
   "outputs": [],
   "source": [
    "# 사용예시\n",
    "tag_df = pd.DataFrame(get_related_tags('행복'))"
   ]
  },
  {
   "cell_type": "code",
   "execution_count": 18,
   "id": "16cb9c91",
   "metadata": {},
   "outputs": [
    {
     "data": {
      "text/html": [
       "<div>\n",
       "<style scoped>\n",
       "    .dataframe tbody tr th:only-of-type {\n",
       "        vertical-align: middle;\n",
       "    }\n",
       "\n",
       "    .dataframe tbody tr th {\n",
       "        vertical-align: top;\n",
       "    }\n",
       "\n",
       "    .dataframe thead th {\n",
       "        text-align: right;\n",
       "    }\n",
       "</style>\n",
       "<table border=\"1\" class=\"dataframe\">\n",
       "  <thead>\n",
       "    <tr style=\"text-align: right;\">\n",
       "      <th></th>\n",
       "      <th>keyword</th>\n",
       "      <th>playlist_numbers</th>\n",
       "      <th>related_tags_numbers</th>\n",
       "      <th>related_tags</th>\n",
       "    </tr>\n",
       "  </thead>\n",
       "  <tbody>\n",
       "    <tr>\n",
       "      <th>0</th>\n",
       "      <td>행복</td>\n",
       "      <td>1033</td>\n",
       "      <td>30</td>\n",
       "      <td>기분전환</td>\n",
       "    </tr>\n",
       "    <tr>\n",
       "      <th>1</th>\n",
       "      <td>행복</td>\n",
       "      <td>1033</td>\n",
       "      <td>30</td>\n",
       "      <td>사랑</td>\n",
       "    </tr>\n",
       "    <tr>\n",
       "      <th>2</th>\n",
       "      <td>행복</td>\n",
       "      <td>1033</td>\n",
       "      <td>30</td>\n",
       "      <td>감성</td>\n",
       "    </tr>\n",
       "    <tr>\n",
       "      <th>3</th>\n",
       "      <td>행복</td>\n",
       "      <td>1033</td>\n",
       "      <td>30</td>\n",
       "      <td>휴식</td>\n",
       "    </tr>\n",
       "    <tr>\n",
       "      <th>4</th>\n",
       "      <td>행복</td>\n",
       "      <td>1033</td>\n",
       "      <td>30</td>\n",
       "      <td>힐링</td>\n",
       "    </tr>\n",
       "    <tr>\n",
       "      <th>5</th>\n",
       "      <td>행복</td>\n",
       "      <td>1033</td>\n",
       "      <td>30</td>\n",
       "      <td>드라이브</td>\n",
       "    </tr>\n",
       "    <tr>\n",
       "      <th>6</th>\n",
       "      <td>행복</td>\n",
       "      <td>1033</td>\n",
       "      <td>30</td>\n",
       "      <td>설렘</td>\n",
       "    </tr>\n",
       "    <tr>\n",
       "      <th>7</th>\n",
       "      <td>행복</td>\n",
       "      <td>1033</td>\n",
       "      <td>30</td>\n",
       "      <td>카페</td>\n",
       "    </tr>\n",
       "    <tr>\n",
       "      <th>8</th>\n",
       "      <td>행복</td>\n",
       "      <td>1033</td>\n",
       "      <td>30</td>\n",
       "      <td>주말</td>\n",
       "    </tr>\n",
       "    <tr>\n",
       "      <th>9</th>\n",
       "      <td>행복</td>\n",
       "      <td>1033</td>\n",
       "      <td>30</td>\n",
       "      <td>신나는</td>\n",
       "    </tr>\n",
       "    <tr>\n",
       "      <th>10</th>\n",
       "      <td>행복</td>\n",
       "      <td>1033</td>\n",
       "      <td>30</td>\n",
       "      <td>여행</td>\n",
       "    </tr>\n",
       "    <tr>\n",
       "      <th>11</th>\n",
       "      <td>행복</td>\n",
       "      <td>1033</td>\n",
       "      <td>30</td>\n",
       "      <td>봄</td>\n",
       "    </tr>\n",
       "    <tr>\n",
       "      <th>12</th>\n",
       "      <td>행복</td>\n",
       "      <td>1033</td>\n",
       "      <td>30</td>\n",
       "      <td>산책</td>\n",
       "    </tr>\n",
       "    <tr>\n",
       "      <th>13</th>\n",
       "      <td>행복</td>\n",
       "      <td>1033</td>\n",
       "      <td>30</td>\n",
       "      <td>아침</td>\n",
       "    </tr>\n",
       "    <tr>\n",
       "      <th>14</th>\n",
       "      <td>행복</td>\n",
       "      <td>1033</td>\n",
       "      <td>30</td>\n",
       "      <td>잔잔한</td>\n",
       "    </tr>\n",
       "    <tr>\n",
       "      <th>15</th>\n",
       "      <td>행복</td>\n",
       "      <td>1033</td>\n",
       "      <td>30</td>\n",
       "      <td>기분좋은</td>\n",
       "    </tr>\n",
       "    <tr>\n",
       "      <th>16</th>\n",
       "      <td>행복</td>\n",
       "      <td>1033</td>\n",
       "      <td>30</td>\n",
       "      <td>일상</td>\n",
       "    </tr>\n",
       "    <tr>\n",
       "      <th>17</th>\n",
       "      <td>행복</td>\n",
       "      <td>1033</td>\n",
       "      <td>30</td>\n",
       "      <td>여름</td>\n",
       "    </tr>\n",
       "    <tr>\n",
       "      <th>18</th>\n",
       "      <td>행복</td>\n",
       "      <td>1033</td>\n",
       "      <td>30</td>\n",
       "      <td>인디</td>\n",
       "    </tr>\n",
       "    <tr>\n",
       "      <th>19</th>\n",
       "      <td>행복</td>\n",
       "      <td>1033</td>\n",
       "      <td>30</td>\n",
       "      <td>뉴에이지</td>\n",
       "    </tr>\n",
       "    <tr>\n",
       "      <th>20</th>\n",
       "      <td>행복</td>\n",
       "      <td>1033</td>\n",
       "      <td>30</td>\n",
       "      <td>겨울</td>\n",
       "    </tr>\n",
       "    <tr>\n",
       "      <th>21</th>\n",
       "      <td>행복</td>\n",
       "      <td>1033</td>\n",
       "      <td>30</td>\n",
       "      <td>팝</td>\n",
       "    </tr>\n",
       "    <tr>\n",
       "      <th>22</th>\n",
       "      <td>행복</td>\n",
       "      <td>1033</td>\n",
       "      <td>30</td>\n",
       "      <td>여유</td>\n",
       "    </tr>\n",
       "    <tr>\n",
       "      <th>23</th>\n",
       "      <td>행복</td>\n",
       "      <td>1033</td>\n",
       "      <td>30</td>\n",
       "      <td>고백</td>\n",
       "    </tr>\n",
       "    <tr>\n",
       "      <th>24</th>\n",
       "      <td>행복</td>\n",
       "      <td>1033</td>\n",
       "      <td>30</td>\n",
       "      <td>위로</td>\n",
       "    </tr>\n",
       "    <tr>\n",
       "      <th>25</th>\n",
       "      <td>행복</td>\n",
       "      <td>1033</td>\n",
       "      <td>30</td>\n",
       "      <td>출근길</td>\n",
       "    </tr>\n",
       "    <tr>\n",
       "      <th>26</th>\n",
       "      <td>행복</td>\n",
       "      <td>1033</td>\n",
       "      <td>30</td>\n",
       "      <td>스트레스</td>\n",
       "    </tr>\n",
       "    <tr>\n",
       "      <th>27</th>\n",
       "      <td>행복</td>\n",
       "      <td>1033</td>\n",
       "      <td>30</td>\n",
       "      <td>연애</td>\n",
       "    </tr>\n",
       "    <tr>\n",
       "      <th>28</th>\n",
       "      <td>행복</td>\n",
       "      <td>1033</td>\n",
       "      <td>30</td>\n",
       "      <td>오후</td>\n",
       "    </tr>\n",
       "    <tr>\n",
       "      <th>29</th>\n",
       "      <td>행복</td>\n",
       "      <td>1033</td>\n",
       "      <td>30</td>\n",
       "      <td>연주곡</td>\n",
       "    </tr>\n",
       "  </tbody>\n",
       "</table>\n",
       "</div>"
      ],
      "text/plain": [
       "   keyword  playlist_numbers  related_tags_numbers related_tags\n",
       "0       행복              1033                    30         기분전환\n",
       "1       행복              1033                    30           사랑\n",
       "2       행복              1033                    30           감성\n",
       "3       행복              1033                    30           휴식\n",
       "4       행복              1033                    30           힐링\n",
       "5       행복              1033                    30         드라이브\n",
       "6       행복              1033                    30           설렘\n",
       "7       행복              1033                    30           카페\n",
       "8       행복              1033                    30           주말\n",
       "9       행복              1033                    30          신나는\n",
       "10      행복              1033                    30           여행\n",
       "11      행복              1033                    30            봄\n",
       "12      행복              1033                    30           산책\n",
       "13      행복              1033                    30           아침\n",
       "14      행복              1033                    30          잔잔한\n",
       "15      행복              1033                    30         기분좋은\n",
       "16      행복              1033                    30           일상\n",
       "17      행복              1033                    30           여름\n",
       "18      행복              1033                    30           인디\n",
       "19      행복              1033                    30         뉴에이지\n",
       "20      행복              1033                    30           겨울\n",
       "21      행복              1033                    30            팝\n",
       "22      행복              1033                    30           여유\n",
       "23      행복              1033                    30           고백\n",
       "24      행복              1033                    30           위로\n",
       "25      행복              1033                    30          출근길\n",
       "26      행복              1033                    30         스트레스\n",
       "27      행복              1033                    30           연애\n",
       "28      행복              1033                    30           오후\n",
       "29      행복              1033                    30          연주곡"
      ]
     },
     "execution_count": 18,
     "metadata": {},
     "output_type": "execute_result"
    }
   ],
   "source": [
    "tag_df"
   ]
  },
  {
   "cell_type": "code",
   "execution_count": 56,
   "id": "a47e03f4",
   "metadata": {},
   "outputs": [],
   "source": [
    "# 모든 관련태그 검색 후 csv 파일로 저장하는 함수\n",
    "def get_all_related_tags(keyword_list: list = total_tag_list):\n",
    "    for idx, keyword in enumerate(tqdm(keyword_list)):\n",
    "        if idx == 0:\n",
    "            tag_df = pd.DataFrame(get_related_tags(keyword))\n",
    "        else:\n",
    "            tag_df = pd.concat([tag_df, pd.DataFrame(get_related_tags(keyword))])\n",
    "    tag_df.to_csv(f'data/tags({len(keyword_list)}).csv', index=False)\n",
    "    return tag_df"
   ]
  },
  {
   "cell_type": "code",
   "execution_count": 57,
   "id": "02a6b3ab",
   "metadata": {},
   "outputs": [
    {
     "name": "stderr",
     "output_type": "stream",
     "text": [
      "100%|██████████| 43/43 [00:13<00:00,  3.09it/s]\n"
     ]
    }
   ],
   "source": [
    "# 사용예시\n",
    "tag_df = get_all_related_tags()"
   ]
  },
  {
   "cell_type": "markdown",
   "id": "fae6de68",
   "metadata": {},
   "source": [
    "### 태그 분석"
   ]
  },
  {
   "cell_type": "code",
   "execution_count": 58,
   "id": "ed37d698",
   "metadata": {},
   "outputs": [
    {
     "data": {
      "text/html": [
       "<div>\n",
       "<style scoped>\n",
       "    .dataframe tbody tr th:only-of-type {\n",
       "        vertical-align: middle;\n",
       "    }\n",
       "\n",
       "    .dataframe tbody tr th {\n",
       "        vertical-align: top;\n",
       "    }\n",
       "\n",
       "    .dataframe thead th {\n",
       "        text-align: right;\n",
       "    }\n",
       "</style>\n",
       "<table border=\"1\" class=\"dataframe\">\n",
       "  <thead>\n",
       "    <tr style=\"text-align: right;\">\n",
       "      <th></th>\n",
       "      <th>keyword</th>\n",
       "      <th>playlist_numbers</th>\n",
       "      <th>related_tags_numbers</th>\n",
       "      <th>related_tags</th>\n",
       "    </tr>\n",
       "  </thead>\n",
       "  <tbody>\n",
       "    <tr>\n",
       "      <th>0</th>\n",
       "      <td>발라드</td>\n",
       "      <td>14214</td>\n",
       "      <td>30</td>\n",
       "      <td>감성</td>\n",
       "    </tr>\n",
       "    <tr>\n",
       "      <th>1</th>\n",
       "      <td>발라드</td>\n",
       "      <td>14214</td>\n",
       "      <td>30</td>\n",
       "      <td>잔잔한</td>\n",
       "    </tr>\n",
       "    <tr>\n",
       "      <th>2</th>\n",
       "      <td>발라드</td>\n",
       "      <td>14214</td>\n",
       "      <td>30</td>\n",
       "      <td>이별</td>\n",
       "    </tr>\n",
       "    <tr>\n",
       "      <th>3</th>\n",
       "      <td>발라드</td>\n",
       "      <td>14214</td>\n",
       "      <td>30</td>\n",
       "      <td>사랑</td>\n",
       "    </tr>\n",
       "    <tr>\n",
       "      <th>4</th>\n",
       "      <td>발라드</td>\n",
       "      <td>14214</td>\n",
       "      <td>30</td>\n",
       "      <td>기분전환</td>\n",
       "    </tr>\n",
       "    <tr>\n",
       "      <th>...</th>\n",
       "      <td>...</td>\n",
       "      <td>...</td>\n",
       "      <td>...</td>\n",
       "      <td>...</td>\n",
       "    </tr>\n",
       "    <tr>\n",
       "      <th>1028</th>\n",
       "      <td>슬픈</td>\n",
       "      <td>4461</td>\n",
       "      <td>30</td>\n",
       "      <td>힐링</td>\n",
       "    </tr>\n",
       "    <tr>\n",
       "      <th>1029</th>\n",
       "      <td>슬픈</td>\n",
       "      <td>4461</td>\n",
       "      <td>30</td>\n",
       "      <td>헤어짐</td>\n",
       "    </tr>\n",
       "    <tr>\n",
       "      <th>1030</th>\n",
       "      <td>슬픈</td>\n",
       "      <td>4461</td>\n",
       "      <td>30</td>\n",
       "      <td>팝송</td>\n",
       "    </tr>\n",
       "    <tr>\n",
       "      <th>1031</th>\n",
       "      <td>슬픈</td>\n",
       "      <td>4461</td>\n",
       "      <td>30</td>\n",
       "      <td>이별노래</td>\n",
       "    </tr>\n",
       "    <tr>\n",
       "      <th>1032</th>\n",
       "      <td>슬픈</td>\n",
       "      <td>4461</td>\n",
       "      <td>30</td>\n",
       "      <td>슬픔</td>\n",
       "    </tr>\n",
       "  </tbody>\n",
       "</table>\n",
       "<p>1033 rows × 4 columns</p>\n",
       "</div>"
      ],
      "text/plain": [
       "     keyword  playlist_numbers  related_tags_numbers related_tags\n",
       "0        발라드             14214                    30           감성\n",
       "1        발라드             14214                    30          잔잔한\n",
       "2        발라드             14214                    30           이별\n",
       "3        발라드             14214                    30           사랑\n",
       "4        발라드             14214                    30         기분전환\n",
       "...      ...               ...                   ...          ...\n",
       "1028      슬픈              4461                    30           힐링\n",
       "1029      슬픈              4461                    30          헤어짐\n",
       "1030      슬픈              4461                    30           팝송\n",
       "1031      슬픈              4461                    30         이별노래\n",
       "1032      슬픈              4461                    30           슬픔\n",
       "\n",
       "[1033 rows x 4 columns]"
      ]
     },
     "execution_count": 58,
     "metadata": {},
     "output_type": "execute_result"
    }
   ],
   "source": [
    "pd.read_csv('data/tags(43).csv')"
   ]
  },
  {
   "cell_type": "code",
   "execution_count": 62,
   "id": "3d938e1b",
   "metadata": {},
   "outputs": [
    {
     "data": {
      "text/html": [
       "<div>\n",
       "<style scoped>\n",
       "    .dataframe tbody tr th:only-of-type {\n",
       "        vertical-align: middle;\n",
       "    }\n",
       "\n",
       "    .dataframe tbody tr th {\n",
       "        vertical-align: top;\n",
       "    }\n",
       "\n",
       "    .dataframe thead th {\n",
       "        text-align: right;\n",
       "    }\n",
       "</style>\n",
       "<table border=\"1\" class=\"dataframe\">\n",
       "  <thead>\n",
       "    <tr style=\"text-align: right;\">\n",
       "      <th></th>\n",
       "      <th>keyword</th>\n",
       "      <th>related_tags</th>\n",
       "    </tr>\n",
       "  </thead>\n",
       "  <tbody>\n",
       "    <tr>\n",
       "      <th>count</th>\n",
       "      <td>1033</td>\n",
       "      <td>1033</td>\n",
       "    </tr>\n",
       "    <tr>\n",
       "      <th>unique</th>\n",
       "      <td>33</td>\n",
       "      <td>325</td>\n",
       "    </tr>\n",
       "    <tr>\n",
       "      <th>top</th>\n",
       "      <td>슬픈</td>\n",
       "      <td>기분전환</td>\n",
       "    </tr>\n",
       "    <tr>\n",
       "      <th>freq</th>\n",
       "      <td>60</td>\n",
       "      <td>35</td>\n",
       "    </tr>\n",
       "  </tbody>\n",
       "</table>\n",
       "</div>"
      ],
      "text/plain": [
       "       keyword related_tags\n",
       "count     1033         1033\n",
       "unique      33          325\n",
       "top         슬픈         기분전환\n",
       "freq        60           35"
      ]
     },
     "execution_count": 62,
     "metadata": {},
     "output_type": "execute_result"
    }
   ],
   "source": [
    "tag_df.describe(include='object')"
   ]
  },
  {
   "cell_type": "code",
   "execution_count": 66,
   "id": "3a9a0d57",
   "metadata": {},
   "outputs": [
    {
     "data": {
      "text/plain": [
       "325"
      ]
     },
     "execution_count": 66,
     "metadata": {},
     "output_type": "execute_result"
    }
   ],
   "source": [
    "tag_df['related_tags'].nunique()"
   ]
  },
  {
   "cell_type": "code",
   "execution_count": 73,
   "id": "99895c1f",
   "metadata": {},
   "outputs": [
    {
     "data": {
      "text/plain": [
       "기분전환    35\n",
       "감성      33\n",
       "힐링      26\n",
       "휴식      26\n",
       "잔잔한     25\n",
       "        ..\n",
       "송가인      1\n",
       "영탁       1\n",
       "트롯       1\n",
       "정미애      1\n",
       "우울할때     1\n",
       "Name: related_tags, Length: 325, dtype: int64"
      ]
     },
     "execution_count": 73,
     "metadata": {},
     "output_type": "execute_result"
    }
   ],
   "source": [
    "tag_df['related_tags'].value_counts()"
   ]
  },
  {
   "cell_type": "code",
   "execution_count": 80,
   "id": "6333f89d",
   "metadata": {},
   "outputs": [],
   "source": [
    "related_tag_list = tag_df['related_tags'].unique().tolist()"
   ]
  },
  {
   "cell_type": "code",
   "execution_count": 82,
   "id": "b9fce1c1",
   "metadata": {},
   "outputs": [
    {
     "name": "stdout",
     "output_type": "stream",
     "text": [
      "['감성', '잔잔한', '이별', '사랑', '기분전환', '카페', '새벽', '추억', '겨울', '댄스', '휴식', '드라이브', '인디', '알앤비', '가을', '힙합', '밤', '슬픔', '케이팝', '힐링', '비오는날', '명곡', '최신가요', '매장음악', '오늘신곡모음', '위로', '가요', '회상', '신나는', '아이돌', '랩', '발라드', '국내힙합', 'HipHop', '트렌디', '국힙', '외힙', '감성힙합', '운동', '그루브', '스트레스', '팝', '클럽', '외국힙합', '여행', '비트', 'RnB', '인디음악', '봄', '어쿠스틱', '설렘', '여름', '포크', '분위기', '산책', '밴드', '걸그룹', 'EDM', 'kpop', 'Pop', '내적댄스', '헬스', '다이어트', '시원한', '파티', '청량', '피아노', '연주곡', '집중', '자장가', '공부', '독서', '편안한', '클래식', '아침', '북카페', '차분한', '배경음악', '명상', '숙면', '재즈', '잠들기전', '여유', '카페음악', '소울', '감각적인', '팝송', 'Jazz', '커피', '크리스마스', '매장', '뉴에이지', '보사노바', '주말', '캐롤', '태교', 'classic', '바이올린', '오케스트라', '첼로', '모닝콜', '락', '메탈', 'Rock', '록메탈', '해외록', '스쿨오브록', 'Metal', '락메탈', '헤비메탈', '국내록', '강렬한', '얼터너티브', '록발라드', '록명곡', '하드록', '취향저격', '드라마', '영화', '영화음악', '사운드트랙', '드라마ost', '애니메이션', 'bgm', '디즈니', '영화OST', '감동', '해외', '일렉트로니카', '일렉', '하우스', 'electronica', '일렉트로닉', '빌로우', '페스티벌', '불금', '이디엠', 'DJ', '영국', '찬양', '은혜', '감사', 'Playlist', '힘들때', '국내ccm', '해외CCM', '라이브워십', '파워DJ_CCM', '워십', '예배', 'CCM추천', '기도', '교회', '찬송가', '추천', '예수님', '기독교', '묵상', '신나는ccm', '하나님', '제이팝', '일본', '일본노래', '일본음악', '애니', 'JRock', 'OST', 'JPOP추천', '우타이테', 'JPOP모음', 'J_POP', '성인가요', '미스터트롯', '임영웅', '노래방', '미스트롯', '송가인', '영탁', '트롯', '정미애', '전통가요', '고속도로', '회식', '이찬원', '명절', '흥겨운', '김호중', '정동원', '장민호', 'World', 'etc', '라틴', '지역별', '샹송', '낭만', '프랑스', '프렌치팝', '경쾌한', '이국적인', '칸초네', '레게', '브라질', '시대별', 'Latin', '열정', '블루스록', '기타', 'Blues', '록', '컨트리', '스윙', '레전드', '한국블루스', '빌보드핫차트', '빌보드Hot50', '컨트리팝', 'LilNasX', 'Country', '블루스', '테일러스위프트', '1990년대', '몽환', '꿈', '듀엣', '몽환적', '동심', '비', '케미', '신비로운', '콜라보', '로맨틱', '신비', '여름밤', '하모니', '몽환적인', '신선한', '여유로운', 'Chill', '상쾌', '베이지멜로우', '저녁', '나른한', '축제', '2019', '공연', '내한', '콘서트', '한강', '더위', '열대야', '퇴근길', '시티팝', '멜로디', '힙합갬성', '쇼미더머니', '그루브한', '느낌있는', 'ralalra', '노랫말을듣는다', '피곤', '혼자', '노동요', '맑은', '하루', '오후', '우울', '장마', '날씨', '흐린날', '감성적인', '생각', '센치', '버스', '달달', '연애', '까페', '썸', '고백', '달달한', '데이트', '두근두근', '기분좋은', '즐거운', '따뜻한', '연말', '밝은', '하이틴', '상쾌한', '감성적', '멍한', '빡센랩', '기분안좋을때', '너는몰라', '눈물', '애절한', '우울한', '그리움', '짝사랑', '아련한', '쓸쓸한', '헤어짐', '이별노래', '빈티지', '온화', '심신안정', '호텔라운지', '아름다운', '듣기좋은', '나른할때', '산뜻한', '10년대', '진실', '낮잠', '숲속', '편안함', '희망', '지브리', '혼술', '연인', '봄노래', '슬픈', '어두운', '센치한', '새벽감성', '우울할때']\n"
     ]
    }
   ],
   "source": [
    "print(related_tag_list)"
   ]
  },
  {
   "cell_type": "markdown",
   "id": "858e0d28",
   "metadata": {},
   "source": [
    "## 플레이리스트 수집기"
   ]
  },
  {
   "cell_type": "code",
   "execution_count": 74,
   "id": "a7e2bfdc",
   "metadata": {},
   "outputs": [],
   "source": [
    " def get_playlist(keyword: str = '행복', page_no: int = 0, total: bool = True):\n",
    "    # keyword to unicode\n",
    "    keyword_unicode = keyword_to_unicode(keyword)\n",
    "    # Headers information    \n",
    "    headers = {\n",
    "        'User-Agent': 'Mozilla/5.0 (Windows NT 10.0; Win64; x64) AppleWebKit/537.36 (KHTML, like Gecko) Chrome/103.0.0.0 Safari/537.36',\n",
    "    }\n",
    "    titles = []\n",
    "    # get all playlists\n",
    "    if total == True:\n",
    "        # get tag numbers\n",
    "        playlist_tag_url = f'https://www.melon.com/dj/djfinder/djfinder_inform.htm?djSearchType=T&djSearchKeyword={keyword}'\n",
    "        # Request - Post\n",
    "        response_tag = requests.get(playlist_tag_url, headers=headers)\n",
    "        # beautifull suop loads\n",
    "        html_tag = response_tag.text\n",
    "        # parse text by beautifullsoup\n",
    "        parse_tag = bs(html_tag, 'lxml')\n",
    "        # find imformations\n",
    "        playlist_numbers_txt = parse_tag.find_all(\"p\", \"text\")\n",
    "        playlist_numbers = int(re.findall(r'[0-9]+', playlist_numbers_txt[0].text)[0])\n",
    "        \n",
    "        print(keyword,\"키워드로 \",playlist_numbers,\"전체 플레이리스트 수집을 시작합니다.\")\n",
    "        for page_no in range(playlist_numbers//20 + 1):\n",
    "            startIndex = page_no*20 + 1\n",
    "            playlist_url = f\"https://www.melon.com/dj/djfinder/djfinder_inform.htm?startIndex={startIndex}&pageSize=20&djSearchType=T&djSearchKeyword=%23{keyword_unicode}&orderBy=POP&pagingFlag=Y&tagSearchType=S\"\n",
    "            # Request - Post\n",
    "            response = requests.get(playlist_url, headers=headers)\n",
    "            # beautifull suop loads\n",
    "            html = response.text\n",
    "            # parse text by beautifullsoup\n",
    "            parse = bs(html, 'lxml')\n",
    "            # find imformations\n",
    "            titles_txt = parse.find_all(\"a\", \"ellipsis album_name\")\n",
    "            # titles extend\n",
    "            titles.extend(titles_txt)\n",
    "            print(\"*\", end=\"\")\n",
    "    # get playlist page        \n",
    "    else:\n",
    "            print(keyword,\"키워드로 \",page_no,\"번 페이지 수집을 시작합니다.\")\n",
    "            startIndex = page_no*20 + 1\n",
    "            playlist_url = f\"https://www.melon.com/dj/djfinder/djfinder_inform.htm?startIndex={startIndex}&pageSize=20&djSearchType=T&djSearchKeyword=%23{keyword_unicode}&orderBy=POP&pagingFlag=Y&tagSearchType=S\"\n",
    "            # Request - Post\n",
    "            response = requests.get(playlist_url, headers=headers)\n",
    "            # beautifull suop loads\n",
    "            html = response.text\n",
    "            # parse text by beautifullsoup\n",
    "            parse = bs(html, 'lxml')\n",
    "            # find imformations\n",
    "            titles_txt = parse.find_all(\"a\", \"ellipsis album_name\")\n",
    "            # titles extend\n",
    "            titles.extend(titles_txt)\n",
    "    \n",
    "    # make dataframe \n",
    "    df = pd.DataFrame()\n",
    "    plylstSeq_list = []\n",
    "    title_list = []\n",
    "    for title_no in range(len(titles)):\n",
    "        plylstSeq_list.append(re.findall(r'[0-9][0-9][0-9]+', titles[title_no]['href'])[0])\n",
    "        title_list.append(titles[title_no]['title'][:-5])\n",
    "    \n",
    "    df['plylstSeq'] = plylstSeq_list\n",
    "    df['title'] = title_list\n",
    "    df['tag'] = keyword\n",
    "    print(\"\")\n",
    "    print(\"complete.\")\n",
    "    return df"
   ]
  },
  {
   "cell_type": "code",
   "execution_count": 34,
   "id": "53e8fc04",
   "metadata": {},
   "outputs": [
    {
     "name": "stdout",
     "output_type": "stream",
     "text": [
      "행복 키워드로  1033 전체 플레이리스트 수집을 시작합니다.\n",
      "****************************************************\n",
      "complete.\n"
     ]
    }
   ],
   "source": [
    "# 사용예시\n",
    "playlist_df = get_playlist(keyword='행복', page_no=0, total=True)"
   ]
  },
  {
   "cell_type": "code",
   "execution_count": 35,
   "id": "59d043af",
   "metadata": {},
   "outputs": [
    {
     "data": {
      "text/html": [
       "<div>\n",
       "<style scoped>\n",
       "    .dataframe tbody tr th:only-of-type {\n",
       "        vertical-align: middle;\n",
       "    }\n",
       "\n",
       "    .dataframe tbody tr th {\n",
       "        vertical-align: top;\n",
       "    }\n",
       "\n",
       "    .dataframe thead th {\n",
       "        text-align: right;\n",
       "    }\n",
       "</style>\n",
       "<table border=\"1\" class=\"dataframe\">\n",
       "  <thead>\n",
       "    <tr style=\"text-align: right;\">\n",
       "      <th></th>\n",
       "      <th>plylstSeq</th>\n",
       "      <th>title</th>\n",
       "      <th>tag</th>\n",
       "    </tr>\n",
       "  </thead>\n",
       "  <tbody>\n",
       "    <tr>\n",
       "      <th>0</th>\n",
       "      <td>495119848</td>\n",
       "      <td>나도 모르게 미소가 지어지는 싱그러운 여름날의 JAZZ</td>\n",
       "      <td>행복</td>\n",
       "    </tr>\n",
       "    <tr>\n",
       "      <th>1</th>\n",
       "      <td>444702404</td>\n",
       "      <td>언제 들어도 기분 좋아지는 멜로디의 POP</td>\n",
       "      <td>행복</td>\n",
       "    </tr>\n",
       "    <tr>\n",
       "      <th>2</th>\n",
       "      <td>504995932</td>\n",
       "      <td>새벽 비행기에서 듣고 싶은 몽글몽글한 감성 POP</td>\n",
       "      <td>행복</td>\n",
       "    </tr>\n",
       "    <tr>\n",
       "      <th>3</th>\n",
       "      <td>511123665</td>\n",
       "      <td>여유로운 아침, 따스한 햇빛이 기분 좋게 나를 깨울 때</td>\n",
       "      <td>행복</td>\n",
       "    </tr>\n",
       "    <tr>\n",
       "      <th>4</th>\n",
       "      <td>492052479</td>\n",
       "      <td>몽글몽글 첫사랑의 기억 -`♡´- Korea High Teen ✧</td>\n",
       "      <td>행복</td>\n",
       "    </tr>\n",
       "    <tr>\n",
       "      <th>...</th>\n",
       "      <td>...</td>\n",
       "      <td>...</td>\n",
       "      <td>...</td>\n",
       "    </tr>\n",
       "    <tr>\n",
       "      <th>1028</th>\n",
       "      <td>512649653</td>\n",
       "      <td>카페에서 들으면 잠시 감상하게 되는 노래</td>\n",
       "      <td>행복</td>\n",
       "    </tr>\n",
       "    <tr>\n",
       "      <th>1029</th>\n",
       "      <td>505616635</td>\n",
       "      <td>듣기만 해도 기분 up되는 걸그룹 모음</td>\n",
       "      <td>행복</td>\n",
       "    </tr>\n",
       "    <tr>\n",
       "      <th>1030</th>\n",
       "      <td>505287701</td>\n",
       "      <td>집콕 주말, 여유롭게 듣기 좋은 ᴘᴏᴘ</td>\n",
       "      <td>행복</td>\n",
       "    </tr>\n",
       "    <tr>\n",
       "      <th>1031</th>\n",
       "      <td>511038158</td>\n",
       "      <td>행복지수 UP! 피곤한 발걸음이 가벼워지는 기분 좋은 디즈니 OST ◡̎</td>\n",
       "      <td>행복</td>\n",
       "    </tr>\n",
       "    <tr>\n",
       "      <th>1032</th>\n",
       "      <td>509775151</td>\n",
       "      <td>상쾌한 아침으로 시작하는 하루♡̆̎</td>\n",
       "      <td>행복</td>\n",
       "    </tr>\n",
       "  </tbody>\n",
       "</table>\n",
       "<p>1033 rows × 3 columns</p>\n",
       "</div>"
      ],
      "text/plain": [
       "      plylstSeq                                     title tag\n",
       "0     495119848            나도 모르게 미소가 지어지는 싱그러운 여름날의 JAZZ  행복\n",
       "1     444702404                   언제 들어도 기분 좋아지는 멜로디의 POP  행복\n",
       "2     504995932               새벽 비행기에서 듣고 싶은 몽글몽글한 감성 POP  행복\n",
       "3     511123665            여유로운 아침, 따스한 햇빛이 기분 좋게 나를 깨울 때  행복\n",
       "4     492052479      몽글몽글 첫사랑의 기억 -`♡´- Korea High Teen ✧  행복\n",
       "...         ...                                       ...  ..\n",
       "1028  512649653                    카페에서 들으면 잠시 감상하게 되는 노래  행복\n",
       "1029  505616635                     듣기만 해도 기분 up되는 걸그룹 모음  행복\n",
       "1030  505287701                     집콕 주말, 여유롭게 듣기 좋은 ᴘᴏᴘ  행복\n",
       "1031  511038158  행복지수 UP! 피곤한 발걸음이 가벼워지는 기분 좋은 디즈니 OST ◡̎  행복\n",
       "1032  509775151                       상쾌한 아침으로 시작하는 하루♡̆̎  행복\n",
       "\n",
       "[1033 rows x 3 columns]"
      ]
     },
     "execution_count": 35,
     "metadata": {},
     "output_type": "execute_result"
    }
   ],
   "source": [
    "playlist_df"
   ]
  },
  {
   "cell_type": "code",
   "execution_count": 169,
   "id": "dbbd4cc3",
   "metadata": {},
   "outputs": [],
   "source": [
    "# 태그 리스트를 받아서 모든 플레이리스트를 csv 형태로 저장해주는 함수\n",
    "def get_all_playlist(keyword_list: list = ['행복','사랑','슬픔']):\n",
    "    playlist_df = pd.DataFrame()\n",
    "    for idx, keyword in enumerate(tqdm(keyword_list)):\n",
    "        print(idx, keyword)\n",
    "        if(idx == 0):\n",
    "            playlist_df = get_playlist(keyword, 0, True)\n",
    "        else:\n",
    "            playlist_df = pd.concat([playlist_df, get_playlist(keyword, 0, True)])\n",
    "    playlist_df.to_csv(f'data/playlist({len(keyword_list)}).csv', index=False)\n",
    "    return playlist_df"
   ]
  },
  {
   "cell_type": "code",
   "execution_count": 84,
   "id": "e933b1df",
   "metadata": {},
   "outputs": [
    {
     "name": "stderr",
     "output_type": "stream",
     "text": [
      "\r",
      "  0%|          | 0/325 [00:00<?, ?it/s]"
     ]
    },
    {
     "name": "stdout",
     "output_type": "stream",
     "text": [
      "0 감성\n",
      "감성 키워드로  19395 전체 플레이리스트 수집을 시작합니다.\n",
      "********************************************************************************************************************************************************************************************************************************************************************************************************************************************************************************************************************************************************************************************************************************************************************************************************************************************************************************************************************************************************************************************************************************************************************************************************************************************************************************************************"
     ]
    },
    {
     "name": "stderr",
     "output_type": "stream",
     "text": [
      "\r",
      "  0%|          | 1/325 [02:11<11:48:48, 131.26s/it]"
     ]
    },
    {
     "name": "stdout",
     "output_type": "stream",
     "text": [
      "**\n",
      "complete.\n",
      "1 잔잔한\n",
      "잔잔한 키워드로  15523 전체 플레이리스트 수집을 시작합니다.\n",
      "********************************************************************************************************************************************************************************************************************************************************************************************************************************************************************************************************************************************************************************************************************************************************************************************************************************************************************************************************************************************************************************************************"
     ]
    },
    {
     "name": "stderr",
     "output_type": "stream",
     "text": [
      "\r",
      "  1%|          | 2/325 [04:27<12:03:32, 134.40s/it]"
     ]
    },
    {
     "name": "stdout",
     "output_type": "stream",
     "text": [
      "*\n",
      "complete.\n",
      "2 이별\n",
      "이별 키워드로  6123 전체 플레이리스트 수집을 시작합니다.\n",
      "******************************************************************************************************************************************************************************************************************************************************************************************************************"
     ]
    },
    {
     "name": "stderr",
     "output_type": "stream",
     "text": [
      "\r",
      "  1%|          | 3/325 [05:24<8:51:02, 98.95s/it]  "
     ]
    },
    {
     "name": "stdout",
     "output_type": "stream",
     "text": [
      "*\n",
      "complete.\n",
      "3 사랑\n",
      "사랑 키워드로  10985 전체 플레이리스트 수집을 시작합니다.\n",
      "*********************************************************************************************************************************************************************************************************************************************************************************************************************************************************************************************************************************************************************************************************************************************************************"
     ]
    },
    {
     "name": "stderr",
     "output_type": "stream",
     "text": [
      "\r",
      "  1%|          | 4/325 [07:24<9:33:42, 107.24s/it]"
     ]
    },
    {
     "name": "stdout",
     "output_type": "stream",
     "text": [
      "*\n",
      "complete.\n",
      "4 기분전환\n",
      "기분전환 키워드로  25073 전체 플레이리스트 수집을 시작합니다.\n",
      "*****************************************************************************************************************************************************************************************************************************************************************************************************************************************************************************************************************************************************************************************************************************************************************************************************************************************************************************************************************************************************************************************************************************************************************************************************************************************************************************************************************************************************************************************************************************************************************************************************************************************************************************************************"
     ]
    },
    {
     "name": "stderr",
     "output_type": "stream",
     "text": [
      "\r",
      "  2%|▏         | 5/325 [10:23<11:50:02, 133.13s/it]"
     ]
    },
    {
     "name": "stdout",
     "output_type": "stream",
     "text": [
      "*\n",
      "complete.\n",
      "5 카페\n",
      "카페 키워드로  11671 전체 플레이리스트 수집을 시작합니다.\n",
      "*******************************************************************************************************************************************************************************************************************************************************************************************************************************************************************************************************************************************************************************************************************************************************************************************************"
     ]
    },
    {
     "name": "stderr",
     "output_type": "stream",
     "text": [
      "\r",
      "  2%|▏         | 6/325 [11:55<10:33:00, 119.06s/it]"
     ]
    },
    {
     "name": "stdout",
     "output_type": "stream",
     "text": [
      "*\n",
      "complete.\n",
      "6 새벽\n",
      "새벽 키워드로  11083 전체 플레이리스트 수집을 시작합니다.\n",
      "***************************************************************************************************************************************************************************************************************************************************************************************************************************************************************************************************************************************************************************************************************************************************************************\n",
      "complete.\n"
     ]
    },
    {
     "name": "stderr",
     "output_type": "stream",
     "text": [
      "\r",
      "  2%|▏         | 7/325 [13:29<9:48:07, 110.97s/it] "
     ]
    },
    {
     "name": "stdout",
     "output_type": "stream",
     "text": [
      "7 추억\n",
      "추억 키워드로  8520 전체 플레이리스트 수집을 시작합니다.\n",
      "*****************************************************************************************************************************************************************************************************************************************************************************************************************************************************************************************************************************************"
     ]
    },
    {
     "name": "stderr",
     "output_type": "stream",
     "text": [
      "\r",
      "  2%|▏         | 8/325 [14:50<8:55:07, 101.29s/it]"
     ]
    },
    {
     "name": "stdout",
     "output_type": "stream",
     "text": [
      "**\n",
      "complete.\n",
      "8 겨울\n",
      "겨울 키워드로  5246 전체 플레이리스트 수집을 시작합니다.\n",
      "**********************************************************************************************************************************************************************************************************************************************************************"
     ]
    },
    {
     "name": "stderr",
     "output_type": "stream",
     "text": [
      "\r",
      "  3%|▎         | 9/325 [15:34<7:19:21, 83.42s/it] "
     ]
    },
    {
     "name": "stdout",
     "output_type": "stream",
     "text": [
      "*\n",
      "complete.\n",
      "9 댄스\n",
      "댄스 키워드로  5649 전체 플레이리스트 수집을 시작합니다.\n",
      "*****************************************************************************************************************************************************************************************************************************************************************************************"
     ]
    },
    {
     "name": "stderr",
     "output_type": "stream",
     "text": [
      "\r",
      "  3%|▎         | 10/325 [16:20<6:16:48, 71.77s/it]"
     ]
    },
    {
     "name": "stdout",
     "output_type": "stream",
     "text": [
      "**\n",
      "complete.\n",
      "10 휴식\n",
      "휴식 키워드로  16161 전체 플레이리스트 수집을 시작합니다.\n",
      "****************************************************************************************************************************************************************************************************************************************************************************************************************************************************************************************************************************************************************************************************************************************************************************************************************************************************************************************************************************************************************************************************************************************"
     ]
    },
    {
     "name": "stderr",
     "output_type": "stream",
     "text": [
      "\r",
      "  3%|▎         | 11/325 [18:08<7:13:35, 82.85s/it]"
     ]
    },
    {
     "name": "stdout",
     "output_type": "stream",
     "text": [
      "*\n",
      "complete.\n",
      "11 드라이브\n",
      "드라이브 키워드로  16428 전체 플레이리스트 수집을 시작합니다.\n",
      "*****************************************************************************************************************************************************************************************************************************************************************************************************************************************************************************************************************************************************************************************************************************************************************************************************************************************************************************************************************************************************************************************************************************************************"
     ]
    },
    {
     "name": "stderr",
     "output_type": "stream",
     "text": [
      "\r",
      "  4%|▎         | 12/325 [19:33<7:16:02, 83.59s/it]"
     ]
    },
    {
     "name": "stdout",
     "output_type": "stream",
     "text": [
      "*\n",
      "complete.\n",
      "12 인디\n",
      "인디 키워드로  6182 전체 플레이리스트 수집을 시작합니다.\n",
      "**********************************************************************************************************************************************************************************************************************************************************************************************************************"
     ]
    },
    {
     "name": "stderr",
     "output_type": "stream",
     "text": [
      "\r",
      "  4%|▍         | 13/325 [20:10<6:02:11, 69.65s/it]"
     ]
    },
    {
     "name": "stdout",
     "output_type": "stream",
     "text": [
      "\n",
      "complete.\n",
      "13 알앤비\n",
      "알앤비 키워드로  6955 전체 플레이리스트 수집을 시작합니다.\n",
      "***********************************************************************************************************************************************************************************************************************************************************************************************************************************************************"
     ]
    },
    {
     "name": "stderr",
     "output_type": "stream",
     "text": [
      "\r",
      "  4%|▍         | 14/325 [20:54<5:19:44, 61.69s/it]"
     ]
    },
    {
     "name": "stdout",
     "output_type": "stream",
     "text": [
      "*\n",
      "complete.\n",
      "14 가을\n",
      "가을 키워드로  5138 전체 플레이리스트 수집을 시작합니다.\n",
      "****************************************************************************************************************************************************************************************************************************************************************"
     ]
    },
    {
     "name": "stderr",
     "output_type": "stream",
     "text": [
      "\r",
      "  5%|▍         | 15/325 [21:24<4:30:38, 52.38s/it]"
     ]
    },
    {
     "name": "stdout",
     "output_type": "stream",
     "text": [
      "*\n",
      "complete.\n",
      "15 힙합\n",
      "힙합 키워드로  10345 전체 플레이리스트 수집을 시작합니다.\n",
      "************************************************************************************************************************************************************************************************************************************************************************************************************************************************************************************************************************************************************************************************************************************"
     ]
    },
    {
     "name": "stderr",
     "output_type": "stream",
     "text": [
      "\r",
      "  5%|▍         | 16/325 [22:28<4:47:05, 55.75s/it]"
     ]
    },
    {
     "name": "stdout",
     "output_type": "stream",
     "text": [
      "**\n",
      "complete.\n",
      "16 밤\n",
      "밤 키워드로  9640 전체 플레이리스트 수집을 시작합니다.\n",
      "*************************************************************************************************************************************************************************************************************************************************************************************************************************************************************************************************************************************************************************************************"
     ]
    },
    {
     "name": "stderr",
     "output_type": "stream",
     "text": [
      "\r",
      "  5%|▌         | 17/325 [23:28<4:52:35, 57.00s/it]"
     ]
    },
    {
     "name": "stdout",
     "output_type": "stream",
     "text": [
      "**\n",
      "complete.\n",
      "17 슬픔\n",
      "슬픔 키워드로  4461 전체 플레이리스트 수집을 시작합니다.\n",
      "******************************************************************************************************************************************************************************************************************************"
     ]
    },
    {
     "name": "stderr",
     "output_type": "stream",
     "text": [
      "\r",
      "  6%|▌         | 18/325 [23:55<4:05:25, 47.96s/it]"
     ]
    },
    {
     "name": "stdout",
     "output_type": "stream",
     "text": [
      "**\n",
      "complete.\n",
      "18 케이팝\n",
      "케이팝 키워드로  2820 전체 플레이리스트 수집을 시작합니다.\n",
      "*******************************************************************************************************************************************"
     ]
    },
    {
     "name": "stderr",
     "output_type": "stream",
     "text": [
      "\r",
      "  6%|▌         | 19/325 [24:13<3:18:38, 38.95s/it]"
     ]
    },
    {
     "name": "stdout",
     "output_type": "stream",
     "text": [
      "***\n",
      "complete.\n",
      "19 힐링\n",
      "힐링 키워드로  12890 전체 플레이리스트 수집을 시작합니다.\n",
      "*********************************************************************************************************************************************************************************************************************************************************************************************************************************************************************************************************************************************************************************************************************************************************************************************************************************************************************"
     ]
    },
    {
     "name": "stderr",
     "output_type": "stream",
     "text": [
      "\r",
      "  6%|▌         | 20/325 [25:24<4:06:34, 48.51s/it]"
     ]
    },
    {
     "name": "stdout",
     "output_type": "stream",
     "text": [
      "\n",
      "complete.\n",
      "20 비오는날\n",
      "비오는날 키워드로  3940 전체 플레이리스트 수집을 시작합니다.\n",
      "*****************************************************************************************************************************************************************************************************"
     ]
    },
    {
     "name": "stderr",
     "output_type": "stream",
     "text": [
      "\r",
      "  6%|▋         | 21/325 [25:47<3:27:45, 41.00s/it]"
     ]
    },
    {
     "name": "stdout",
     "output_type": "stream",
     "text": [
      "*\n",
      "complete.\n",
      "21 명곡\n",
      "명곡 키워드로  4011 전체 플레이리스트 수집을 시작합니다.\n",
      "*******************************************************************************************************************************************************************************************************"
     ]
    },
    {
     "name": "stderr",
     "output_type": "stream",
     "text": [
      "\r",
      "  7%|▋         | 22/325 [26:12<3:03:05, 36.25s/it]"
     ]
    },
    {
     "name": "stdout",
     "output_type": "stream",
     "text": [
      "**\n",
      "complete.\n",
      "22 최신가요\n",
      "최신가요 키워드로  435 전체 플레이리스트 수집을 시작합니다.\n",
      "*********************"
     ]
    },
    {
     "name": "stderr",
     "output_type": "stream",
     "text": [
      "\r",
      "  7%|▋         | 23/325 [26:15<2:11:37, 26.15s/it]"
     ]
    },
    {
     "name": "stdout",
     "output_type": "stream",
     "text": [
      "*\n",
      "complete.\n",
      "23 매장음악\n",
      "매장음악 키워드로  5950 전체 플레이리스트 수집을 시작합니다.\n",
      "********************************************************************************************************************************************************************************************************************************************************************************************************"
     ]
    },
    {
     "name": "stderr",
     "output_type": "stream",
     "text": [
      "\r",
      "  7%|▋         | 24/325 [26:51<2:25:47, 29.06s/it]"
     ]
    },
    {
     "name": "stdout",
     "output_type": "stream",
     "text": [
      "**\n",
      "complete.\n",
      "24 오늘신곡모음\n",
      "오늘신곡모음 키워드로  376 전체 플레이리스트 수집을 시작합니다.\n",
      "*****************"
     ]
    },
    {
     "name": "stderr",
     "output_type": "stream",
     "text": [
      "\r",
      "  8%|▊         | 25/325 [26:53<1:45:18, 21.06s/it]"
     ]
    },
    {
     "name": "stdout",
     "output_type": "stream",
     "text": [
      "**\n",
      "complete.\n",
      "25 위로\n",
      "위로 키워드로  3233 전체 플레이리스트 수집을 시작합니다.\n",
      "****************************************************************************************************************************************************************"
     ]
    },
    {
     "name": "stderr",
     "output_type": "stream",
     "text": [
      "\r",
      "  8%|▊         | 26/325 [27:14<1:43:55, 20.86s/it]"
     ]
    },
    {
     "name": "stdout",
     "output_type": "stream",
     "text": [
      "**\n",
      "complete.\n",
      "26 가요\n",
      "가요 키워드로  1539 전체 플레이리스트 수집을 시작합니다.\n",
      "****************************************************************************"
     ]
    },
    {
     "name": "stderr",
     "output_type": "stream",
     "text": [
      "\r",
      "  8%|▊         | 27/325 [27:23<1:25:56, 17.30s/it]"
     ]
    },
    {
     "name": "stdout",
     "output_type": "stream",
     "text": [
      "*\n",
      "complete.\n",
      "27 회상\n",
      "회상 키워드로  5336 전체 플레이리스트 수집을 시작합니다.\n",
      "**************************************************************************************************************************************************************************************************************************************************************************"
     ]
    },
    {
     "name": "stderr",
     "output_type": "stream",
     "text": [
      "\r",
      "  9%|▊         | 28/325 [27:54<1:46:46, 21.57s/it]"
     ]
    },
    {
     "name": "stdout",
     "output_type": "stream",
     "text": [
      "*\n",
      "complete.\n",
      "28 신나는\n",
      "신나는 키워드로  11420 전체 플레이리스트 수집을 시작합니다.\n",
      "********************************************************************************************************************************************************************************************************************************************************************************************************************************************************************************************************************************************************************************************************************************************************************************************"
     ]
    },
    {
     "name": "stderr",
     "output_type": "stream",
     "text": [
      "\r",
      "  9%|▉         | 29/325 [29:02<2:55:27, 35.56s/it]"
     ]
    },
    {
     "name": "stdout",
     "output_type": "stream",
     "text": [
      "\n",
      "complete.\n",
      "29 아이돌\n",
      "아이돌 키워드로  2889 전체 플레이리스트 수집을 시작합니다.\n",
      "************************************************************************************************************************************************"
     ]
    },
    {
     "name": "stderr",
     "output_type": "stream",
     "text": [
      "\r",
      "  9%|▉         | 30/325 [29:20<2:27:51, 30.07s/it]"
     ]
    },
    {
     "name": "stdout",
     "output_type": "stream",
     "text": [
      "*\n",
      "complete.\n",
      "30 랩\n",
      "랩 키워드로  4663 전체 플레이리스트 수집을 시작합니다.\n",
      "****************************************************************************************************************************************************************************************************************************************"
     ]
    },
    {
     "name": "stderr",
     "output_type": "stream",
     "text": [
      "\r",
      " 10%|▉         | 31/325 [29:47<2:24:04, 29.40s/it]"
     ]
    },
    {
     "name": "stdout",
     "output_type": "stream",
     "text": [
      "**\n",
      "complete.\n",
      "31 발라드\n",
      "발라드 키워드로  14214 전체 플레이리스트 수집을 시작합니다.\n",
      "***************************************************************************************************************************************************************************************************************************************************************************************************************************************************************************************************************************************************************************************************************************************************************************************************************************************************************************************************************************************"
     ]
    },
    {
     "name": "stderr",
     "output_type": "stream",
     "text": [
      "\r",
      " 10%|▉         | 32/325 [31:39<4:24:08, 54.09s/it]"
     ]
    },
    {
     "name": "stdout",
     "output_type": "stream",
     "text": [
      "\n",
      "complete.\n",
      "32 국내힙합\n",
      "국내힙합 키워드로  1673 전체 플레이리스트 수집을 시작합니다.\n",
      "**********************************************************************************"
     ]
    },
    {
     "name": "stderr",
     "output_type": "stream",
     "text": [
      "\r",
      " 10%|█         | 33/325 [31:57<3:29:54, 43.13s/it]"
     ]
    },
    {
     "name": "stdout",
     "output_type": "stream",
     "text": [
      "**\n",
      "complete.\n",
      "33 HipHop\n",
      "HipHop 키워드로  10345 전체 플레이리스트 수집을 시작합니다.\n",
      "*************************************************************************************************************************************************************************************************************************************************************************************************************************************************************************************************************************************************************************************************************************************"
     ]
    },
    {
     "name": "stderr",
     "output_type": "stream",
     "text": [
      "\r",
      " 10%|█         | 34/325 [33:25<4:35:25, 56.79s/it]"
     ]
    },
    {
     "name": "stdout",
     "output_type": "stream",
     "text": [
      "*\n",
      "complete.\n",
      "34 트렌디\n",
      "트렌디 키워드로  3033 전체 플레이리스트 수집을 시작합니다.\n",
      "********************************************************************************************************************************************************\n",
      "complete.\n"
     ]
    },
    {
     "name": "stderr",
     "output_type": "stream",
     "text": [
      "\r",
      " 11%|█         | 35/325 [33:52<3:51:02, 47.80s/it]"
     ]
    },
    {
     "name": "stdout",
     "output_type": "stream",
     "text": [
      "35 국힙\n",
      "국힙 키워드로  1673 전체 플레이리스트 수집을 시작합니다.\n",
      "************************************************************************************"
     ]
    },
    {
     "name": "stderr",
     "output_type": "stream",
     "text": [
      "\r",
      " 11%|█         | 36/325 [34:10<3:07:21, 38.90s/it]"
     ]
    },
    {
     "name": "stdout",
     "output_type": "stream",
     "text": [
      "\n",
      "complete.\n",
      "36 외힙\n",
      "외힙 키워드로  908 전체 플레이리스트 수집을 시작합니다.\n",
      "********************************************"
     ]
    },
    {
     "name": "stderr",
     "output_type": "stream",
     "text": [
      "\r",
      " 11%|█▏        | 37/325 [34:20<2:24:52, 30.18s/it]"
     ]
    },
    {
     "name": "stdout",
     "output_type": "stream",
     "text": [
      "**\n",
      "complete.\n",
      "37 감성힙합\n",
      "감성힙합 키워드로  1370 전체 플레이리스트 수집을 시작합니다.\n",
      "********************************************************************"
     ]
    },
    {
     "name": "stderr",
     "output_type": "stream",
     "text": [
      "\r",
      " 12%|█▏        | 38/325 [34:34<2:00:44, 25.24s/it]"
     ]
    },
    {
     "name": "stdout",
     "output_type": "stream",
     "text": [
      "*\n",
      "complete.\n",
      "38 운동\n",
      "운동 키워드로  3954 전체 플레이리스트 수집을 시작합니다.\n",
      "****************************************************************************************************************************************************************************************************"
     ]
    },
    {
     "name": "stderr",
     "output_type": "stream",
     "text": [
      "\r",
      " 12%|█▏        | 39/325 [35:06<2:10:23, 27.36s/it]"
     ]
    },
    {
     "name": "stdout",
     "output_type": "stream",
     "text": [
      "**\n",
      "complete.\n",
      "39 그루브\n",
      "그루브 키워드로  2553 전체 플레이리스트 수집을 시작합니다.\n",
      "*******************************************************************************************************************************"
     ]
    },
    {
     "name": "stderr",
     "output_type": "stream",
     "text": [
      "\r",
      " 12%|█▏        | 40/325 [35:26<1:59:54, 25.24s/it]"
     ]
    },
    {
     "name": "stdout",
     "output_type": "stream",
     "text": [
      "*\n",
      "complete.\n",
      "40 스트레스\n",
      "스트레스 키워드로  4789 전체 플레이리스트 수집을 시작합니다.\n",
      "**********************************************************************************************************************************************************************************************************************************************"
     ]
    },
    {
     "name": "stderr",
     "output_type": "stream",
     "text": [
      "\r",
      " 13%|█▎        | 41/325 [36:08<2:23:25, 30.30s/it]"
     ]
    },
    {
     "name": "stdout",
     "output_type": "stream",
     "text": [
      "**\n",
      "complete.\n",
      "41 팝\n",
      "팝 키워드로  15180 전체 플레이리스트 수집을 시작합니다.\n",
      "**************************************************************************************************************************************************************************************************************************************************************************************************************************************************************************************************************************************************************************************************************************************************************************************************************************************************************************************************************************************************************************************"
     ]
    },
    {
     "name": "stderr",
     "output_type": "stream",
     "text": [
      "\r",
      " 13%|█▎        | 42/325 [38:01<4:18:53, 54.89s/it]"
     ]
    },
    {
     "name": "stdout",
     "output_type": "stream",
     "text": [
      "**\n",
      "complete.\n",
      "42 클럽\n",
      "클럽 키워드로  2230 전체 플레이리스트 수집을 시작합니다.\n",
      "**************************************************************************************************************"
     ]
    },
    {
     "name": "stderr",
     "output_type": "stream",
     "text": [
      "\r",
      " 13%|█▎        | 43/325 [38:26<3:35:42, 45.90s/it]"
     ]
    },
    {
     "name": "stdout",
     "output_type": "stream",
     "text": [
      "**\n",
      "complete.\n",
      "43 외국힙합\n",
      "외국힙합 키워드로  908 전체 플레이리스트 수집을 시작합니다.\n",
      "********************************************"
     ]
    },
    {
     "name": "stderr",
     "output_type": "stream",
     "text": [
      "\r",
      " 14%|█▎        | 44/325 [38:34<2:42:38, 34.73s/it]"
     ]
    },
    {
     "name": "stdout",
     "output_type": "stream",
     "text": [
      "**\n",
      "complete.\n",
      "44 여행\n",
      "여행 키워드로  7321 전체 플레이리스트 수집을 시작합니다.\n",
      "*****************************************************************************************************************************************************************************************************************************************************************************************************************************************************************************"
     ]
    },
    {
     "name": "stderr",
     "output_type": "stream",
     "text": [
      "\r",
      " 14%|█▍        | 45/325 [39:38<3:22:01, 43.29s/it]"
     ]
    },
    {
     "name": "stdout",
     "output_type": "stream",
     "text": [
      "**\n",
      "complete.\n",
      "45 비트\n",
      "비트 키워드로  806 전체 플레이리스트 수집을 시작합니다.\n",
      "****************************************"
     ]
    },
    {
     "name": "stderr",
     "output_type": "stream",
     "text": [
      "\r",
      " 14%|█▍        | 46/325 [39:44<2:29:50, 32.23s/it]"
     ]
    },
    {
     "name": "stdout",
     "output_type": "stream",
     "text": [
      "*\n",
      "complete.\n",
      "46 RnB\n",
      "RnB 키워드로  6955 전체 플레이리스트 수집을 시작합니다.\n",
      "***********************************************************************************************************************************************************************************************************************************************************************************************************************************************************"
     ]
    },
    {
     "name": "stderr",
     "output_type": "stream",
     "text": [
      "\r",
      " 14%|█▍        | 47/325 [40:47<3:12:22, 41.52s/it]"
     ]
    },
    {
     "name": "stdout",
     "output_type": "stream",
     "text": [
      "*\n",
      "complete.\n",
      "47 인디음악\n",
      "인디음악 키워드로  1382 전체 플레이리스트 수집을 시작합니다.\n",
      "*********************************************************************"
     ]
    },
    {
     "name": "stderr",
     "output_type": "stream",
     "text": [
      "\r",
      " 15%|█▍        | 48/325 [40:59<2:30:54, 32.69s/it]"
     ]
    },
    {
     "name": "stdout",
     "output_type": "stream",
     "text": [
      "*\n",
      "complete.\n",
      "48 봄\n",
      "봄 키워드로  4535 전체 플레이리스트 수집을 시작합니다.\n",
      "**********************************************************************************************************************************************************************************************************************************"
     ]
    },
    {
     "name": "stderr",
     "output_type": "stream",
     "text": [
      "\r",
      " 15%|█▌        | 49/325 [41:37<2:37:47, 34.30s/it]"
     ]
    },
    {
     "name": "stdout",
     "output_type": "stream",
     "text": [
      "*\n",
      "complete.\n",
      "49 어쿠스틱\n",
      "어쿠스틱 키워드로  1427 전체 플레이리스트 수집을 시작합니다.\n",
      "**********************************************************************"
     ]
    },
    {
     "name": "stderr",
     "output_type": "stream",
     "text": [
      "\r",
      " 15%|█▌        | 50/325 [41:50<2:07:21, 27.79s/it]"
     ]
    },
    {
     "name": "stdout",
     "output_type": "stream",
     "text": [
      "**\n",
      "complete.\n",
      "50 설렘\n",
      "설렘 키워드로  6737 전체 플레이리스트 수집을 시작합니다.\n",
      "***********************************************************************************************************************************************************************************************************************************************************************************************************************************************"
     ]
    },
    {
     "name": "stderr",
     "output_type": "stream",
     "text": [
      "\r",
      " 16%|█▌        | 51/325 [42:48<2:47:51, 36.76s/it]"
     ]
    },
    {
     "name": "stdout",
     "output_type": "stream",
     "text": [
      "**\n",
      "complete.\n",
      "51 여름\n",
      "여름 키워드로  6394 전체 플레이리스트 수집을 시작합니다.\n",
      "*******************************************************************************************************************************************************************************************************************************************************************************************************************************"
     ]
    },
    {
     "name": "stderr",
     "output_type": "stream",
     "text": [
      "\r",
      " 16%|█▌        | 52/325 [43:45<3:15:59, 43.08s/it]"
     ]
    },
    {
     "name": "stdout",
     "output_type": "stream",
     "text": [
      "*\n",
      "complete.\n",
      "52 포크\n",
      "포크 키워드로  635 전체 플레이리스트 수집을 시작합니다.\n",
      "*******************************"
     ]
    },
    {
     "name": "stderr",
     "output_type": "stream",
     "text": [
      "\r",
      " 16%|█▋        | 53/325 [43:51<2:23:44, 31.71s/it]"
     ]
    },
    {
     "name": "stdout",
     "output_type": "stream",
     "text": [
      "*\n",
      "complete.\n",
      "53 분위기\n",
      "분위기 키워드로  3931 전체 플레이리스트 수집을 시작합니다.\n",
      "****************************************************************************************************************************************************************************************************"
     ]
    },
    {
     "name": "stderr",
     "output_type": "stream",
     "text": [
      "\r",
      " 17%|█▋        | 54/325 [44:22<2:22:56, 31.65s/it]"
     ]
    },
    {
     "name": "stdout",
     "output_type": "stream",
     "text": [
      "*\n",
      "complete.\n",
      "54 산책\n",
      "산책 키워드로  3707 전체 플레이리스트 수집을 시작합니다.\n",
      "*****************************************************************************************************************************************************************************************"
     ]
    },
    {
     "name": "stderr",
     "output_type": "stream",
     "text": [
      "\r",
      " 17%|█▋        | 55/325 [44:56<2:25:45, 32.39s/it]"
     ]
    },
    {
     "name": "stdout",
     "output_type": "stream",
     "text": [
      "*\n",
      "complete.\n",
      "55 밴드\n",
      "밴드 키워드로  774 전체 플레이리스트 수집을 시작합니다.\n",
      "***************************************\n",
      "complete.\n"
     ]
    },
    {
     "name": "stderr",
     "output_type": "stream",
     "text": [
      "\r",
      " 17%|█▋        | 56/325 [45:02<1:49:36, 24.45s/it]"
     ]
    },
    {
     "name": "stdout",
     "output_type": "stream",
     "text": [
      "56 걸그룹\n",
      "걸그룹 키워드로  926 전체 플레이리스트 수집을 시작합니다.\n",
      "**********************************************"
     ]
    },
    {
     "name": "stderr",
     "output_type": "stream",
     "text": [
      "\r",
      " 18%|█▊        | 57/325 [45:13<1:30:17, 20.21s/it]"
     ]
    },
    {
     "name": "stdout",
     "output_type": "stream",
     "text": [
      "*\n",
      "complete.\n",
      "57 EDM\n",
      "EDM 키워드로  2323 전체 플레이리스트 수집을 시작합니다.\n",
      "********************************************************************************************************************"
     ]
    },
    {
     "name": "stderr",
     "output_type": "stream",
     "text": [
      "\r",
      " 18%|█▊        | 58/325 [45:34<1:32:11, 20.72s/it]"
     ]
    },
    {
     "name": "stdout",
     "output_type": "stream",
     "text": [
      "*\n",
      "complete.\n",
      "58 kpop\n",
      "kpop 키워드로  2820 전체 플레이리스트 수집을 시작합니다.\n",
      "********************************************************************************************************************************************"
     ]
    },
    {
     "name": "stderr",
     "output_type": "stream",
     "text": [
      "\r",
      " 18%|█▊        | 59/325 [45:59<1:36:27, 21.76s/it]"
     ]
    },
    {
     "name": "stdout",
     "output_type": "stream",
     "text": [
      "**\n",
      "complete.\n",
      "59 Pop\n",
      "Pop 키워드로  15180 전체 플레이리스트 수집을 시작합니다.\n",
      "***************************************************************************************************************************************************************************************************************************************************************************************************************************************************************************************************************************************************************************************************************************************************************************************************************************************************************************************************************************************************************************************"
     ]
    },
    {
     "name": "stderr",
     "output_type": "stream",
     "text": [
      "\r",
      " 18%|█▊        | 60/325 [48:40<4:41:13, 63.67s/it]"
     ]
    },
    {
     "name": "stdout",
     "output_type": "stream",
     "text": [
      "*\n",
      "complete.\n",
      "60 내적댄스\n",
      "내적댄스 키워드로  734 전체 플레이리스트 수집을 시작합니다.\n",
      "***********************************"
     ]
    },
    {
     "name": "stderr",
     "output_type": "stream",
     "text": [
      "\r",
      " 19%|█▉        | 61/325 [48:47<3:24:46, 46.54s/it]"
     ]
    },
    {
     "name": "stdout",
     "output_type": "stream",
     "text": [
      "**\n",
      "complete.\n",
      "61 헬스\n",
      "헬스 키워드로  732 전체 플레이리스트 수집을 시작합니다.\n",
      "************************************"
     ]
    },
    {
     "name": "stderr",
     "output_type": "stream",
     "text": [
      "\r",
      " 19%|█▉        | 62/325 [48:55<2:33:29, 35.02s/it]"
     ]
    },
    {
     "name": "stdout",
     "output_type": "stream",
     "text": [
      "*\n",
      "complete.\n",
      "62 다이어트\n",
      "다이어트 키워드로  477 전체 플레이리스트 수집을 시작합니다.\n",
      "**********************"
     ]
    },
    {
     "name": "stderr",
     "output_type": "stream",
     "text": [
      "\r",
      " 19%|█▉        | 63/325 [49:01<1:55:08, 26.37s/it]"
     ]
    },
    {
     "name": "stdout",
     "output_type": "stream",
     "text": [
      "**\n",
      "complete.\n",
      "63 시원한\n",
      "시원한 키워드로  1607 전체 플레이리스트 수집을 시작합니다.\n",
      "********************************************************************************"
     ]
    },
    {
     "name": "stderr",
     "output_type": "stream",
     "text": [
      "\r",
      " 20%|█▉        | 64/325 [49:23<1:49:40, 25.21s/it]"
     ]
    },
    {
     "name": "stdout",
     "output_type": "stream",
     "text": [
      "*\n",
      "complete.\n",
      "64 파티\n",
      "파티 키워드로  826 전체 플레이리스트 수집을 시작합니다.\n",
      "******************************************"
     ]
    },
    {
     "name": "stderr",
     "output_type": "stream",
     "text": [
      "\r",
      " 20%|██        | 65/325 [49:36<1:32:35, 21.37s/it]"
     ]
    },
    {
     "name": "stdout",
     "output_type": "stream",
     "text": [
      "\n",
      "complete.\n",
      "65 청량\n",
      "청량 키워드로  1894 전체 플레이리스트 수집을 시작합니다.\n",
      "**********************************************************************************************"
     ]
    },
    {
     "name": "stderr",
     "output_type": "stream",
     "text": [
      "\r",
      " 20%|██        | 66/325 [50:07<1:45:14, 24.38s/it]"
     ]
    },
    {
     "name": "stdout",
     "output_type": "stream",
     "text": [
      "*\n",
      "complete.\n",
      "66 피아노\n",
      "피아노 키워드로  2769 전체 플레이리스트 수집을 시작합니다.\n",
      "*******************************************************************************************************************************************"
     ]
    },
    {
     "name": "stderr",
     "output_type": "stream",
     "text": [
      "\r",
      " 21%|██        | 67/325 [50:39<1:54:42, 26.68s/it]"
     ]
    },
    {
     "name": "stdout",
     "output_type": "stream",
     "text": [
      "\n",
      "complete.\n",
      "67 연주곡\n",
      "연주곡 키워드로  2420 전체 플레이리스트 수집을 시작합니다.\n",
      "*************************************************************************************************************************"
     ]
    },
    {
     "name": "stderr",
     "output_type": "stream",
     "text": [
      "\r",
      " 21%|██        | 68/325 [51:04<1:51:13, 25.97s/it]"
     ]
    },
    {
     "name": "stdout",
     "output_type": "stream",
     "text": [
      "*\n",
      "complete.\n",
      "68 집중\n",
      "집중 키워드로  1600 전체 플레이리스트 수집을 시작합니다.\n",
      "*******************************************************************************"
     ]
    },
    {
     "name": "stderr",
     "output_type": "stream",
     "text": [
      "\r",
      " 21%|██        | 69/325 [51:17<1:34:36, 22.18s/it]"
     ]
    },
    {
     "name": "stdout",
     "output_type": "stream",
     "text": [
      "**\n",
      "complete.\n",
      "69 자장가\n",
      "자장가 키워드로  1384 전체 플레이리스트 수집을 시작합니다.\n",
      "********************************************************************"
     ]
    },
    {
     "name": "stderr",
     "output_type": "stream",
     "text": [
      "\r",
      " 22%|██▏       | 70/325 [51:29<1:21:00, 19.06s/it]"
     ]
    },
    {
     "name": "stdout",
     "output_type": "stream",
     "text": [
      "**\n",
      "complete.\n",
      "70 공부\n",
      "공부 키워드로  1834 전체 플레이리스트 수집을 시작합니다.\n",
      "*******************************************************************************************"
     ]
    },
    {
     "name": "stderr",
     "output_type": "stream",
     "text": [
      "\r",
      " 22%|██▏       | 71/325 [51:43<1:14:30, 17.60s/it]"
     ]
    },
    {
     "name": "stdout",
     "output_type": "stream",
     "text": [
      "*\n",
      "complete.\n",
      "71 독서\n",
      "독서 키워드로  1219 전체 플레이리스트 수집을 시작합니다.\n",
      "*************************************************************\n",
      "complete.\n"
     ]
    },
    {
     "name": "stderr",
     "output_type": "stream",
     "text": [
      "\r",
      " 22%|██▏       | 72/325 [51:53<1:04:53, 15.39s/it]"
     ]
    },
    {
     "name": "stdout",
     "output_type": "stream",
     "text": [
      "72 편안한\n",
      "편안한 키워드로  2073 전체 플레이리스트 수집을 시작합니다.\n",
      "******************************************************************************************************"
     ]
    },
    {
     "name": "stderr",
     "output_type": "stream",
     "text": [
      "\r",
      " 22%|██▏       | 73/325 [52:11<1:07:37, 16.10s/it]"
     ]
    },
    {
     "name": "stdout",
     "output_type": "stream",
     "text": [
      "**\n",
      "complete.\n",
      "73 클래식\n",
      "클래식 키워드로  2941 전체 플레이리스트 수집을 시작합니다.\n",
      "****************************************************************************************************************************************************\n",
      "complete.\n"
     ]
    },
    {
     "name": "stderr",
     "output_type": "stream",
     "text": [
      "\r",
      " 23%|██▎       | 74/325 [52:37<1:19:24, 18.98s/it]"
     ]
    },
    {
     "name": "stdout",
     "output_type": "stream",
     "text": [
      "74 아침\n",
      "아침 키워드로  1682 전체 플레이리스트 수집을 시작합니다.\n",
      "***********************************************************************************"
     ]
    },
    {
     "name": "stderr",
     "output_type": "stream",
     "text": [
      "\r",
      " 23%|██▎       | 75/325 [52:53<1:15:34, 18.14s/it]"
     ]
    },
    {
     "name": "stdout",
     "output_type": "stream",
     "text": [
      "**\n",
      "complete.\n",
      "75 북카페\n",
      "북카페 키워드로  377 전체 플레이리스트 수집을 시작합니다.\n",
      "*******************\n",
      "complete.\n"
     ]
    },
    {
     "name": "stderr",
     "output_type": "stream",
     "text": [
      "\r",
      " 23%|██▎       | 76/325 [52:56<56:47, 13.68s/it]  "
     ]
    },
    {
     "name": "stdout",
     "output_type": "stream",
     "text": [
      "76 차분한\n",
      "차분한 키워드로  978 전체 플레이리스트 수집을 시작합니다.\n",
      "************************************************"
     ]
    },
    {
     "name": "stderr",
     "output_type": "stream",
     "text": [
      "\r",
      " 24%|██▎       | 77/325 [53:03<48:41, 11.78s/it]"
     ]
    },
    {
     "name": "stdout",
     "output_type": "stream",
     "text": [
      "*\n",
      "complete.\n",
      "77 배경음악\n",
      "배경음악 키워드로  1320 전체 플레이리스트 수집을 시작합니다.\n",
      "******************************************************************"
     ]
    },
    {
     "name": "stderr",
     "output_type": "stream",
     "text": [
      "\r",
      " 24%|██▍       | 78/325 [53:14<47:05, 11.44s/it]"
     ]
    },
    {
     "name": "stdout",
     "output_type": "stream",
     "text": [
      "*\n",
      "complete.\n",
      "78 명상\n",
      "명상 키워드로  427 전체 플레이리스트 수집을 시작합니다.\n",
      "********************"
     ]
    },
    {
     "name": "stderr",
     "output_type": "stream",
     "text": [
      "\r",
      " 24%|██▍       | 79/325 [53:17<36:55,  9.00s/it]"
     ]
    },
    {
     "name": "stdout",
     "output_type": "stream",
     "text": [
      "**\n",
      "complete.\n",
      "79 숙면\n",
      "숙면 키워드로  551 전체 플레이리스트 수집을 시작합니다.\n",
      "****************************\n",
      "complete.\n"
     ]
    },
    {
     "name": "stderr",
     "output_type": "stream",
     "text": [
      "\r",
      " 25%|██▍       | 80/325 [53:22<31:35,  7.74s/it]"
     ]
    },
    {
     "name": "stdout",
     "output_type": "stream",
     "text": [
      "80 재즈\n",
      "재즈 키워드로  4672 전체 플레이리스트 수집을 시작합니다.\n",
      "*****************************************************************************************************************************************************************************************************************************************"
     ]
    },
    {
     "name": "stderr",
     "output_type": "stream",
     "text": [
      "\r",
      " 25%|██▍       | 81/325 [54:00<1:08:44, 16.90s/it]"
     ]
    },
    {
     "name": "stdout",
     "output_type": "stream",
     "text": [
      "*\n",
      "complete.\n",
      "81 잠들기전\n",
      "잠들기전 키워드로  949 전체 플레이리스트 수집을 시작합니다.\n",
      "**********************************************"
     ]
    },
    {
     "name": "stderr",
     "output_type": "stream",
     "text": [
      "\r",
      " 25%|██▌       | 82/325 [54:09<58:34, 14.46s/it]  "
     ]
    },
    {
     "name": "stdout",
     "output_type": "stream",
     "text": [
      "**\n",
      "complete.\n",
      "82 여유\n",
      "여유 키워드로  1290 전체 플레이리스트 수집을 시작합니다.\n",
      "***************************************************************"
     ]
    },
    {
     "name": "stderr",
     "output_type": "stream",
     "text": [
      "\r",
      " 26%|██▌       | 83/325 [54:20<53:31, 13.27s/it]"
     ]
    },
    {
     "name": "stdout",
     "output_type": "stream",
     "text": [
      "**\n",
      "complete.\n",
      "83 카페음악\n",
      "카페음악 키워드로  1029 전체 플레이리스트 수집을 시작합니다.\n",
      "**************************************************"
     ]
    },
    {
     "name": "stderr",
     "output_type": "stream",
     "text": [
      "\r",
      " 26%|██▌       | 84/325 [54:29<48:02, 11.96s/it]"
     ]
    },
    {
     "name": "stdout",
     "output_type": "stream",
     "text": [
      "**\n",
      "complete.\n",
      "84 소울\n",
      "소울 키워드로  2950 전체 플레이리스트 수집을 시작합니다.\n",
      "**************************************************************************************************************************************************"
     ]
    },
    {
     "name": "stderr",
     "output_type": "stream",
     "text": [
      "\r",
      " 26%|██▌       | 85/325 [54:52<1:01:19, 15.33s/it]"
     ]
    },
    {
     "name": "stdout",
     "output_type": "stream",
     "text": [
      "**\n",
      "complete.\n",
      "85 감각적인\n",
      "감각적인 키워드로  1665 전체 플레이리스트 수집을 시작합니다.\n",
      "***********************************************************************************"
     ]
    },
    {
     "name": "stderr",
     "output_type": "stream",
     "text": [
      "\r",
      " 26%|██▋       | 86/325 [55:07<1:00:55, 15.30s/it]"
     ]
    },
    {
     "name": "stdout",
     "output_type": "stream",
     "text": [
      "*\n",
      "complete.\n",
      "86 팝송\n",
      "팝송 키워드로  4644 전체 플레이리스트 수집을 시작합니다.\n",
      "****************************************************************************************************************************************************************************************************************************************"
     ]
    },
    {
     "name": "stderr",
     "output_type": "stream",
     "text": [
      "\r",
      " 27%|██▋       | 87/325 [55:45<1:27:13, 21.99s/it]"
     ]
    },
    {
     "name": "stdout",
     "output_type": "stream",
     "text": [
      "*\n",
      "complete.\n",
      "87 Jazz\n",
      "Jazz 키워드로  4672 전체 플레이리스트 수집을 시작합니다.\n",
      "******************************************************************************************************************************************************************************************************************************************\n",
      "complete.\n"
     ]
    },
    {
     "name": "stderr",
     "output_type": "stream",
     "text": [
      "\r",
      " 27%|██▋       | 88/325 [56:27<1:51:09, 28.14s/it]"
     ]
    },
    {
     "name": "stdout",
     "output_type": "stream",
     "text": [
      "88 커피\n",
      "커피 키워드로  1534 전체 플레이리스트 수집을 시작합니다.\n",
      "****************************************************************************"
     ]
    },
    {
     "name": "stderr",
     "output_type": "stream",
     "text": [
      "\r",
      " 27%|██▋       | 89/325 [56:41<1:34:16, 23.97s/it]"
     ]
    },
    {
     "name": "stdout",
     "output_type": "stream",
     "text": [
      "*\n",
      "complete.\n",
      "89 크리스마스\n",
      "크리스마스 키워드로  1963 전체 플레이리스트 수집을 시작합니다.\n",
      "*************************************************************************************************"
     ]
    },
    {
     "name": "stderr",
     "output_type": "stream",
     "text": [
      "\r",
      " 28%|██▊       | 90/325 [57:00<1:27:47, 22.42s/it]"
     ]
    },
    {
     "name": "stdout",
     "output_type": "stream",
     "text": [
      "**\n",
      "complete.\n",
      "90 매장\n",
      "매장 키워드로  1639 전체 플레이리스트 수집을 시작합니다.\n",
      "*********************************************************************************"
     ]
    },
    {
     "name": "stderr",
     "output_type": "stream",
     "text": [
      "\r",
      " 28%|██▊       | 91/325 [57:13<1:16:19, 19.57s/it]"
     ]
    },
    {
     "name": "stdout",
     "output_type": "stream",
     "text": [
      "*\n",
      "complete.\n",
      "91 뉴에이지\n",
      "뉴에이지 키워드로  4290 전체 플레이리스트 수집을 시작합니다.\n",
      "*********************************************************************************************************************************************************************************************************************"
     ]
    },
    {
     "name": "stderr",
     "output_type": "stream",
     "text": [
      "\r",
      " 28%|██▊       | 92/325 [57:48<1:33:41, 24.13s/it]"
     ]
    },
    {
     "name": "stdout",
     "output_type": "stream",
     "text": [
      "**\n",
      "complete.\n",
      "92 보사노바\n",
      "보사노바 키워드로  229 전체 플레이리스트 수집을 시작합니다.\n",
      "**********"
     ]
    },
    {
     "name": "stderr",
     "output_type": "stream",
     "text": [
      "\r",
      " 29%|██▊       | 93/325 [57:50<1:07:46, 17.53s/it]"
     ]
    },
    {
     "name": "stdout",
     "output_type": "stream",
     "text": [
      "**\n",
      "complete.\n",
      "93 주말\n",
      "주말 키워드로  2084 전체 플레이리스트 수집을 시작합니다.\n",
      "********************************************************************************************************"
     ]
    },
    {
     "name": "stderr",
     "output_type": "stream",
     "text": [
      "\r",
      " 29%|██▉       | 94/325 [58:09<1:09:17, 18.00s/it]"
     ]
    },
    {
     "name": "stdout",
     "output_type": "stream",
     "text": [
      "*\n",
      "complete.\n",
      "94 캐롤\n",
      "캐롤 키워드로  1288 전체 플레이리스트 수집을 시작합니다.\n",
      "****************************************************************"
     ]
    },
    {
     "name": "stderr",
     "output_type": "stream",
     "text": [
      "\r",
      " 29%|██▉       | 95/325 [58:22<1:03:35, 16.59s/it]"
     ]
    },
    {
     "name": "stdout",
     "output_type": "stream",
     "text": [
      "*\n",
      "complete.\n",
      "95 태교\n",
      "태교 키워드로  349 전체 플레이리스트 수집을 시작합니다.\n",
      "****************"
     ]
    },
    {
     "name": "stderr",
     "output_type": "stream",
     "text": [
      "\r",
      " 30%|██▉       | 96/325 [58:28<50:17, 13.17s/it]  "
     ]
    },
    {
     "name": "stdout",
     "output_type": "stream",
     "text": [
      "**\n",
      "complete.\n",
      "96 classic\n",
      "classic 키워드로  2941 전체 플레이리스트 수집을 시작합니다.\n",
      "***************************************************************************************************************************************************"
     ]
    },
    {
     "name": "stderr",
     "output_type": "stream",
     "text": [
      "\r",
      " 30%|██▉       | 97/325 [58:54<1:04:40, 17.02s/it]"
     ]
    },
    {
     "name": "stdout",
     "output_type": "stream",
     "text": [
      "*\n",
      "complete.\n",
      "97 바이올린\n",
      "바이올린 키워드로  150 전체 플레이리스트 수집을 시작합니다.\n",
      "*******"
     ]
    },
    {
     "name": "stderr",
     "output_type": "stream",
     "text": [
      "\r",
      " 30%|███       | 98/325 [58:55<46:40, 12.34s/it]  "
     ]
    },
    {
     "name": "stdout",
     "output_type": "stream",
     "text": [
      "*\n",
      "complete.\n",
      "98 오케스트라\n",
      "오케스트라 키워드로  169 전체 플레이리스트 수집을 시작합니다.\n",
      "********"
     ]
    },
    {
     "name": "stderr",
     "output_type": "stream",
     "text": [
      "\r",
      " 30%|███       | 99/325 [58:57<34:39,  9.20s/it]"
     ]
    },
    {
     "name": "stdout",
     "output_type": "stream",
     "text": [
      "*\n",
      "complete.\n",
      "99 첼로\n",
      "첼로 키워드로  112 전체 플레이리스트 수집을 시작합니다.\n",
      "*****"
     ]
    },
    {
     "name": "stderr",
     "output_type": "stream",
     "text": [
      "\r",
      " 31%|███       | 100/325 [58:58<25:42,  6.85s/it]"
     ]
    },
    {
     "name": "stdout",
     "output_type": "stream",
     "text": [
      "*\n",
      "complete.\n",
      "100 모닝콜\n",
      "모닝콜 키워드로  490 전체 플레이리스트 수집을 시작합니다.\n",
      "************************"
     ]
    },
    {
     "name": "stderr",
     "output_type": "stream",
     "text": [
      "\r",
      " 31%|███       | 101/325 [59:08<28:36,  7.66s/it]"
     ]
    },
    {
     "name": "stdout",
     "output_type": "stream",
     "text": [
      "*\n",
      "complete.\n",
      "101 락\n",
      "락 키워드로  6764 전체 플레이리스트 수집을 시작합니다.\n",
      "**************************************************************************************************************************************************************************************************************************************************************************************************************************************************"
     ]
    },
    {
     "name": "stderr",
     "output_type": "stream",
     "text": [
      "\r",
      " 31%|███▏      | 102/325 [1:00:02<1:20:07, 21.56s/it]"
     ]
    },
    {
     "name": "stdout",
     "output_type": "stream",
     "text": [
      "*\n",
      "complete.\n",
      "102 메탈\n",
      "메탈 키워드로  604 전체 플레이리스트 수집을 시작합니다.\n",
      "******************************"
     ]
    },
    {
     "name": "stderr",
     "output_type": "stream",
     "text": [
      "\r",
      " 32%|███▏      | 103/325 [1:00:07<1:01:12, 16.54s/it]"
     ]
    },
    {
     "name": "stdout",
     "output_type": "stream",
     "text": [
      "*\n",
      "complete.\n",
      "103 Rock\n",
      "Rock 키워드로  6764 전체 플레이리스트 수집을 시작합니다.\n",
      "*************************************************************************************************************************************************************************************************************************************************************************************************************************************************"
     ]
    },
    {
     "name": "stderr",
     "output_type": "stream",
     "text": [
      "\r",
      " 32%|███▏      | 104/325 [1:00:47<1:27:22, 23.72s/it]"
     ]
    },
    {
     "name": "stdout",
     "output_type": "stream",
     "text": [
      "**\n",
      "complete.\n",
      "104 록메탈\n",
      "록메탈 키워드로  268 전체 플레이리스트 수집을 시작합니다.\n",
      "************"
     ]
    },
    {
     "name": "stderr",
     "output_type": "stream",
     "text": [
      "\r",
      " 32%|███▏      | 105/325 [1:00:50<1:03:50, 17.41s/it]"
     ]
    },
    {
     "name": "stdout",
     "output_type": "stream",
     "text": [
      "**\n",
      "complete.\n",
      "105 해외록\n",
      "해외록 키워드로  163 전체 플레이리스트 수집을 시작합니다.\n",
      "*******"
     ]
    },
    {
     "name": "stderr",
     "output_type": "stream",
     "text": [
      "\r",
      " 33%|███▎      | 106/325 [1:00:51<45:57, 12.59s/it]  "
     ]
    },
    {
     "name": "stdout",
     "output_type": "stream",
     "text": [
      "**\n",
      "complete.\n",
      "106 스쿨오브록\n",
      "스쿨오브록 키워드로  95 전체 플레이리스트 수집을 시작합니다.\n",
      "***"
     ]
    },
    {
     "name": "stderr",
     "output_type": "stream",
     "text": [
      "\r",
      " 33%|███▎      | 107/325 [1:00:52<32:52,  9.05s/it]"
     ]
    },
    {
     "name": "stdout",
     "output_type": "stream",
     "text": [
      "**\n",
      "complete.\n",
      "107 Metal\n",
      "Metal 키워드로  604 전체 플레이리스트 수집을 시작합니다.\n",
      "*****************************"
     ]
    },
    {
     "name": "stderr",
     "output_type": "stream",
     "text": [
      "\r",
      " 33%|███▎      | 108/325 [1:00:56<26:58,  7.46s/it]"
     ]
    },
    {
     "name": "stdout",
     "output_type": "stream",
     "text": [
      "**\n",
      "complete.\n",
      "108 락메탈\n",
      "락메탈 키워드로  268 전체 플레이리스트 수집을 시작합니다.\n",
      "************"
     ]
    },
    {
     "name": "stderr",
     "output_type": "stream",
     "text": [
      "\r",
      " 34%|███▎      | 109/325 [1:00:57<20:38,  5.73s/it]"
     ]
    },
    {
     "name": "stdout",
     "output_type": "stream",
     "text": [
      "**\n",
      "complete.\n",
      "109 헤비메탈\n",
      "헤비메탈 키워드로  116 전체 플레이리스트 수집을 시작합니다.\n",
      "****"
     ]
    },
    {
     "name": "stderr",
     "output_type": "stream",
     "text": [
      "\r",
      " 34%|███▍      | 110/325 [1:00:58<15:18,  4.27s/it]"
     ]
    },
    {
     "name": "stdout",
     "output_type": "stream",
     "text": [
      "**\n",
      "complete.\n",
      "110 국내록\n",
      "국내록 키워드로  144 전체 플레이리스트 수집을 시작합니다.\n",
      "******"
     ]
    },
    {
     "name": "stderr",
     "output_type": "stream",
     "text": [
      "\r",
      " 34%|███▍      | 111/325 [1:00:59<11:45,  3.29s/it]"
     ]
    },
    {
     "name": "stdout",
     "output_type": "stream",
     "text": [
      "**\n",
      "complete.\n",
      "111 강렬한\n",
      "강렬한 키워드로  180 전체 플레이리스트 수집을 시작합니다.\n",
      "*******"
     ]
    },
    {
     "name": "stderr",
     "output_type": "stream",
     "text": [
      "\r",
      " 34%|███▍      | 112/325 [1:01:01<09:48,  2.76s/it]"
     ]
    },
    {
     "name": "stdout",
     "output_type": "stream",
     "text": [
      "***\n",
      "complete.\n",
      "112 얼터너티브\n",
      "얼터너티브 키워드로  254 전체 플레이리스트 수집을 시작합니다.\n",
      "************"
     ]
    },
    {
     "name": "stderr",
     "output_type": "stream",
     "text": [
      "\r",
      " 35%|███▍      | 113/325 [1:01:02<08:28,  2.40s/it]"
     ]
    },
    {
     "name": "stdout",
     "output_type": "stream",
     "text": [
      "*\n",
      "complete.\n",
      "113 록발라드\n",
      "록발라드 키워드로  201 전체 플레이리스트 수집을 시작합니다.\n",
      "*********"
     ]
    },
    {
     "name": "stderr",
     "output_type": "stream",
     "text": [
      "\r",
      " 35%|███▌      | 114/325 [1:01:04<07:24,  2.11s/it]"
     ]
    },
    {
     "name": "stdout",
     "output_type": "stream",
     "text": [
      "**\n",
      "complete.\n",
      "114 록명곡\n",
      "록명곡 키워드로  59 전체 플레이리스트 수집을 시작합니다.\n",
      "*"
     ]
    },
    {
     "name": "stderr",
     "output_type": "stream",
     "text": [
      "\r",
      " 35%|███▌      | 115/325 [1:01:04<05:48,  1.66s/it]"
     ]
    },
    {
     "name": "stdout",
     "output_type": "stream",
     "text": [
      "**\n",
      "complete.\n",
      "115 하드록\n",
      "하드록 키워드로  99 전체 플레이리스트 수집을 시작합니다.\n",
      "****"
     ]
    },
    {
     "name": "stderr",
     "output_type": "stream",
     "text": [
      "\r",
      " 36%|███▌      | 116/325 [1:01:06<05:21,  1.54s/it]"
     ]
    },
    {
     "name": "stdout",
     "output_type": "stream",
     "text": [
      "*\n",
      "complete.\n",
      "116 취향저격\n",
      "취향저격 키워드로  1573 전체 플레이리스트 수집을 시작합니다.\n",
      "*******************************************************************************"
     ]
    },
    {
     "name": "stderr",
     "output_type": "stream",
     "text": [
      "\r",
      " 36%|███▌      | 117/325 [1:01:16<14:01,  4.05s/it]"
     ]
    },
    {
     "name": "stdout",
     "output_type": "stream",
     "text": [
      "\n",
      "complete.\n",
      "117 드라마\n",
      "드라마 키워드로  807 전체 플레이리스트 수집을 시작합니다.\n",
      "***************************************"
     ]
    },
    {
     "name": "stderr",
     "output_type": "stream",
     "text": [
      "\r",
      " 36%|███▋      | 118/325 [1:01:21<15:03,  4.37s/it]"
     ]
    },
    {
     "name": "stdout",
     "output_type": "stream",
     "text": [
      "**\n",
      "complete.\n",
      "118 영화\n",
      "영화 키워드로  746 전체 플레이리스트 수집을 시작합니다.\n",
      "***********************************"
     ]
    },
    {
     "name": "stderr",
     "output_type": "stream",
     "text": [
      "\r",
      " 37%|███▋      | 119/325 [1:01:25<15:29,  4.51s/it]"
     ]
    },
    {
     "name": "stdout",
     "output_type": "stream",
     "text": [
      "***\n",
      "complete.\n",
      "119 영화음악\n",
      "영화음악 키워드로  403 전체 플레이리스트 수집을 시작합니다.\n",
      "*******************"
     ]
    },
    {
     "name": "stderr",
     "output_type": "stream",
     "text": [
      "\r",
      " 37%|███▋      | 120/325 [1:01:28<13:28,  3.94s/it]"
     ]
    },
    {
     "name": "stdout",
     "output_type": "stream",
     "text": [
      "**\n",
      "complete.\n",
      "120 사운드트랙\n",
      "사운드트랙 키워드로  202 전체 플레이리스트 수집을 시작합니다.\n",
      "*********"
     ]
    },
    {
     "name": "stderr",
     "output_type": "stream",
     "text": [
      "\r",
      " 37%|███▋      | 121/325 [1:01:29<10:41,  3.15s/it]"
     ]
    },
    {
     "name": "stdout",
     "output_type": "stream",
     "text": [
      "**\n",
      "complete.\n",
      "121 드라마ost\n",
      "드라마ost 키워드로  386 전체 플레이리스트 수집을 시작합니다.\n",
      "*******************"
     ]
    },
    {
     "name": "stderr",
     "output_type": "stream",
     "text": [
      "\r",
      " 38%|███▊      | 122/325 [1:01:32<09:59,  2.95s/it]"
     ]
    },
    {
     "name": "stdout",
     "output_type": "stream",
     "text": [
      "*\n",
      "complete.\n",
      "122 애니메이션\n",
      "애니메이션 키워드로  322 전체 플레이리스트 수집을 시작합니다.\n",
      "***************"
     ]
    },
    {
     "name": "stderr",
     "output_type": "stream",
     "text": [
      "\r",
      " 38%|███▊      | 123/325 [1:01:34<09:01,  2.68s/it]"
     ]
    },
    {
     "name": "stdout",
     "output_type": "stream",
     "text": [
      "**\n",
      "complete.\n",
      "123 bgm\n",
      "bgm 키워드로  1320 전체 플레이리스트 수집을 시작합니다.\n",
      "*****************************************************************"
     ]
    },
    {
     "name": "stderr",
     "output_type": "stream",
     "text": [
      "\r",
      " 38%|███▊      | 124/325 [1:01:43<14:56,  4.46s/it]"
     ]
    },
    {
     "name": "stdout",
     "output_type": "stream",
     "text": [
      "**\n",
      "complete.\n",
      "124 디즈니\n",
      "디즈니 키워드로  247 전체 플레이리스트 수집을 시작합니다.\n",
      "*************"
     ]
    },
    {
     "name": "stderr",
     "output_type": "stream",
     "text": [
      "\r",
      " 38%|███▊      | 125/325 [1:01:44<11:57,  3.59s/it]"
     ]
    },
    {
     "name": "stdout",
     "output_type": "stream",
     "text": [
      "\n",
      "complete.\n",
      "125 영화OST\n",
      "영화OST 키워드로  221 전체 플레이리스트 수집을 시작합니다.\n",
      "***********"
     ]
    },
    {
     "name": "stderr",
     "output_type": "stream",
     "text": [
      "\r",
      " 39%|███▉      | 126/325 [1:01:46<09:51,  2.97s/it]"
     ]
    },
    {
     "name": "stdout",
     "output_type": "stream",
     "text": [
      "*\n",
      "complete.\n",
      "126 감동\n",
      "감동 키워드로  427 전체 플레이리스트 수집을 시작합니다.\n",
      "*******************"
     ]
    },
    {
     "name": "stderr",
     "output_type": "stream",
     "text": [
      "\r",
      " 39%|███▉      | 127/325 [1:01:48<09:39,  2.93s/it]"
     ]
    },
    {
     "name": "stdout",
     "output_type": "stream",
     "text": [
      "***\n",
      "complete.\n",
      "127 해외\n",
      "해외 키워드로  466 전체 플레이리스트 수집을 시작합니다.\n",
      "************************\n",
      "complete.\n"
     ]
    },
    {
     "name": "stderr",
     "output_type": "stream",
     "text": [
      "\r",
      " 39%|███▉      | 128/325 [1:01:51<09:21,  2.85s/it]"
     ]
    },
    {
     "name": "stdout",
     "output_type": "stream",
     "text": [
      "128 일렉트로니카\n",
      "일렉트로니카 키워드로  4696 전체 플레이리스트 수집을 시작합니다.\n",
      "*****************************************************************************************************************************************************************************************************************************************"
     ]
    },
    {
     "name": "stderr",
     "output_type": "stream",
     "text": [
      "\r",
      " 40%|███▉      | 129/325 [1:02:19<34:11, 10.47s/it]"
     ]
    },
    {
     "name": "stdout",
     "output_type": "stream",
     "text": [
      "**\n",
      "complete.\n",
      "129 일렉\n",
      "일렉 키워드로  4696 전체 플레이리스트 수집을 시작합니다.\n",
      "*******************************************************************************************************************************************************************************************************************************************"
     ]
    },
    {
     "name": "stderr",
     "output_type": "stream",
     "text": [
      "\r",
      " 40%|████      | 130/325 [1:02:48<51:58, 15.99s/it]"
     ]
    },
    {
     "name": "stdout",
     "output_type": "stream",
     "text": [
      "\n",
      "complete.\n",
      "130 하우스\n",
      "하우스 키워드로  652 전체 플레이리스트 수집을 시작합니다.\n",
      "*******************************"
     ]
    },
    {
     "name": "stderr",
     "output_type": "stream",
     "text": [
      "\r",
      " 40%|████      | 131/325 [1:02:53<40:27, 12.51s/it]"
     ]
    },
    {
     "name": "stdout",
     "output_type": "stream",
     "text": [
      "**\n",
      "complete.\n",
      "131 electronica\n",
      "electronica 키워드로  532 전체 플레이리스트 수집을 시작합니다.\n",
      "*************************"
     ]
    },
    {
     "name": "stderr",
     "output_type": "stream",
     "text": [
      "\r",
      " 41%|████      | 132/325 [1:02:56<31:07,  9.68s/it]"
     ]
    },
    {
     "name": "stdout",
     "output_type": "stream",
     "text": [
      "**\n",
      "complete.\n",
      "132 일렉트로닉\n",
      "일렉트로닉 키워드로  4696 전체 플레이리스트 수집을 시작합니다.\n",
      "*****************************************************************************************************************************************************************************************************************************************"
     ]
    },
    {
     "name": "stderr",
     "output_type": "stream",
     "text": [
      "\r",
      " 41%|████      | 133/325 [1:03:24<49:17, 15.41s/it]"
     ]
    },
    {
     "name": "stdout",
     "output_type": "stream",
     "text": [
      "**\n",
      "complete.\n",
      "133 빌로우\n",
      "빌로우 키워드로  134 전체 플레이리스트 수집을 시작합니다.\n",
      "*****"
     ]
    },
    {
     "name": "stderr",
     "output_type": "stream",
     "text": [
      "\r",
      " 41%|████      | 134/325 [1:03:25<35:08, 11.04s/it]"
     ]
    },
    {
     "name": "stdout",
     "output_type": "stream",
     "text": [
      "**\n",
      "complete.\n",
      "134 페스티벌\n",
      "페스티벌 키워드로  472 전체 플레이리스트 수집을 시작합니다.\n",
      "***********************"
     ]
    },
    {
     "name": "stderr",
     "output_type": "stream",
     "text": [
      "\r",
      " 42%|████▏     | 135/325 [1:03:28<27:17,  8.62s/it]"
     ]
    },
    {
     "name": "stdout",
     "output_type": "stream",
     "text": [
      "*\n",
      "complete.\n",
      "135 불금\n",
      "불금 키워드로  505 전체 플레이리스트 수집을 시작합니다.\n",
      "***********************"
     ]
    },
    {
     "name": "stderr",
     "output_type": "stream",
     "text": [
      "\r",
      " 42%|████▏     | 136/325 [1:03:32<22:03,  7.00s/it]"
     ]
    },
    {
     "name": "stdout",
     "output_type": "stream",
     "text": [
      "***\n",
      "complete.\n",
      "136 이디엠\n",
      "이디엠 키워드로  2323 전체 플레이리스트 수집을 시작합니다.\n",
      "*******************************************************************************************************************"
     ]
    },
    {
     "name": "stderr",
     "output_type": "stream",
     "text": [
      "\r",
      " 42%|████▏     | 137/325 [1:03:45<28:00,  8.94s/it]"
     ]
    },
    {
     "name": "stdout",
     "output_type": "stream",
     "text": [
      "**\n",
      "complete.\n",
      "137 DJ\n",
      "DJ 키워드로  241 전체 플레이리스트 수집을 시작합니다.\n",
      "***********"
     ]
    },
    {
     "name": "stderr",
     "output_type": "stream",
     "text": [
      "\r",
      " 42%|████▏     | 138/325 [1:03:47<21:06,  6.77s/it]"
     ]
    },
    {
     "name": "stdout",
     "output_type": "stream",
     "text": [
      "**\n",
      "complete.\n",
      "138 영국\n",
      "영국 키워드로  381 전체 플레이리스트 수집을 시작합니다.\n",
      "*****************"
     ]
    },
    {
     "name": "stderr",
     "output_type": "stream",
     "text": [
      "\r",
      " 43%|████▎     | 139/325 [1:03:50<17:35,  5.67s/it]"
     ]
    },
    {
     "name": "stdout",
     "output_type": "stream",
     "text": [
      "***\n",
      "complete.\n",
      "139 찬양\n",
      "찬양 키워드로  381 전체 플레이리스트 수집을 시작합니다.\n",
      "*****************"
     ]
    },
    {
     "name": "stderr",
     "output_type": "stream",
     "text": [
      "\r",
      " 43%|████▎     | 140/325 [1:03:52<14:21,  4.66s/it]"
     ]
    },
    {
     "name": "stdout",
     "output_type": "stream",
     "text": [
      "***\n",
      "complete.\n",
      "140 은혜\n",
      "은혜 키워드로  207 전체 플레이리스트 수집을 시작합니다.\n",
      "**********"
     ]
    },
    {
     "name": "stderr",
     "output_type": "stream",
     "text": [
      "\r",
      " 43%|████▎     | 141/325 [1:03:54<11:26,  3.73s/it]"
     ]
    },
    {
     "name": "stdout",
     "output_type": "stream",
     "text": [
      "*\n",
      "complete.\n",
      "141 감사\n",
      "감사 키워드로  165 전체 플레이리스트 수집을 시작합니다.\n",
      "*******"
     ]
    },
    {
     "name": "stderr",
     "output_type": "stream",
     "text": [
      "\r",
      " 44%|████▎     | 142/325 [1:03:55<08:59,  2.95s/it]"
     ]
    },
    {
     "name": "stdout",
     "output_type": "stream",
     "text": [
      "**\n",
      "complete.\n",
      "142 Playlist\n",
      "Playlist 키워드로  1355 전체 플레이리스트 수집을 시작합니다.\n",
      "******************************************************************"
     ]
    },
    {
     "name": "stderr",
     "output_type": "stream",
     "text": [
      "\r",
      " 44%|████▍     | 143/325 [1:04:03<13:51,  4.57s/it]"
     ]
    },
    {
     "name": "stdout",
     "output_type": "stream",
     "text": [
      "**\n",
      "complete.\n",
      "143 힘들때\n",
      "힘들때 키워드로  655 전체 플레이리스트 수집을 시작합니다.\n",
      "*********************************"
     ]
    },
    {
     "name": "stderr",
     "output_type": "stream",
     "text": [
      "\r",
      " 44%|████▍     | 144/325 [1:04:07<12:55,  4.28s/it]"
     ]
    },
    {
     "name": "stdout",
     "output_type": "stream",
     "text": [
      "\n",
      "complete.\n",
      "144 국내ccm\n",
      "국내ccm 키워드로  121 전체 플레이리스트 수집을 시작합니다.\n",
      "*****"
     ]
    },
    {
     "name": "stderr",
     "output_type": "stream",
     "text": [
      "\r",
      " 45%|████▍     | 145/325 [1:04:08<09:46,  3.26s/it]"
     ]
    },
    {
     "name": "stdout",
     "output_type": "stream",
     "text": [
      "**\n",
      "complete.\n",
      "145 해외CCM\n",
      "해외CCM 키워드로  99 전체 플레이리스트 수집을 시작합니다.\n",
      "***"
     ]
    },
    {
     "name": "stderr",
     "output_type": "stream",
     "text": [
      "\r",
      " 45%|████▍     | 146/325 [1:04:09<07:45,  2.60s/it]"
     ]
    },
    {
     "name": "stdout",
     "output_type": "stream",
     "text": [
      "**\n",
      "complete.\n",
      "146 라이브워십\n",
      "라이브워십 키워드로  75 전체 플레이리스트 수집을 시작합니다.\n",
      "**"
     ]
    },
    {
     "name": "stderr",
     "output_type": "stream",
     "text": [
      "\r",
      " 45%|████▌     | 147/325 [1:04:09<05:52,  1.98s/it]"
     ]
    },
    {
     "name": "stdout",
     "output_type": "stream",
     "text": [
      "**\n",
      "complete.\n",
      "147 파워DJ_CCM\n",
      "파워DJ_CCM 키워드로  98 전체 플레이리스트 수집을 시작합니다.\n",
      "***"
     ]
    },
    {
     "name": "stderr",
     "output_type": "stream",
     "text": [
      "\r",
      " 46%|████▌     | 148/325 [1:04:10<04:42,  1.60s/it]"
     ]
    },
    {
     "name": "stdout",
     "output_type": "stream",
     "text": [
      "**\n",
      "complete.\n",
      "148 워십\n",
      "워십 키워드로  85 전체 플레이리스트 수집을 시작합니다.\n",
      "*****"
     ]
    },
    {
     "name": "stderr",
     "output_type": "stream",
     "text": [
      "\r",
      " 46%|████▌     | 149/325 [1:04:11<03:51,  1.31s/it]"
     ]
    },
    {
     "name": "stdout",
     "output_type": "stream",
     "text": [
      "\n",
      "complete.\n",
      "149 예배\n",
      "예배 키워드로  77 전체 플레이리스트 수집을 시작합니다.\n",
      "**"
     ]
    },
    {
     "name": "stderr",
     "output_type": "stream",
     "text": [
      "\r",
      " 46%|████▌     | 150/325 [1:04:11<03:10,  1.09s/it]"
     ]
    },
    {
     "name": "stdout",
     "output_type": "stream",
     "text": [
      "**\n",
      "complete.\n",
      "150 CCM추천\n",
      "CCM추천 키워드로  65 전체 플레이리스트 수집을 시작합니다.\n",
      "**"
     ]
    },
    {
     "name": "stderr",
     "output_type": "stream",
     "text": [
      "\r",
      " 46%|████▋     | 151/325 [1:04:12<02:41,  1.08it/s]"
     ]
    },
    {
     "name": "stdout",
     "output_type": "stream",
     "text": [
      "**\n",
      "complete.\n",
      "151 기도\n",
      "기도 키워드로  64 전체 플레이리스트 수집을 시작합니다.\n",
      "****"
     ]
    },
    {
     "name": "stderr",
     "output_type": "stream",
     "text": [
      "\r",
      " 47%|████▋     | 152/325 [1:04:12<02:22,  1.21it/s]"
     ]
    },
    {
     "name": "stdout",
     "output_type": "stream",
     "text": [
      "\n",
      "complete.\n",
      "152 교회\n",
      "교회 키워드로  57 전체 플레이리스트 수집을 시작합니다.\n",
      "***"
     ]
    },
    {
     "name": "stderr",
     "output_type": "stream",
     "text": [
      "\r",
      " 47%|████▋     | 153/325 [1:04:13<02:04,  1.38it/s]"
     ]
    },
    {
     "name": "stdout",
     "output_type": "stream",
     "text": [
      "\n",
      "complete.\n",
      "153 찬송가\n",
      "찬송가 키워드로  73 전체 플레이리스트 수집을 시작합니다.\n",
      "***"
     ]
    },
    {
     "name": "stderr",
     "output_type": "stream",
     "text": [
      "\r",
      " 47%|████▋     | 154/325 [1:04:14<02:07,  1.34it/s]"
     ]
    },
    {
     "name": "stdout",
     "output_type": "stream",
     "text": [
      "*\n",
      "complete.\n",
      "154 추천\n",
      "추천 키워드로  564 전체 플레이리스트 수집을 시작합니다.\n",
      "****************************"
     ]
    },
    {
     "name": "stderr",
     "output_type": "stream",
     "text": [
      "\r",
      " 48%|████▊     | 155/325 [1:04:17<04:32,  1.60s/it]"
     ]
    },
    {
     "name": "stdout",
     "output_type": "stream",
     "text": [
      "*\n",
      "complete.\n",
      "155 예수님\n",
      "예수님 키워드로  35 전체 플레이리스트 수집을 시작합니다.\n",
      "*"
     ]
    },
    {
     "name": "stderr",
     "output_type": "stream",
     "text": [
      "\r",
      " 48%|████▊     | 156/325 [1:04:18<03:32,  1.26s/it]"
     ]
    },
    {
     "name": "stdout",
     "output_type": "stream",
     "text": [
      "*\n",
      "complete.\n",
      "156 기독교\n",
      "기독교 키워드로  41 전체 플레이리스트 수집을 시작합니다.\n",
      "***"
     ]
    },
    {
     "name": "stderr",
     "output_type": "stream",
     "text": [
      "\r",
      " 48%|████▊     | 157/325 [1:04:18<02:53,  1.03s/it]"
     ]
    },
    {
     "name": "stdout",
     "output_type": "stream",
     "text": [
      "\n",
      "complete.\n",
      "157 묵상\n",
      "묵상 키워드로  26 전체 플레이리스트 수집을 시작합니다.\n"
     ]
    },
    {
     "name": "stderr",
     "output_type": "stream",
     "text": [
      "\r",
      " 49%|████▊     | 158/325 [1:04:19<02:36,  1.07it/s]"
     ]
    },
    {
     "name": "stdout",
     "output_type": "stream",
     "text": [
      "**\n",
      "complete.\n",
      "158 신나는ccm\n"
     ]
    },
    {
     "name": "stderr",
     "output_type": "stream",
     "text": [
      "\r",
      " 49%|████▉     | 159/325 [1:04:19<02:07,  1.31it/s]"
     ]
    },
    {
     "name": "stdout",
     "output_type": "stream",
     "text": [
      "신나는ccm 키워드로  21 전체 플레이리스트 수집을 시작합니다.\n",
      "**\n",
      "complete.\n",
      "159 하나님\n",
      "하나님 키워드로  24 전체 플레이리스트 수집을 시작합니다.\n"
     ]
    },
    {
     "name": "stderr",
     "output_type": "stream",
     "text": [
      "\r",
      " 49%|████▉     | 160/325 [1:04:20<01:47,  1.54it/s]"
     ]
    },
    {
     "name": "stdout",
     "output_type": "stream",
     "text": [
      "**\n",
      "complete.\n",
      "160 제이팝\n",
      "제이팝 키워드로  1275 전체 플레이리스트 수집을 시작합니다.\n",
      "**************************************************************"
     ]
    },
    {
     "name": "stderr",
     "output_type": "stream",
     "text": [
      "\r",
      " 50%|████▉     | 161/325 [1:04:27<07:17,  2.67s/it]"
     ]
    },
    {
     "name": "stdout",
     "output_type": "stream",
     "text": [
      "**\n",
      "complete.\n",
      "161 일본\n",
      "일본 키워드로  263 전체 플레이리스트 수집을 시작합니다.\n",
      "************"
     ]
    },
    {
     "name": "stderr",
     "output_type": "stream",
     "text": [
      "\r",
      " 50%|████▉     | 162/325 [1:04:29<06:23,  2.35s/it]"
     ]
    },
    {
     "name": "stdout",
     "output_type": "stream",
     "text": [
      "**\n",
      "complete.\n",
      "162 일본노래\n",
      "일본노래 키워드로  202 전체 플레이리스트 수집을 시작합니다.\n",
      "*********"
     ]
    },
    {
     "name": "stderr",
     "output_type": "stream",
     "text": [
      "\r",
      " 50%|█████     | 163/325 [1:04:30<05:46,  2.14s/it]"
     ]
    },
    {
     "name": "stdout",
     "output_type": "stream",
     "text": [
      "**\n",
      "complete.\n",
      "163 일본음악\n",
      "일본음악 키워드로  202 전체 플레이리스트 수집을 시작합니다.\n",
      "*********"
     ]
    },
    {
     "name": "stderr",
     "output_type": "stream",
     "text": [
      "\r",
      " 50%|█████     | 164/325 [1:04:32<05:09,  1.93s/it]"
     ]
    },
    {
     "name": "stdout",
     "output_type": "stream",
     "text": [
      "**\n",
      "complete.\n",
      "164 애니\n",
      "애니 키워드로  322 전체 플레이리스트 수집을 시작합니다.\n",
      "***************"
     ]
    },
    {
     "name": "stderr",
     "output_type": "stream",
     "text": [
      "\r",
      " 51%|█████     | 165/325 [1:04:34<05:32,  2.08s/it]"
     ]
    },
    {
     "name": "stdout",
     "output_type": "stream",
     "text": [
      "**\n",
      "complete.\n",
      "165 JRock\n",
      "JRock 키워드로  88 전체 플레이리스트 수집을 시작합니다.\n",
      "***"
     ]
    },
    {
     "name": "stderr",
     "output_type": "stream",
     "text": [
      "\r",
      " 51%|█████     | 166/325 [1:04:35<04:27,  1.68s/it]"
     ]
    },
    {
     "name": "stdout",
     "output_type": "stream",
     "text": [
      "**\n",
      "complete.\n",
      "166 OST\n",
      "OST 키워드로  3398 전체 플레이리스트 수집을 시작합니다.\n",
      "*************************************************************************************************************************************************************************"
     ]
    },
    {
     "name": "stderr",
     "output_type": "stream",
     "text": [
      "\r",
      " 51%|█████▏    | 167/325 [1:04:54<18:33,  7.05s/it]"
     ]
    },
    {
     "name": "stdout",
     "output_type": "stream",
     "text": [
      "*\n",
      "complete.\n",
      "167 JPOP추천\n",
      "JPOP추천 키워드로  33 전체 플레이리스트 수집을 시작합니다.\n"
     ]
    },
    {
     "name": "stderr",
     "output_type": "stream",
     "text": [
      "\r",
      " 52%|█████▏    | 168/325 [1:04:55<13:10,  5.04s/it]"
     ]
    },
    {
     "name": "stdout",
     "output_type": "stream",
     "text": [
      "**\n",
      "complete.\n",
      "168 우타이테\n"
     ]
    },
    {
     "name": "stderr",
     "output_type": "stream",
     "text": [
      "\r",
      " 52%|█████▏    | 169/325 [1:04:55<09:26,  3.63s/it]"
     ]
    },
    {
     "name": "stdout",
     "output_type": "stream",
     "text": [
      "우타이테 키워드로  28 전체 플레이리스트 수집을 시작합니다.\n",
      "**\n",
      "complete.\n",
      "169 JPOP모음\n",
      "JPOP모음 키워드로  24 전체 플레이리스트 수집을 시작합니다.\n"
     ]
    },
    {
     "name": "stderr",
     "output_type": "stream",
     "text": [
      "\r",
      " 52%|█████▏    | 170/325 [1:04:56<06:52,  2.66s/it]"
     ]
    },
    {
     "name": "stdout",
     "output_type": "stream",
     "text": [
      "**\n",
      "complete.\n",
      "170 J_POP\n",
      "J_POP 키워드로  1275 전체 플레이리스트 수집을 시작합니다.\n",
      "**************************************************************"
     ]
    },
    {
     "name": "stderr",
     "output_type": "stream",
     "text": [
      "\r",
      " 53%|█████▎    | 171/325 [1:05:03<10:31,  4.10s/it]"
     ]
    },
    {
     "name": "stdout",
     "output_type": "stream",
     "text": [
      "**\n",
      "complete.\n",
      "171 성인가요\n",
      "성인가요 키워드로  225 전체 플레이리스트 수집을 시작합니다.\n",
      "***********"
     ]
    },
    {
     "name": "stderr",
     "output_type": "stream",
     "text": [
      "\r",
      " 53%|█████▎    | 172/325 [1:05:05<08:34,  3.36s/it]"
     ]
    },
    {
     "name": "stdout",
     "output_type": "stream",
     "text": [
      "*\n",
      "complete.\n",
      "172 미스터트롯\n",
      "미스터트롯 키워드로  172 전체 플레이리스트 수집을 시작합니다.\n",
      "********"
     ]
    },
    {
     "name": "stderr",
     "output_type": "stream",
     "text": [
      "\r",
      " 53%|█████▎    | 173/325 [1:05:06<06:59,  2.76s/it]"
     ]
    },
    {
     "name": "stdout",
     "output_type": "stream",
     "text": [
      "*\n",
      "complete.\n",
      "173 임영웅\n",
      "임영웅 키워드로  141 전체 플레이리스트 수집을 시작합니다.\n",
      "*******"
     ]
    },
    {
     "name": "stderr",
     "output_type": "stream",
     "text": [
      "\r",
      " 54%|█████▎    | 174/325 [1:05:08<06:04,  2.41s/it]"
     ]
    },
    {
     "name": "stdout",
     "output_type": "stream",
     "text": [
      "*\n",
      "complete.\n",
      "174 노래방\n",
      "노래방 키워드로  836 전체 플레이리스트 수집을 시작합니다.\n",
      "****************************************"
     ]
    },
    {
     "name": "stderr",
     "output_type": "stream",
     "text": [
      "\r",
      " 54%|█████▍    | 175/325 [1:05:12<07:46,  3.11s/it]"
     ]
    },
    {
     "name": "stdout",
     "output_type": "stream",
     "text": [
      "**\n",
      "complete.\n",
      "175 미스트롯\n",
      "미스트롯 키워드로  109 전체 플레이리스트 수집을 시작합니다.\n",
      "*****"
     ]
    },
    {
     "name": "stderr",
     "output_type": "stream",
     "text": [
      "\r",
      " 54%|█████▍    | 176/325 [1:05:13<05:57,  2.40s/it]"
     ]
    },
    {
     "name": "stdout",
     "output_type": "stream",
     "text": [
      "*\n",
      "complete.\n",
      "176 송가인\n",
      "송가인 키워드로  169 전체 플레이리스트 수집을 시작합니다.\n",
      "*********"
     ]
    },
    {
     "name": "stderr",
     "output_type": "stream",
     "text": [
      "\r",
      " 54%|█████▍    | 177/325 [1:05:14<04:59,  2.03s/it]"
     ]
    },
    {
     "name": "stdout",
     "output_type": "stream",
     "text": [
      "\n",
      "complete.\n",
      "177 영탁\n",
      "영탁 키워드로  63 전체 플레이리스트 수집을 시작합니다.\n",
      "**"
     ]
    },
    {
     "name": "stderr",
     "output_type": "stream",
     "text": [
      "\r",
      " 55%|█████▍    | 178/325 [1:05:15<04:01,  1.64s/it]"
     ]
    },
    {
     "name": "stdout",
     "output_type": "stream",
     "text": [
      "**\n",
      "complete.\n",
      "178 트롯\n",
      "트롯 키워드로  840 전체 플레이리스트 수집을 시작합니다.\n",
      "******************************************"
     ]
    },
    {
     "name": "stderr",
     "output_type": "stream",
     "text": [
      "\r",
      " 55%|█████▌    | 179/325 [1:05:20<06:33,  2.70s/it]"
     ]
    },
    {
     "name": "stdout",
     "output_type": "stream",
     "text": [
      "*\n",
      "complete.\n",
      "179 정미애\n",
      "정미애 키워드로  67 전체 플레이리스트 수집을 시작합니다.\n",
      "***"
     ]
    },
    {
     "name": "stderr",
     "output_type": "stream",
     "text": [
      "\r",
      " 55%|█████▌    | 180/325 [1:05:21<05:03,  2.09s/it]"
     ]
    },
    {
     "name": "stdout",
     "output_type": "stream",
     "text": [
      "*\n",
      "complete.\n",
      "180 전통가요\n",
      "전통가요 키워드로  225 전체 플레이리스트 수집을 시작합니다.\n",
      "***********"
     ]
    },
    {
     "name": "stderr",
     "output_type": "stream",
     "text": [
      "\r",
      " 56%|█████▌    | 181/325 [1:05:23<04:55,  2.05s/it]"
     ]
    },
    {
     "name": "stdout",
     "output_type": "stream",
     "text": [
      "*\n",
      "complete.\n",
      "181 고속도로\n",
      "고속도로 키워드로  180 전체 플레이리스트 수집을 시작합니다.\n",
      "********"
     ]
    },
    {
     "name": "stderr",
     "output_type": "stream",
     "text": [
      "\r",
      " 56%|█████▌    | 182/325 [1:05:24<04:18,  1.81s/it]"
     ]
    },
    {
     "name": "stdout",
     "output_type": "stream",
     "text": [
      "**\n",
      "complete.\n",
      "182 회식\n",
      "회식 키워드로  67 전체 플레이리스트 수집을 시작합니다.\n",
      "**"
     ]
    },
    {
     "name": "stderr",
     "output_type": "stream",
     "text": [
      "\r",
      " 56%|█████▋    | 183/325 [1:05:25<03:24,  1.44s/it]"
     ]
    },
    {
     "name": "stdout",
     "output_type": "stream",
     "text": [
      "**\n",
      "complete.\n",
      "183 이찬원\n",
      "이찬원 키워드로  41 전체 플레이리스트 수집을 시작합니다.\n",
      "*"
     ]
    },
    {
     "name": "stderr",
     "output_type": "stream",
     "text": [
      "\r",
      " 57%|█████▋    | 184/325 [1:05:25<02:41,  1.15s/it]"
     ]
    },
    {
     "name": "stdout",
     "output_type": "stream",
     "text": [
      "**\n",
      "complete.\n",
      "184 명절\n",
      "명절 키워드로  101 전체 플레이리스트 수집을 시작합니다.\n",
      "****"
     ]
    },
    {
     "name": "stderr",
     "output_type": "stream",
     "text": [
      "\r",
      " 57%|█████▋    | 185/325 [1:05:26<02:23,  1.02s/it]"
     ]
    },
    {
     "name": "stdout",
     "output_type": "stream",
     "text": [
      "**\n",
      "complete.\n",
      "185 흥겨운\n",
      "흥겨운 키워드로  800 전체 플레이리스트 수집을 시작합니다.\n",
      "***************************************"
     ]
    },
    {
     "name": "stderr",
     "output_type": "stream",
     "text": [
      "\r",
      " 57%|█████▋    | 186/325 [1:05:31<04:59,  2.16s/it]"
     ]
    },
    {
     "name": "stdout",
     "output_type": "stream",
     "text": [
      "**\n",
      "complete.\n",
      "186 김호중\n",
      "김호중 키워드로  36 전체 플레이리스트 수집을 시작합니다.\n",
      "*"
     ]
    },
    {
     "name": "stderr",
     "output_type": "stream",
     "text": [
      "\r",
      " 58%|█████▊    | 187/325 [1:05:31<03:47,  1.65s/it]"
     ]
    },
    {
     "name": "stdout",
     "output_type": "stream",
     "text": [
      "*\n",
      "complete.\n",
      "187 정동원\n",
      "정동원 키워드로  29 전체 플레이리스트 수집을 시작합니다.\n"
     ]
    },
    {
     "name": "stderr",
     "output_type": "stream",
     "text": [
      "\r",
      " 58%|█████▊    | 188/325 [1:05:31<02:51,  1.25s/it]"
     ]
    },
    {
     "name": "stdout",
     "output_type": "stream",
     "text": [
      "**\n",
      "complete.\n",
      "188 장민호\n",
      "장민호 키워드로  27 전체 플레이리스트 수집을 시작합니다.\n",
      "**"
     ]
    },
    {
     "name": "stderr",
     "output_type": "stream",
     "text": [
      "\r",
      " 58%|█████▊    | 189/325 [1:05:32<02:25,  1.07s/it]"
     ]
    },
    {
     "name": "stdout",
     "output_type": "stream",
     "text": [
      "\n",
      "complete.\n",
      "189 World\n",
      "World 키워드로  85 전체 플레이리스트 수집을 시작합니다.\n",
      "*****"
     ]
    },
    {
     "name": "stderr",
     "output_type": "stream",
     "text": [
      "\r",
      " 58%|█████▊    | 190/325 [1:05:33<02:08,  1.05it/s]"
     ]
    },
    {
     "name": "stdout",
     "output_type": "stream",
     "text": [
      "\n",
      "complete.\n",
      "190 etc\n",
      "etc 키워드로  93 전체 플레이리스트 수집을 시작합니다.\n",
      "***"
     ]
    },
    {
     "name": "stderr",
     "output_type": "stream",
     "text": [
      "\r",
      " 59%|█████▉    | 191/325 [1:05:33<01:57,  1.14it/s]"
     ]
    },
    {
     "name": "stdout",
     "output_type": "stream",
     "text": [
      "**\n",
      "complete.\n",
      "191 라틴\n",
      "라틴 키워드로  150 전체 플레이리스트 수집을 시작합니다.\n",
      "********"
     ]
    },
    {
     "name": "stderr",
     "output_type": "stream",
     "text": [
      "\r",
      " 59%|█████▉    | 192/325 [1:05:35<02:09,  1.03it/s]"
     ]
    },
    {
     "name": "stdout",
     "output_type": "stream",
     "text": [
      "\n",
      "complete.\n",
      "192 지역별\n",
      "지역별 키워드로  38 전체 플레이리스트 수집을 시작합니다.\n",
      "*"
     ]
    },
    {
     "name": "stderr",
     "output_type": "stream",
     "text": [
      "\r",
      " 59%|█████▉    | 193/325 [1:05:35<01:53,  1.16it/s]"
     ]
    },
    {
     "name": "stdout",
     "output_type": "stream",
     "text": [
      "*\n",
      "complete.\n",
      "193 샹송\n",
      "샹송 키워드로  78 전체 플레이리스트 수집을 시작합니다.\n",
      "***"
     ]
    },
    {
     "name": "stderr",
     "output_type": "stream",
     "text": [
      "\r",
      " 60%|█████▉    | 194/325 [1:05:36<01:51,  1.17it/s]"
     ]
    },
    {
     "name": "stdout",
     "output_type": "stream",
     "text": [
      "*\n",
      "complete.\n",
      "194 낭만\n",
      "낭만 키워드로  1026 전체 플레이리스트 수집을 시작합니다.\n",
      "***************************************************"
     ]
    },
    {
     "name": "stderr",
     "output_type": "stream",
     "text": [
      "\r",
      " 60%|██████    | 195/325 [1:05:43<05:52,  2.72s/it]"
     ]
    },
    {
     "name": "stdout",
     "output_type": "stream",
     "text": [
      "*\n",
      "complete.\n",
      "195 프랑스\n",
      "프랑스 키워드로  95 전체 플레이리스트 수집을 시작합니다.\n",
      "***"
     ]
    },
    {
     "name": "stderr",
     "output_type": "stream",
     "text": [
      "\r",
      " 60%|██████    | 196/325 [1:05:44<04:31,  2.11s/it]"
     ]
    },
    {
     "name": "stdout",
     "output_type": "stream",
     "text": [
      "**\n",
      "complete.\n",
      "196 프렌치팝\n",
      "프렌치팝 키워드로  38 전체 플레이리스트 수집을 시작합니다.\n",
      "**"
     ]
    },
    {
     "name": "stderr",
     "output_type": "stream",
     "text": [
      "\r",
      " 61%|██████    | 197/325 [1:05:44<03:23,  1.59s/it]"
     ]
    },
    {
     "name": "stdout",
     "output_type": "stream",
     "text": [
      "\n",
      "complete.\n",
      "197 경쾌한\n",
      "경쾌한 키워드로  493 전체 플레이리스트 수집을 시작합니다.\n",
      "************************"
     ]
    },
    {
     "name": "stderr",
     "output_type": "stream",
     "text": [
      "\r",
      " 61%|██████    | 198/325 [1:05:47<04:08,  1.96s/it]"
     ]
    },
    {
     "name": "stdout",
     "output_type": "stream",
     "text": [
      "*\n",
      "complete.\n",
      "198 이국적인\n",
      "이국적인 키워드로  53 전체 플레이리스트 수집을 시작합니다.\n",
      "**"
     ]
    },
    {
     "name": "stderr",
     "output_type": "stream",
     "text": [
      "\r",
      " 61%|██████    | 199/325 [1:05:47<03:11,  1.52s/it]"
     ]
    },
    {
     "name": "stdout",
     "output_type": "stream",
     "text": [
      "*\n",
      "complete.\n",
      "199 칸초네\n",
      "칸초네 키워드로  17 전체 플레이리스트 수집을 시작합니다.\n"
     ]
    },
    {
     "name": "stderr",
     "output_type": "stream",
     "text": [
      "\r",
      " 62%|██████▏   | 200/325 [1:05:48<02:34,  1.24s/it]"
     ]
    },
    {
     "name": "stdout",
     "output_type": "stream",
     "text": [
      "*\n",
      "complete.\n",
      "200 레게\n",
      "레게 키워드로  58 전체 플레이리스트 수집을 시작합니다.\n",
      "**"
     ]
    },
    {
     "name": "stderr",
     "output_type": "stream",
     "text": [
      "\r",
      " 62%|██████▏   | 201/325 [1:05:48<02:04,  1.00s/it]"
     ]
    },
    {
     "name": "stdout",
     "output_type": "stream",
     "text": [
      "*\n",
      "complete.\n",
      "201 브라질\n",
      "브라질 키워드로  40 전체 플레이리스트 수집을 시작합니다.\n"
     ]
    },
    {
     "name": "stderr",
     "output_type": "stream",
     "text": [
      "\r",
      " 62%|██████▏   | 202/325 [1:05:49<01:42,  1.20it/s]"
     ]
    },
    {
     "name": "stdout",
     "output_type": "stream",
     "text": [
      "***\n",
      "complete.\n",
      "202 시대별\n",
      "시대별 키워드로  18 전체 플레이리스트 수집을 시작합니다.\n"
     ]
    },
    {
     "name": "stderr",
     "output_type": "stream",
     "text": [
      "\r",
      " 62%|██████▏   | 203/325 [1:05:49<01:20,  1.51it/s]"
     ]
    },
    {
     "name": "stdout",
     "output_type": "stream",
     "text": [
      "*\n",
      "complete.\n",
      "203 Latin\n",
      "Latin 키워드로  150 전체 플레이리스트 수집을 시작합니다.\n",
      "*******"
     ]
    },
    {
     "name": "stderr",
     "output_type": "stream",
     "text": [
      "\r",
      " 63%|██████▎   | 204/325 [1:05:50<01:32,  1.30it/s]"
     ]
    },
    {
     "name": "stdout",
     "output_type": "stream",
     "text": [
      "*\n",
      "complete.\n",
      "204 열정\n",
      "열정 키워드로  76 전체 플레이리스트 수집을 시작합니다.\n",
      "***"
     ]
    },
    {
     "name": "stderr",
     "output_type": "stream",
     "text": [
      "\r",
      " 63%|██████▎   | 205/325 [1:05:51<01:24,  1.42it/s]"
     ]
    },
    {
     "name": "stdout",
     "output_type": "stream",
     "text": [
      "*\n",
      "complete.\n",
      "205 블루스록\n",
      "블루스록 키워드로  37 전체 플레이리스트 수집을 시작합니다.\n"
     ]
    },
    {
     "name": "stderr",
     "output_type": "stream",
     "text": [
      "\r",
      " 63%|██████▎   | 206/325 [1:05:51<01:12,  1.65it/s]"
     ]
    },
    {
     "name": "stdout",
     "output_type": "stream",
     "text": [
      "**\n",
      "complete.\n",
      "206 기타\n",
      "기타 키워드로  507 전체 플레이리스트 수집을 시작합니다.\n",
      "************************"
     ]
    },
    {
     "name": "stderr",
     "output_type": "stream",
     "text": [
      "\r",
      " 64%|██████▎   | 207/325 [1:05:55<03:00,  1.53s/it]"
     ]
    },
    {
     "name": "stdout",
     "output_type": "stream",
     "text": [
      "**\n",
      "complete.\n",
      "207 Blues\n",
      "Blues 키워드로  195 전체 플레이리스트 수집을 시작합니다.\n",
      "********"
     ]
    },
    {
     "name": "stderr",
     "output_type": "stream",
     "text": [
      "\r",
      " 64%|██████▍   | 208/325 [1:05:56<02:50,  1.46s/it]"
     ]
    },
    {
     "name": "stdout",
     "output_type": "stream",
     "text": [
      "**\n",
      "complete.\n",
      "208 록\n",
      "록 키워드로  6764 전체 플레이리스트 수집을 시작합니다.\n",
      "***************************************************************************************************************************************************************************************************************************************************************************************************************************************************"
     ]
    },
    {
     "name": "stderr",
     "output_type": "stream",
     "text": [
      "\r",
      " 64%|██████▍   | 209/325 [1:06:36<24:52, 12.86s/it]"
     ]
    },
    {
     "name": "stdout",
     "output_type": "stream",
     "text": [
      "\n",
      "complete.\n",
      "209 컨트리\n",
      "컨트리 키워드로  183 전체 플레이리스트 수집을 시작합니다.\n",
      "********"
     ]
    },
    {
     "name": "stderr",
     "output_type": "stream",
     "text": [
      "\r",
      " 65%|██████▍   | 210/325 [1:06:37<17:58,  9.38s/it]"
     ]
    },
    {
     "name": "stdout",
     "output_type": "stream",
     "text": [
      "**\n",
      "complete.\n",
      "210 스윙\n",
      "스윙 키워드로  74 전체 플레이리스트 수집을 시작합니다.\n",
      "****"
     ]
    },
    {
     "name": "stderr",
     "output_type": "stream",
     "text": [
      "\r",
      " 65%|██████▍   | 211/325 [1:06:37<12:48,  6.74s/it]"
     ]
    },
    {
     "name": "stdout",
     "output_type": "stream",
     "text": [
      "\n",
      "complete.\n",
      "211 레전드\n",
      "레전드 키워드로  365 전체 플레이리스트 수집을 시작합니다.\n",
      "*****************"
     ]
    },
    {
     "name": "stderr",
     "output_type": "stream",
     "text": [
      "\r",
      " 65%|██████▌   | 212/325 [1:06:40<10:10,  5.40s/it]"
     ]
    },
    {
     "name": "stdout",
     "output_type": "stream",
     "text": [
      "**\n",
      "complete.\n",
      "212 한국블루스\n"
     ]
    },
    {
     "name": "stderr",
     "output_type": "stream",
     "text": [
      "\r",
      " 66%|██████▌   | 213/325 [1:06:40<07:11,  3.85s/it]"
     ]
    },
    {
     "name": "stdout",
     "output_type": "stream",
     "text": [
      "한국블루스 키워드로  7 전체 플레이리스트 수집을 시작합니다.\n",
      "*\n",
      "complete.\n",
      "213 빌보드핫차트\n",
      "빌보드핫차트 키워드로  52 전체 플레이리스트 수집을 시작합니다.\n",
      "*"
     ]
    },
    {
     "name": "stderr",
     "output_type": "stream",
     "text": [
      "\r",
      " 66%|██████▌   | 214/325 [1:06:41<05:46,  3.12s/it]"
     ]
    },
    {
     "name": "stdout",
     "output_type": "stream",
     "text": [
      "**\n",
      "complete.\n",
      "214 빌보드Hot50\n",
      "빌보드Hot50 키워드로  187 전체 플레이리스트 수집을 시작합니다.\n",
      "*********"
     ]
    },
    {
     "name": "stderr",
     "output_type": "stream",
     "text": [
      "\r",
      " 66%|██████▌   | 215/325 [1:06:43<04:46,  2.60s/it]"
     ]
    },
    {
     "name": "stdout",
     "output_type": "stream",
     "text": [
      "*\n",
      "complete.\n",
      "215 컨트리팝\n",
      "컨트리팝 키워드로  22 전체 플레이리스트 수집을 시작합니다.\n"
     ]
    },
    {
     "name": "stderr",
     "output_type": "stream",
     "text": [
      "\r",
      " 66%|██████▋   | 216/325 [1:06:43<03:31,  1.94s/it]"
     ]
    },
    {
     "name": "stdout",
     "output_type": "stream",
     "text": [
      "**\n",
      "complete.\n",
      "216 LilNasX\n",
      "LilNasX 키워드로  24 전체 플레이리스트 수집을 시작합니다.\n",
      "*"
     ]
    },
    {
     "name": "stderr",
     "output_type": "stream",
     "text": [
      "\r",
      " 67%|██████▋   | 217/325 [1:06:44<02:39,  1.48s/it]"
     ]
    },
    {
     "name": "stdout",
     "output_type": "stream",
     "text": [
      "*\n",
      "complete.\n",
      "217 Country\n",
      "Country 키워드로  183 전체 플레이리스트 수집을 시작합니다.\n",
      "********"
     ]
    },
    {
     "name": "stderr",
     "output_type": "stream",
     "text": [
      "\r",
      " 67%|██████▋   | 218/325 [1:06:45<02:28,  1.39s/it]"
     ]
    },
    {
     "name": "stdout",
     "output_type": "stream",
     "text": [
      "**\n",
      "complete.\n",
      "218 블루스\n",
      "블루스 키워드로  195 전체 플레이리스트 수집을 시작합니다.\n",
      "********"
     ]
    },
    {
     "name": "stderr",
     "output_type": "stream",
     "text": [
      "\r",
      " 67%|██████▋   | 219/325 [1:06:46<02:29,  1.41s/it]"
     ]
    },
    {
     "name": "stdout",
     "output_type": "stream",
     "text": [
      "**\n",
      "complete.\n",
      "219 테일러스위프트\n",
      "테일러스위프트 키워드로  30 전체 플레이리스트 수집을 시작합니다.\n",
      "**"
     ]
    },
    {
     "name": "stderr",
     "output_type": "stream",
     "text": [
      "\r",
      " 68%|██████▊   | 220/325 [1:06:47<01:55,  1.10s/it]"
     ]
    },
    {
     "name": "stdout",
     "output_type": "stream",
     "text": [
      "\n",
      "complete.\n",
      "220 1990년대\n",
      "1990년대 키워드로  798 전체 플레이리스트 수집을 시작합니다.\n",
      "**************************************"
     ]
    },
    {
     "name": "stderr",
     "output_type": "stream",
     "text": [
      "\r",
      " 68%|██████▊   | 221/325 [1:06:51<03:47,  2.19s/it]"
     ]
    },
    {
     "name": "stdout",
     "output_type": "stream",
     "text": [
      "**\n",
      "complete.\n",
      "221 몽환\n",
      "몽환 키워드로  1798 전체 플레이리스트 수집을 시작합니다.\n",
      "****************************************************************************************"
     ]
    },
    {
     "name": "stderr",
     "output_type": "stream",
     "text": [
      "\r",
      " 68%|██████▊   | 222/325 [1:07:03<08:34,  4.99s/it]"
     ]
    },
    {
     "name": "stdout",
     "output_type": "stream",
     "text": [
      "**\n",
      "complete.\n",
      "222 꿈\n",
      "꿈 키워드로  225 전체 플레이리스트 수집을 시작합니다.\n",
      "**********"
     ]
    },
    {
     "name": "stderr",
     "output_type": "stream",
     "text": [
      "\r",
      " 69%|██████▊   | 223/325 [1:07:05<06:54,  4.07s/it]"
     ]
    },
    {
     "name": "stdout",
     "output_type": "stream",
     "text": [
      "**\n",
      "complete.\n",
      "223 듀엣\n",
      "듀엣 키워드로  389 전체 플레이리스트 수집을 시작합니다.\n",
      "*******************"
     ]
    },
    {
     "name": "stderr",
     "output_type": "stream",
     "text": [
      "\r",
      " 69%|██████▉   | 224/325 [1:07:07<05:58,  3.55s/it]"
     ]
    },
    {
     "name": "stdout",
     "output_type": "stream",
     "text": [
      "*\n",
      "complete.\n",
      "224 몽환적\n",
      "몽환적 키워드로  1798 전체 플레이리스트 수집을 시작합니다.\n",
      "*****************************************************************************************"
     ]
    },
    {
     "name": "stderr",
     "output_type": "stream",
     "text": [
      "\r",
      " 69%|██████▉   | 225/325 [1:07:19<09:52,  5.92s/it]"
     ]
    },
    {
     "name": "stdout",
     "output_type": "stream",
     "text": [
      "*\n",
      "complete.\n",
      "225 동심\n",
      "동심 키워드로  67 전체 플레이리스트 수집을 시작합니다.\n",
      "***"
     ]
    },
    {
     "name": "stderr",
     "output_type": "stream",
     "text": [
      "\r",
      " 70%|██████▉   | 226/325 [1:07:19<07:07,  4.32s/it]"
     ]
    },
    {
     "name": "stdout",
     "output_type": "stream",
     "text": [
      "*\n",
      "complete.\n",
      "226 비\n",
      "비 키워드로  1468 전체 플레이리스트 수집을 시작합니다.\n",
      "*************************************************************************"
     ]
    },
    {
     "name": "stderr",
     "output_type": "stream",
     "text": [
      "\r",
      " 70%|██████▉   | 227/325 [1:07:28<09:26,  5.78s/it]"
     ]
    },
    {
     "name": "stdout",
     "output_type": "stream",
     "text": [
      "*\n",
      "complete.\n",
      "227 케미\n"
     ]
    },
    {
     "name": "stderr",
     "output_type": "stream",
     "text": [
      "\r",
      " 70%|███████   | 228/325 [1:07:29<06:42,  4.15s/it]"
     ]
    },
    {
     "name": "stdout",
     "output_type": "stream",
     "text": [
      "케미 키워드로  19 전체 플레이리스트 수집을 시작합니다.\n",
      "*\n",
      "complete.\n",
      "228 신비로운\n",
      "신비로운 키워드로  148 전체 플레이리스트 수집을 시작합니다.\n",
      "*******"
     ]
    },
    {
     "name": "stderr",
     "output_type": "stream",
     "text": [
      "\r",
      " 70%|███████   | 229/325 [1:07:30<05:12,  3.25s/it]"
     ]
    },
    {
     "name": "stdout",
     "output_type": "stream",
     "text": [
      "*\n",
      "complete.\n",
      "229 콜라보\n",
      "콜라보 키워드로  135 전체 플레이리스트 수집을 시작합니다.\n",
      "*****"
     ]
    },
    {
     "name": "stderr",
     "output_type": "stream",
     "text": [
      "\r",
      " 71%|███████   | 230/325 [1:07:31<04:19,  2.73s/it]"
     ]
    },
    {
     "name": "stdout",
     "output_type": "stream",
     "text": [
      "**\n",
      "complete.\n",
      "230 로맨틱\n",
      "로맨틱 키워드로  1026 전체 플레이리스트 수집을 시작합니다.\n",
      "***************************************************"
     ]
    },
    {
     "name": "stderr",
     "output_type": "stream",
     "text": [
      "\r",
      " 71%|███████   | 231/325 [1:07:37<05:50,  3.73s/it]"
     ]
    },
    {
     "name": "stdout",
     "output_type": "stream",
     "text": [
      "*\n",
      "complete.\n",
      "231 신비\n",
      "신비 키워드로  148 전체 플레이리스트 수집을 시작합니다.\n",
      "*******"
     ]
    },
    {
     "name": "stderr",
     "output_type": "stream",
     "text": [
      "\r",
      " 71%|███████▏  | 232/325 [1:07:38<04:30,  2.91s/it]"
     ]
    },
    {
     "name": "stdout",
     "output_type": "stream",
     "text": [
      "*\n",
      "complete.\n",
      "232 여름밤\n",
      "여름밤 키워드로  1077 전체 플레이리스트 수집을 시작합니다.\n",
      "****************************************************"
     ]
    },
    {
     "name": "stderr",
     "output_type": "stream",
     "text": [
      "\r",
      " 72%|███████▏  | 233/325 [1:07:45<06:14,  4.08s/it]"
     ]
    },
    {
     "name": "stdout",
     "output_type": "stream",
     "text": [
      "**\n",
      "complete.\n",
      "233 하모니\n",
      "하모니 키워드로  24 전체 플레이리스트 수집을 시작합니다.\n",
      "*"
     ]
    },
    {
     "name": "stderr",
     "output_type": "stream",
     "text": [
      "\r",
      " 72%|███████▏  | 234/325 [1:07:46<04:30,  2.97s/it]"
     ]
    },
    {
     "name": "stdout",
     "output_type": "stream",
     "text": [
      "*\n",
      "complete.\n",
      "234 몽환적인\n",
      "몽환적인 키워드로  1798 전체 플레이리스트 수집을 시작합니다.\n",
      "****************************************************************************************"
     ]
    },
    {
     "name": "stderr",
     "output_type": "stream",
     "text": [
      "\r",
      " 72%|███████▏  | 235/325 [1:07:57<08:05,  5.39s/it]"
     ]
    },
    {
     "name": "stdout",
     "output_type": "stream",
     "text": [
      "**\n",
      "complete.\n",
      "235 신선한\n",
      "신선한 키워드로  128 전체 플레이리스트 수집을 시작합니다.\n",
      "*****"
     ]
    },
    {
     "name": "stderr",
     "output_type": "stream",
     "text": [
      "\r",
      " 73%|███████▎  | 236/325 [1:07:57<05:59,  4.04s/it]"
     ]
    },
    {
     "name": "stdout",
     "output_type": "stream",
     "text": [
      "**\n",
      "complete.\n",
      "236 여유로운\n",
      "여유로운 키워드로  1290 전체 플레이리스트 수집을 시작합니다.\n",
      "***************************************************************"
     ]
    },
    {
     "name": "stderr",
     "output_type": "stream",
     "text": [
      "\r",
      " 73%|███████▎  | 237/325 [1:08:06<07:54,  5.39s/it]"
     ]
    },
    {
     "name": "stdout",
     "output_type": "stream",
     "text": [
      "**\n",
      "complete.\n",
      "237 Chill\n",
      "Chill 키워드로  516 전체 플레이리스트 수집을 시작합니다.\n",
      "************************"
     ]
    },
    {
     "name": "stderr",
     "output_type": "stream",
     "text": [
      "\r",
      " 73%|███████▎  | 238/325 [1:08:09<06:59,  4.82s/it]"
     ]
    },
    {
     "name": "stdout",
     "output_type": "stream",
     "text": [
      "**\n",
      "complete.\n",
      "238 상쾌\n",
      "상쾌 키워드로  711 전체 플레이리스트 수집을 시작합니다.\n",
      "***********************************"
     ]
    },
    {
     "name": "stderr",
     "output_type": "stream",
     "text": [
      "\r",
      " 74%|███████▎  | 239/325 [1:08:13<06:31,  4.56s/it]"
     ]
    },
    {
     "name": "stdout",
     "output_type": "stream",
     "text": [
      "*\n",
      "complete.\n",
      "239 베이지멜로우\n",
      "베이지멜로우 키워드로  87 전체 플레이리스트 수집을 시작합니다.\n",
      "**"
     ]
    },
    {
     "name": "stderr",
     "output_type": "stream",
     "text": [
      "\r",
      " 74%|███████▍  | 240/325 [1:08:14<04:47,  3.38s/it]"
     ]
    },
    {
     "name": "stdout",
     "output_type": "stream",
     "text": [
      "***\n",
      "complete.\n",
      "240 저녁\n",
      "저녁 키워드로  1208 전체 플레이리스트 수집을 시작합니다.\n",
      "*************************************************************"
     ]
    },
    {
     "name": "stderr",
     "output_type": "stream",
     "text": [
      "\r",
      " 74%|███████▍  | 241/325 [1:08:22<06:31,  4.66s/it]"
     ]
    },
    {
     "name": "stdout",
     "output_type": "stream",
     "text": [
      "\n",
      "complete.\n",
      "241 나른한\n",
      "나른한 키워드로  643 전체 플레이리스트 수집을 시작합니다.\n",
      "*******************************"
     ]
    },
    {
     "name": "stderr",
     "output_type": "stream",
     "text": [
      "\r",
      " 74%|███████▍  | 242/325 [1:08:26<06:12,  4.49s/it]"
     ]
    },
    {
     "name": "stdout",
     "output_type": "stream",
     "text": [
      "**\n",
      "complete.\n",
      "242 축제\n",
      "축제 키워드로  89 전체 플레이리스트 수집을 시작합니다.\n",
      "****"
     ]
    },
    {
     "name": "stderr",
     "output_type": "stream",
     "text": [
      "\r",
      " 75%|███████▍  | 243/325 [1:08:26<04:34,  3.35s/it]"
     ]
    },
    {
     "name": "stdout",
     "output_type": "stream",
     "text": [
      "*\n",
      "complete.\n",
      "243 2019\n",
      "2019 키워드로  203 전체 플레이리스트 수집을 시작합니다.\n",
      "**********"
     ]
    },
    {
     "name": "stderr",
     "output_type": "stream",
     "text": [
      "\r",
      " 75%|███████▌  | 244/325 [1:08:28<03:41,  2.74s/it]"
     ]
    },
    {
     "name": "stdout",
     "output_type": "stream",
     "text": [
      "*\n",
      "complete.\n",
      "244 공연\n",
      "공연 키워드로  326 전체 플레이리스트 수집을 시작합니다.\n",
      "**************"
     ]
    },
    {
     "name": "stderr",
     "output_type": "stream",
     "text": [
      "\r",
      " 75%|███████▌  | 245/325 [1:08:31<03:43,  2.80s/it]"
     ]
    },
    {
     "name": "stdout",
     "output_type": "stream",
     "text": [
      "***\n",
      "complete.\n",
      "245 내한\n",
      "내한 키워드로  237 전체 플레이리스트 수집을 시작합니다.\n",
      "***********"
     ]
    },
    {
     "name": "stderr",
     "output_type": "stream",
     "text": [
      "\r",
      " 76%|███████▌  | 246/325 [1:08:33<03:19,  2.53s/it]"
     ]
    },
    {
     "name": "stdout",
     "output_type": "stream",
     "text": [
      "*\n",
      "complete.\n",
      "246 콘서트\n",
      "콘서트 키워드로  326 전체 플레이리스트 수집을 시작합니다.\n",
      "****************"
     ]
    },
    {
     "name": "stderr",
     "output_type": "stream",
     "text": [
      "\r",
      " 76%|███████▌  | 247/325 [1:08:35<03:10,  2.44s/it]"
     ]
    },
    {
     "name": "stdout",
     "output_type": "stream",
     "text": [
      "*\n",
      "complete.\n",
      "247 한강\n",
      "한강 키워드로  729 전체 플레이리스트 수집을 시작합니다.\n",
      "***********************************"
     ]
    },
    {
     "name": "stderr",
     "output_type": "stream",
     "text": [
      "\r",
      " 76%|███████▋  | 248/325 [1:08:39<03:54,  3.04s/it]"
     ]
    },
    {
     "name": "stdout",
     "output_type": "stream",
     "text": [
      "**\n",
      "complete.\n",
      "248 더위\n",
      "더위 키워드로  690 전체 플레이리스트 수집을 시작합니다.\n",
      "*********************************"
     ]
    },
    {
     "name": "stderr",
     "output_type": "stream",
     "text": [
      "\r",
      " 77%|███████▋  | 249/325 [1:08:45<04:40,  3.69s/it]"
     ]
    },
    {
     "name": "stdout",
     "output_type": "stream",
     "text": [
      "**\n",
      "complete.\n",
      "249 열대야\n",
      "열대야 키워드로  176 전체 플레이리스트 수집을 시작합니다.\n",
      "*********"
     ]
    },
    {
     "name": "stderr",
     "output_type": "stream",
     "text": [
      "\r",
      " 77%|███████▋  | 250/325 [1:08:46<03:37,  2.91s/it]"
     ]
    },
    {
     "name": "stdout",
     "output_type": "stream",
     "text": [
      "\n",
      "complete.\n",
      "250 퇴근길\n",
      "퇴근길 키워드로  1861 전체 플레이리스트 수집을 시작합니다.\n",
      "********************************************************************************************"
     ]
    },
    {
     "name": "stderr",
     "output_type": "stream",
     "text": [
      "\r",
      " 77%|███████▋  | 251/325 [1:08:57<06:45,  5.48s/it]"
     ]
    },
    {
     "name": "stdout",
     "output_type": "stream",
     "text": [
      "**\n",
      "complete.\n",
      "251 시티팝\n",
      "시티팝 키워드로  477 전체 플레이리스트 수집을 시작합니다.\n",
      "************************"
     ]
    },
    {
     "name": "stderr",
     "output_type": "stream",
     "text": [
      "\r",
      " 78%|███████▊  | 252/325 [1:09:00<05:52,  4.83s/it]"
     ]
    },
    {
     "name": "stdout",
     "output_type": "stream",
     "text": [
      "\n",
      "complete.\n",
      "252 멜로디\n",
      "멜로디 키워드로  337 전체 플레이리스트 수집을 시작합니다.\n",
      "***************"
     ]
    },
    {
     "name": "stderr",
     "output_type": "stream",
     "text": [
      "\r",
      " 78%|███████▊  | 253/325 [1:09:03<04:49,  4.01s/it]"
     ]
    },
    {
     "name": "stdout",
     "output_type": "stream",
     "text": [
      "**\n",
      "complete.\n",
      "253 힙합갬성\n",
      "힙합갬성 키워드로  1370 전체 플레이리스트 수집을 시작합니다.\n",
      "********************************************************************"
     ]
    },
    {
     "name": "stderr",
     "output_type": "stream",
     "text": [
      "\r",
      " 78%|███████▊  | 254/325 [1:09:11<06:21,  5.37s/it]"
     ]
    },
    {
     "name": "stdout",
     "output_type": "stream",
     "text": [
      "*\n",
      "complete.\n",
      "254 쇼미더머니\n",
      "쇼미더머니 키워드로  288 전체 플레이리스트 수집을 시작합니다.\n",
      "*************"
     ]
    },
    {
     "name": "stderr",
     "output_type": "stream",
     "text": [
      "\r",
      " 78%|███████▊  | 255/325 [1:09:13<04:58,  4.27s/it]"
     ]
    },
    {
     "name": "stdout",
     "output_type": "stream",
     "text": [
      "**\n",
      "complete.\n",
      "255 그루브한\n",
      "그루브한 키워드로  2553 전체 플레이리스트 수집을 시작합니다.\n",
      "*******************************************************************************************************************************"
     ]
    },
    {
     "name": "stderr",
     "output_type": "stream",
     "text": [
      "\r",
      " 79%|███████▉  | 256/325 [1:09:28<08:48,  7.66s/it]"
     ]
    },
    {
     "name": "stdout",
     "output_type": "stream",
     "text": [
      "*\n",
      "complete.\n",
      "256 느낌있는\n",
      "느낌있는 키워드로  1139 전체 플레이리스트 수집을 시작합니다.\n",
      "*******************************************************"
     ]
    },
    {
     "name": "stderr",
     "output_type": "stream",
     "text": [
      "\r",
      " 79%|███████▉  | 257/325 [1:09:36<08:34,  7.57s/it]"
     ]
    },
    {
     "name": "stdout",
     "output_type": "stream",
     "text": [
      "**\n",
      "complete.\n",
      "257 ralalra\n",
      "ralalra 키워드로  184 전체 플레이리스트 수집을 시작합니다.\n",
      "*********"
     ]
    },
    {
     "name": "stderr",
     "output_type": "stream",
     "text": [
      "\r",
      " 79%|███████▉  | 258/325 [1:09:38<06:33,  5.88s/it]"
     ]
    },
    {
     "name": "stdout",
     "output_type": "stream",
     "text": [
      "*\n",
      "complete.\n",
      "258 노랫말을듣는다\n",
      "노랫말을듣는다 키워드로  145 전체 플레이리스트 수집을 시작합니다.\n",
      "*******"
     ]
    },
    {
     "name": "stderr",
     "output_type": "stream",
     "text": [
      "\r",
      " 80%|███████▉  | 259/325 [1:09:39<04:52,  4.43s/it]"
     ]
    },
    {
     "name": "stdout",
     "output_type": "stream",
     "text": [
      "*\n",
      "complete.\n",
      "259 피곤\n",
      "피곤 키워드로  284 전체 플레이리스트 수집을 시작합니다.\n",
      "**************"
     ]
    },
    {
     "name": "stderr",
     "output_type": "stream",
     "text": [
      "\r",
      " 80%|████████  | 260/325 [1:09:41<03:58,  3.66s/it]"
     ]
    },
    {
     "name": "stdout",
     "output_type": "stream",
     "text": [
      "*\n",
      "complete.\n",
      "260 혼자\n",
      "혼자 키워드로  1203 전체 플레이리스트 수집을 시작합니다.\n",
      "***********************************************************"
     ]
    },
    {
     "name": "stderr",
     "output_type": "stream",
     "text": [
      "\r",
      " 80%|████████  | 261/325 [1:09:48<04:59,  4.68s/it]"
     ]
    },
    {
     "name": "stdout",
     "output_type": "stream",
     "text": [
      "**\n",
      "complete.\n",
      "261 노동요\n",
      "노동요 키워드로  1294 전체 플레이리스트 수집을 시작합니다.\n",
      "****************************************************************"
     ]
    },
    {
     "name": "stderr",
     "output_type": "stream",
     "text": [
      "\r",
      " 81%|████████  | 262/325 [1:09:56<06:00,  5.71s/it]"
     ]
    },
    {
     "name": "stdout",
     "output_type": "stream",
     "text": [
      "*\n",
      "complete.\n",
      "262 맑은\n",
      "맑은 키워드로  311 전체 플레이리스트 수집을 시작합니다.\n",
      "**************"
     ]
    },
    {
     "name": "stderr",
     "output_type": "stream",
     "text": [
      "\r",
      " 81%|████████  | 263/325 [1:09:58<04:42,  4.56s/it]"
     ]
    },
    {
     "name": "stdout",
     "output_type": "stream",
     "text": [
      "**\n",
      "complete.\n",
      "263 하루\n",
      "하루 키워드로  320 전체 플레이리스트 수집을 시작합니다.\n",
      "***************"
     ]
    },
    {
     "name": "stderr",
     "output_type": "stream",
     "text": [
      "\r",
      " 81%|████████  | 264/325 [1:09:59<03:48,  3.75s/it]"
     ]
    },
    {
     "name": "stdout",
     "output_type": "stream",
     "text": [
      "**\n",
      "complete.\n",
      "264 오후\n",
      "오후 키워드로  1307 전체 플레이리스트 수집을 시작합니다.\n",
      "****************************************************************"
     ]
    },
    {
     "name": "stderr",
     "output_type": "stream",
     "text": [
      "\r",
      " 82%|████████▏ | 265/325 [1:10:09<05:22,  5.38s/it]"
     ]
    },
    {
     "name": "stdout",
     "output_type": "stream",
     "text": [
      "**\n",
      "complete.\n",
      "265 우울\n",
      "우울 키워드로  1822 전체 플레이리스트 수집을 시작합니다.\n",
      "*******************************************************************************************"
     ]
    },
    {
     "name": "stderr",
     "output_type": "stream",
     "text": [
      "\r",
      " 82%|████████▏ | 266/325 [1:10:20<06:57,  7.08s/it]"
     ]
    },
    {
     "name": "stdout",
     "output_type": "stream",
     "text": [
      "*\n",
      "complete.\n",
      "266 장마\n",
      "장마 키워드로  619 전체 플레이리스트 수집을 시작합니다.\n",
      "******************************"
     ]
    },
    {
     "name": "stderr",
     "output_type": "stream",
     "text": [
      "\r",
      " 82%|████████▏ | 267/325 [1:10:24<05:56,  6.14s/it]"
     ]
    },
    {
     "name": "stdout",
     "output_type": "stream",
     "text": [
      "*\n",
      "complete.\n",
      "267 날씨\n",
      "날씨 키워드로  171 전체 플레이리스트 수집을 시작합니다.\n",
      "********"
     ]
    },
    {
     "name": "stderr",
     "output_type": "stream",
     "text": [
      "\r",
      " 82%|████████▏ | 268/325 [1:10:25<04:29,  4.72s/it]"
     ]
    },
    {
     "name": "stdout",
     "output_type": "stream",
     "text": [
      "*\n",
      "complete.\n",
      "268 흐린날\n",
      "흐린날 키워드로  466 전체 플레이리스트 수집을 시작합니다.\n",
      "*********************"
     ]
    },
    {
     "name": "stderr",
     "output_type": "stream",
     "text": [
      "\r",
      " 83%|████████▎ | 269/325 [1:10:28<03:57,  4.25s/it]"
     ]
    },
    {
     "name": "stdout",
     "output_type": "stream",
     "text": [
      "***\n",
      "complete.\n",
      "269 감성적인\n",
      "감성적인 키워드로  846 전체 플레이리스트 수집을 시작합니다.\n",
      "*****************************************"
     ]
    },
    {
     "name": "stderr",
     "output_type": "stream",
     "text": [
      "\r",
      " 83%|████████▎ | 270/325 [1:10:33<04:07,  4.50s/it]"
     ]
    },
    {
     "name": "stdout",
     "output_type": "stream",
     "text": [
      "**\n",
      "complete.\n",
      "270 생각\n",
      "생각 키워드로  647 전체 플레이리스트 수집을 시작합니다.\n",
      "*******************************"
     ]
    },
    {
     "name": "stderr",
     "output_type": "stream",
     "text": [
      "\r",
      " 83%|████████▎ | 271/325 [1:10:37<03:53,  4.32s/it]"
     ]
    },
    {
     "name": "stdout",
     "output_type": "stream",
     "text": [
      "**\n",
      "complete.\n",
      "271 센치\n",
      "센치 키워드로  1308 전체 플레이리스트 수집을 시작합니다.\n",
      "*****************************************************************"
     ]
    },
    {
     "name": "stderr",
     "output_type": "stream",
     "text": [
      "\r",
      " 84%|████████▎ | 272/325 [1:10:45<04:47,  5.42s/it]"
     ]
    },
    {
     "name": "stdout",
     "output_type": "stream",
     "text": [
      "*\n",
      "complete.\n",
      "272 버스\n",
      "버스 키워드로  496 전체 플레이리스트 수집을 시작합니다.\n",
      "***********************"
     ]
    },
    {
     "name": "stderr",
     "output_type": "stream",
     "text": [
      "\r",
      " 84%|████████▍ | 273/325 [1:10:48<03:59,  4.61s/it]"
     ]
    },
    {
     "name": "stdout",
     "output_type": "stream",
     "text": [
      "**\n",
      "complete.\n",
      "273 달달\n",
      "달달 키워드로  958 전체 플레이리스트 수집을 시작합니다.\n",
      "**********************************************"
     ]
    },
    {
     "name": "stderr",
     "output_type": "stream",
     "text": [
      "\r",
      " 84%|████████▍ | 274/325 [1:10:54<04:13,  4.97s/it]"
     ]
    },
    {
     "name": "stdout",
     "output_type": "stream",
     "text": [
      "**\n",
      "complete.\n",
      "274 연애\n",
      "연애 키워드로  779 전체 플레이리스트 수집을 시작합니다.\n",
      "**************************************"
     ]
    },
    {
     "name": "stderr",
     "output_type": "stream",
     "text": [
      "\r",
      " 85%|████████▍ | 275/325 [1:10:59<04:13,  5.06s/it]"
     ]
    },
    {
     "name": "stdout",
     "output_type": "stream",
     "text": [
      "*\n",
      "complete.\n",
      "275 까페\n",
      "까페 키워드로  11672 전체 플레이리스트 수집을 시작합니다.\n",
      "*******************************************************************************************************************************************************************************************************************************************************************************************************************************************************************************************************************************************************************************************************************************************************************************************************"
     ]
    },
    {
     "name": "stderr",
     "output_type": "stream",
     "text": [
      "\r",
      " 85%|████████▍ | 276/325 [1:12:09<19:59, 24.48s/it]"
     ]
    },
    {
     "name": "stdout",
     "output_type": "stream",
     "text": [
      "*\n",
      "complete.\n",
      "276 썸\n",
      "썸 키워드로  530 전체 플레이리스트 수집을 시작합니다.\n",
      "*************************"
     ]
    },
    {
     "name": "stderr",
     "output_type": "stream",
     "text": [
      "\r",
      " 85%|████████▌ | 277/325 [1:12:12<14:25, 18.03s/it]"
     ]
    },
    {
     "name": "stdout",
     "output_type": "stream",
     "text": [
      "**\n",
      "complete.\n",
      "277 고백\n",
      "고백 키워드로  669 전체 플레이리스트 수집을 시작합니다.\n",
      "*********************************"
     ]
    },
    {
     "name": "stderr",
     "output_type": "stream",
     "text": [
      "\r",
      " 86%|████████▌ | 278/325 [1:12:16<10:49, 13.82s/it]"
     ]
    },
    {
     "name": "stdout",
     "output_type": "stream",
     "text": [
      "*\n",
      "complete.\n",
      "278 달달한\n",
      "달달한 키워드로  869 전체 플레이리스트 수집을 시작합니다.\n",
      "*******************************************"
     ]
    },
    {
     "name": "stderr",
     "output_type": "stream",
     "text": [
      "\r",
      " 86%|████████▌ | 279/325 [1:12:22<08:55, 11.65s/it]"
     ]
    },
    {
     "name": "stdout",
     "output_type": "stream",
     "text": [
      "*\n",
      "complete.\n",
      "279 데이트\n",
      "데이트 키워드로  739 전체 플레이리스트 수집을 시작합니다.\n",
      "***********************************"
     ]
    },
    {
     "name": "stderr",
     "output_type": "stream",
     "text": [
      "\r",
      " 86%|████████▌ | 280/325 [1:12:27<07:06,  9.48s/it]"
     ]
    },
    {
     "name": "stdout",
     "output_type": "stream",
     "text": [
      "**\n",
      "complete.\n",
      "280 두근두근\n",
      "두근두근 키워드로  369 전체 플레이리스트 수집을 시작합니다.\n",
      "*******************"
     ]
    },
    {
     "name": "stderr",
     "output_type": "stream",
     "text": [
      "\r",
      " 86%|████████▋ | 281/325 [1:12:29<05:21,  7.30s/it]"
     ]
    },
    {
     "name": "stdout",
     "output_type": "stream",
     "text": [
      "\n",
      "complete.\n",
      "281 기분좋은\n",
      "기분좋은 키워드로  1241 전체 플레이리스트 수집을 시작합니다.\n",
      "*************************************************************"
     ]
    },
    {
     "name": "stderr",
     "output_type": "stream",
     "text": [
      "\r",
      " 87%|████████▋ | 282/325 [1:12:37<05:18,  7.41s/it]"
     ]
    },
    {
     "name": "stdout",
     "output_type": "stream",
     "text": [
      "**\n",
      "complete.\n",
      "282 즐거운\n",
      "즐거운 키워드로  481 전체 플레이리스트 수집을 시작합니다.\n",
      "***********************"
     ]
    },
    {
     "name": "stderr",
     "output_type": "stream",
     "text": [
      "\r",
      " 87%|████████▋ | 283/325 [1:12:40<04:19,  6.17s/it]"
     ]
    },
    {
     "name": "stdout",
     "output_type": "stream",
     "text": [
      "**\n",
      "complete.\n",
      "283 따뜻한\n",
      "따뜻한 키워드로  1648 전체 플레이리스트 수집을 시작합니다.\n",
      "*********************************************************************************"
     ]
    },
    {
     "name": "stderr",
     "output_type": "stream",
     "text": [
      "\r",
      " 87%|████████▋ | 284/325 [1:12:50<05:01,  7.35s/it]"
     ]
    },
    {
     "name": "stdout",
     "output_type": "stream",
     "text": [
      "**\n",
      "complete.\n",
      "284 연말\n",
      "연말 키워드로  824 전체 플레이리스트 수집을 시작합니다.\n",
      "****************************************"
     ]
    },
    {
     "name": "stderr",
     "output_type": "stream",
     "text": [
      "\r",
      " 88%|████████▊ | 285/325 [1:12:55<04:24,  6.61s/it]"
     ]
    },
    {
     "name": "stdout",
     "output_type": "stream",
     "text": [
      "**\n",
      "complete.\n",
      "285 밝은\n",
      "밝은 키워드로  254 전체 플레이리스트 수집을 시작합니다.\n",
      "*************"
     ]
    },
    {
     "name": "stderr",
     "output_type": "stream",
     "text": [
      "\r",
      " 88%|████████▊ | 286/325 [1:12:57<03:22,  5.19s/it]"
     ]
    },
    {
     "name": "stdout",
     "output_type": "stream",
     "text": [
      "\n",
      "complete.\n",
      "286 하이틴\n",
      "하이틴 키워드로  522 전체 플레이리스트 수집을 시작합니다.\n",
      "*************************"
     ]
    },
    {
     "name": "stderr",
     "output_type": "stream",
     "text": [
      "\r",
      " 88%|████████▊ | 287/325 [1:13:00<02:53,  4.56s/it]"
     ]
    },
    {
     "name": "stdout",
     "output_type": "stream",
     "text": [
      "**\n",
      "complete.\n",
      "287 상쾌한\n",
      "상쾌한 키워드로  711 전체 플레이리스트 수집을 시작합니다.\n",
      "***********************************"
     ]
    },
    {
     "name": "stderr",
     "output_type": "stream",
     "text": [
      "\r",
      " 89%|████████▊ | 288/325 [1:13:04<02:46,  4.51s/it]"
     ]
    },
    {
     "name": "stdout",
     "output_type": "stream",
     "text": [
      "*\n",
      "complete.\n",
      "288 감성적\n",
      "감성적 키워드로  846 전체 플레이리스트 수집을 시작합니다.\n",
      "******************************************"
     ]
    },
    {
     "name": "stderr",
     "output_type": "stream",
     "text": [
      "\r",
      " 89%|████████▉ | 289/325 [1:13:10<02:55,  4.88s/it]"
     ]
    },
    {
     "name": "stdout",
     "output_type": "stream",
     "text": [
      "*\n",
      "complete.\n",
      "289 멍한\n",
      "멍한 키워드로  64 전체 플레이리스트 수집을 시작합니다.\n",
      "***"
     ]
    },
    {
     "name": "stderr",
     "output_type": "stream",
     "text": [
      "\r",
      " 89%|████████▉ | 290/325 [1:13:11<02:08,  3.67s/it]"
     ]
    },
    {
     "name": "stdout",
     "output_type": "stream",
     "text": [
      "*\n",
      "complete.\n",
      "290 빡센랩\n",
      "빡센랩 키워드로  33 전체 플레이리스트 수집을 시작합니다.\n",
      "**"
     ]
    },
    {
     "name": "stderr",
     "output_type": "stream",
     "text": [
      "\r",
      " 90%|████████▉ | 291/325 [1:13:11<01:31,  2.70s/it]"
     ]
    },
    {
     "name": "stdout",
     "output_type": "stream",
     "text": [
      "\n",
      "complete.\n",
      "291 기분안좋을때\n",
      "기분안좋을때 키워드로  3 전체 플레이리스트 수집을 시작합니다.\n"
     ]
    },
    {
     "name": "stderr",
     "output_type": "stream",
     "text": [
      "\r",
      " 90%|████████▉ | 292/325 [1:13:11<01:04,  1.96s/it]"
     ]
    },
    {
     "name": "stdout",
     "output_type": "stream",
     "text": [
      "*\n",
      "complete.\n",
      "292 너는몰라\n",
      "너는몰라 키워드로  1 전체 플레이리스트 수집을 시작합니다.\n",
      "*"
     ]
    },
    {
     "name": "stderr",
     "output_type": "stream",
     "text": [
      "\r",
      " 90%|█████████ | 293/325 [1:13:12<00:45,  1.43s/it]"
     ]
    },
    {
     "name": "stdout",
     "output_type": "stream",
     "text": [
      "\n",
      "complete.\n",
      "293 눈물\n",
      "눈물 키워드로  759 전체 플레이리스트 수집을 시작합니다.\n",
      "*************************************"
     ]
    },
    {
     "name": "stderr",
     "output_type": "stream",
     "text": [
      "\r",
      " 90%|█████████ | 294/325 [1:13:16<01:13,  2.36s/it]"
     ]
    },
    {
     "name": "stdout",
     "output_type": "stream",
     "text": [
      "*\n",
      "complete.\n",
      "294 애절한\n",
      "애절한 키워드로  181 전체 플레이리스트 수집을 시작합니다.\n",
      "*******"
     ]
    },
    {
     "name": "stderr",
     "output_type": "stream",
     "text": [
      "\r",
      " 91%|█████████ | 295/325 [1:13:17<00:59,  1.99s/it]"
     ]
    },
    {
     "name": "stdout",
     "output_type": "stream",
     "text": [
      "***\n",
      "complete.\n",
      "295 우울한\n",
      "우울한 키워드로  1822 전체 플레이리스트 수집을 시작합니다.\n",
      "********************************************************************************************"
     ]
    },
    {
     "name": "stderr",
     "output_type": "stream",
     "text": [
      "\r",
      " 91%|█████████ | 296/325 [1:13:32<02:45,  5.72s/it]"
     ]
    },
    {
     "name": "stdout",
     "output_type": "stream",
     "text": [
      "\n",
      "complete.\n",
      "296 그리움\n",
      "그리움 키워드로  908 전체 플레이리스트 수집을 시작합니다.\n",
      "********************************************"
     ]
    },
    {
     "name": "stderr",
     "output_type": "stream",
     "text": [
      "\r",
      " 91%|█████████▏| 297/325 [1:13:38<02:40,  5.74s/it]"
     ]
    },
    {
     "name": "stdout",
     "output_type": "stream",
     "text": [
      "**\n",
      "complete.\n",
      "297 짝사랑\n",
      "짝사랑 키워드로  564 전체 플레이리스트 수집을 시작합니다.\n",
      "***************************"
     ]
    },
    {
     "name": "stderr",
     "output_type": "stream",
     "text": [
      "\r",
      " 92%|█████████▏| 298/325 [1:13:41<02:17,  5.08s/it]"
     ]
    },
    {
     "name": "stdout",
     "output_type": "stream",
     "text": [
      "**\n",
      "complete.\n",
      "298 아련한\n",
      "아련한 키워드로  537 전체 플레이리스트 수집을 시작합니다.\n",
      "**************************"
     ]
    },
    {
     "name": "stderr",
     "output_type": "stream",
     "text": [
      "\r",
      " 92%|█████████▏| 299/325 [1:13:44<01:58,  4.57s/it]"
     ]
    },
    {
     "name": "stdout",
     "output_type": "stream",
     "text": [
      "*\n",
      "complete.\n",
      "299 쓸쓸한\n",
      "쓸쓸한 키워드로  726 전체 플레이리스트 수집을 시작합니다.\n",
      "************************************"
     ]
    },
    {
     "name": "stderr",
     "output_type": "stream",
     "text": [
      "\r",
      " 92%|█████████▏| 300/325 [1:13:49<01:53,  4.54s/it]"
     ]
    },
    {
     "name": "stdout",
     "output_type": "stream",
     "text": [
      "*\n",
      "complete.\n",
      "300 헤어짐\n",
      "헤어짐 키워드로  329 전체 플레이리스트 수집을 시작합니다.\n",
      "****************"
     ]
    },
    {
     "name": "stderr",
     "output_type": "stream",
     "text": [
      "\r",
      " 93%|█████████▎| 301/325 [1:13:51<01:30,  3.79s/it]"
     ]
    },
    {
     "name": "stdout",
     "output_type": "stream",
     "text": [
      "*\n",
      "complete.\n",
      "301 이별노래\n",
      "이별노래 키워드로  261 전체 플레이리스트 수집을 시작합니다.\n",
      "************"
     ]
    },
    {
     "name": "stderr",
     "output_type": "stream",
     "text": [
      "\r",
      " 93%|█████████▎| 302/325 [1:13:53<01:16,  3.31s/it]"
     ]
    },
    {
     "name": "stdout",
     "output_type": "stream",
     "text": [
      "**\n",
      "complete.\n",
      "302 빈티지\n",
      "빈티지 키워드로  325 전체 플레이리스트 수집을 시작합니다.\n",
      "***************"
     ]
    },
    {
     "name": "stderr",
     "output_type": "stream",
     "text": [
      "\r",
      " 93%|█████████▎| 303/325 [1:13:55<01:05,  2.99s/it]"
     ]
    },
    {
     "name": "stdout",
     "output_type": "stream",
     "text": [
      "**\n",
      "complete.\n",
      "303 온화\n"
     ]
    },
    {
     "name": "stderr",
     "output_type": "stream",
     "text": [
      "\r",
      " 94%|█████████▎| 304/325 [1:13:56<00:45,  2.18s/it]"
     ]
    },
    {
     "name": "stdout",
     "output_type": "stream",
     "text": [
      "온화 키워드로  10 전체 플레이리스트 수집을 시작합니다.\n",
      "*\n",
      "complete.\n",
      "304 심신안정\n"
     ]
    },
    {
     "name": "stderr",
     "output_type": "stream",
     "text": [
      "\r",
      " 94%|█████████▍| 305/325 [1:13:56<00:31,  1.60s/it]"
     ]
    },
    {
     "name": "stdout",
     "output_type": "stream",
     "text": [
      "심신안정 키워드로  17 전체 플레이리스트 수집을 시작합니다.\n",
      "*\n",
      "complete.\n",
      "305 호텔라운지\n"
     ]
    },
    {
     "name": "stderr",
     "output_type": "stream",
     "text": [
      "\r",
      " 94%|█████████▍| 306/325 [1:13:56<00:22,  1.19s/it]"
     ]
    },
    {
     "name": "stdout",
     "output_type": "stream",
     "text": [
      "호텔라운지 키워드로  10 전체 플레이리스트 수집을 시작합니다.\n",
      "*\n",
      "complete.\n",
      "306 아름다운\n",
      "아름다운 키워드로  177 전체 플레이리스트 수집을 시작합니다.\n",
      "*******"
     ]
    },
    {
     "name": "stderr",
     "output_type": "stream",
     "text": [
      "\r",
      " 94%|█████████▍| 307/325 [1:13:57<00:21,  1.21s/it]"
     ]
    },
    {
     "name": "stdout",
     "output_type": "stream",
     "text": [
      "**\n",
      "complete.\n",
      "307 듣기좋은\n",
      "듣기좋은 키워드로  392 전체 플레이리스트 수집을 시작합니다.\n",
      "*****************"
     ]
    },
    {
     "name": "stderr",
     "output_type": "stream",
     "text": [
      "\r",
      " 95%|█████████▍| 308/325 [1:14:00<00:27,  1.62s/it]"
     ]
    },
    {
     "name": "stdout",
     "output_type": "stream",
     "text": [
      "***\n",
      "complete.\n",
      "308 나른할때\n",
      "나른할때 키워드로  4 전체 플레이리스트 수집을 시작합니다.\n",
      "*"
     ]
    },
    {
     "name": "stderr",
     "output_type": "stream",
     "text": [
      "\r",
      " 95%|█████████▌| 309/325 [1:14:00<00:19,  1.20s/it]"
     ]
    },
    {
     "name": "stdout",
     "output_type": "stream",
     "text": [
      "\n",
      "complete.\n",
      "309 산뜻한\n",
      "산뜻한 키워드로  360 전체 플레이리스트 수집을 시작합니다.\n",
      "*******************\n",
      "complete.\n"
     ]
    },
    {
     "name": "stderr",
     "output_type": "stream",
     "text": [
      "\r",
      " 95%|█████████▌| 310/325 [1:14:02<00:21,  1.46s/it]"
     ]
    },
    {
     "name": "stdout",
     "output_type": "stream",
     "text": [
      "310 10년대\n",
      "10년대 키워드로  406 전체 플레이리스트 수집을 시작합니다.\n",
      "*******************"
     ]
    },
    {
     "name": "stderr",
     "output_type": "stream",
     "text": [
      "\r",
      " 96%|█████████▌| 311/325 [1:14:06<00:27,  2.00s/it]"
     ]
    },
    {
     "name": "stdout",
     "output_type": "stream",
     "text": [
      "**\n",
      "complete.\n",
      "311 진실\n",
      "진실 키워드로  2 전체 플레이리스트 수집을 시작합니다.\n"
     ]
    },
    {
     "name": "stderr",
     "output_type": "stream",
     "text": [
      "\r",
      " 96%|█████████▌| 312/325 [1:14:06<00:18,  1.46s/it]"
     ]
    },
    {
     "name": "stdout",
     "output_type": "stream",
     "text": [
      "*\n",
      "complete.\n",
      "312 낮잠\n",
      "낮잠 키워드로  253 전체 플레이리스트 수집을 시작합니다.\n",
      "***********"
     ]
    },
    {
     "name": "stderr",
     "output_type": "stream",
     "text": [
      "\r",
      " 96%|█████████▋| 313/325 [1:14:07<00:18,  1.50s/it]"
     ]
    },
    {
     "name": "stdout",
     "output_type": "stream",
     "text": [
      "**\n",
      "complete.\n",
      "313 숲속\n",
      "숲속 키워드로  29 전체 플레이리스트 수집을 시작합니다.\n",
      "*"
     ]
    },
    {
     "name": "stderr",
     "output_type": "stream",
     "text": [
      "\r",
      " 97%|█████████▋| 314/325 [1:14:08<00:13,  1.26s/it]"
     ]
    },
    {
     "name": "stdout",
     "output_type": "stream",
     "text": [
      "*\n",
      "complete.\n",
      "314 편안함\n",
      "편안함 키워드로  2073 전체 플레이리스트 수집을 시작합니다.\n",
      "*******************************************************************************************************"
     ]
    },
    {
     "name": "stderr",
     "output_type": "stream",
     "text": [
      "\r",
      " 97%|█████████▋| 315/325 [1:14:21<00:46,  4.63s/it]"
     ]
    },
    {
     "name": "stdout",
     "output_type": "stream",
     "text": [
      "*\n",
      "complete.\n",
      "315 희망\n",
      "희망 키워드로  205 전체 플레이리스트 수집을 시작합니다.\n",
      "********"
     ]
    },
    {
     "name": "stderr",
     "output_type": "stream",
     "text": [
      "\r",
      " 97%|█████████▋| 316/325 [1:14:22<00:32,  3.62s/it]"
     ]
    },
    {
     "name": "stdout",
     "output_type": "stream",
     "text": [
      "***\n",
      "complete.\n",
      "316 지브리\n",
      "지브리 키워드로  80 전체 플레이리스트 수집을 시작합니다.\n",
      "**"
     ]
    },
    {
     "name": "stderr",
     "output_type": "stream",
     "text": [
      "\r",
      " 98%|█████████▊| 317/325 [1:14:22<00:21,  2.73s/it]"
     ]
    },
    {
     "name": "stdout",
     "output_type": "stream",
     "text": [
      "***\n",
      "complete.\n",
      "317 혼술\n",
      "혼술 키워드로  350 전체 플레이리스트 수집을 시작합니다.\n",
      "****************"
     ]
    },
    {
     "name": "stderr",
     "output_type": "stream",
     "text": [
      "\r",
      " 98%|█████████▊| 318/325 [1:14:25<00:18,  2.58s/it]"
     ]
    },
    {
     "name": "stdout",
     "output_type": "stream",
     "text": [
      "**\n",
      "complete.\n",
      "318 연인\n",
      "연인 키워드로  1017 전체 플레이리스트 수집을 시작합니다.\n",
      "**************************************************"
     ]
    },
    {
     "name": "stderr",
     "output_type": "stream",
     "text": [
      "\r",
      " 98%|█████████▊| 319/325 [1:14:31<00:22,  3.73s/it]"
     ]
    },
    {
     "name": "stdout",
     "output_type": "stream",
     "text": [
      "*\n",
      "complete.\n",
      "319 봄노래\n",
      "봄노래 키워드로  463 전체 플레이리스트 수집을 시작합니다.\n",
      "********************"
     ]
    },
    {
     "name": "stderr",
     "output_type": "stream",
     "text": [
      "\r",
      " 98%|█████████▊| 320/325 [1:14:34<00:17,  3.40s/it]"
     ]
    },
    {
     "name": "stdout",
     "output_type": "stream",
     "text": [
      "****\n",
      "complete.\n",
      "320 슬픈\n",
      "슬픈 키워드로  4461 전체 플레이리스트 수집을 시작합니다.\n",
      "******************************************************************************************************************************************************************************************************************************"
     ]
    },
    {
     "name": "stderr",
     "output_type": "stream",
     "text": [
      "\r",
      " 99%|█████████▉| 321/325 [1:15:00<00:41, 10.32s/it]"
     ]
    },
    {
     "name": "stdout",
     "output_type": "stream",
     "text": [
      "**\n",
      "complete.\n",
      "321 어두운\n",
      "어두운 키워드로  169 전체 플레이리스트 수집을 시작합니다.\n",
      "*******"
     ]
    },
    {
     "name": "stderr",
     "output_type": "stream",
     "text": [
      "\r",
      " 99%|█████████▉| 322/325 [1:15:01<00:22,  7.55s/it]"
     ]
    },
    {
     "name": "stdout",
     "output_type": "stream",
     "text": [
      "**\n",
      "complete.\n",
      "322 센치한\n",
      "센치한 키워드로  1308 전체 플레이리스트 수집을 시작합니다.\n",
      "****************************************************************"
     ]
    },
    {
     "name": "stderr",
     "output_type": "stream",
     "text": [
      "\r",
      " 99%|█████████▉| 323/325 [1:15:09<00:15,  7.66s/it]"
     ]
    },
    {
     "name": "stdout",
     "output_type": "stream",
     "text": [
      "**\n",
      "complete.\n",
      "323 새벽감성\n",
      "새벽감성 키워드로  1625 전체 플레이리스트 수집을 시작합니다.\n",
      "********************************************************************************"
     ]
    },
    {
     "name": "stderr",
     "output_type": "stream",
     "text": [
      "\r",
      "100%|█████████▉| 324/325 [1:15:19<00:08,  8.38s/it]"
     ]
    },
    {
     "name": "stdout",
     "output_type": "stream",
     "text": [
      "**\n",
      "complete.\n",
      "324 우울할때\n",
      "우울할때 키워드로  241 전체 플레이리스트 수집을 시작합니다.\n",
      "*************"
     ]
    },
    {
     "name": "stderr",
     "output_type": "stream",
     "text": [
      "100%|██████████| 325/325 [1:15:21<00:00, 13.91s/it]"
     ]
    },
    {
     "name": "stdout",
     "output_type": "stream",
     "text": [
      "\n",
      "complete.\n"
     ]
    },
    {
     "name": "stderr",
     "output_type": "stream",
     "text": [
      "\n"
     ]
    }
   ],
   "source": [
    "all_playlist_df = get_all_playlist(related_tag_list)"
   ]
  },
  {
   "cell_type": "code",
   "execution_count": 85,
   "id": "2bdc6374",
   "metadata": {},
   "outputs": [
    {
     "data": {
      "text/html": [
       "<div>\n",
       "<style scoped>\n",
       "    .dataframe tbody tr th:only-of-type {\n",
       "        vertical-align: middle;\n",
       "    }\n",
       "\n",
       "    .dataframe tbody tr th {\n",
       "        vertical-align: top;\n",
       "    }\n",
       "\n",
       "    .dataframe thead th {\n",
       "        text-align: right;\n",
       "    }\n",
       "</style>\n",
       "<table border=\"1\" class=\"dataframe\">\n",
       "  <thead>\n",
       "    <tr style=\"text-align: right;\">\n",
       "      <th></th>\n",
       "      <th>plylstSeq</th>\n",
       "      <th>title</th>\n",
       "      <th>tag</th>\n",
       "    </tr>\n",
       "  </thead>\n",
       "  <tbody>\n",
       "    <tr>\n",
       "      <th>0</th>\n",
       "      <td>506358530</td>\n",
       "      <td>작업하기 좋은 핫플 카페에서 들었던 음악 TOP 100</td>\n",
       "      <td>감성</td>\n",
       "    </tr>\n",
       "    <tr>\n",
       "      <th>1</th>\n",
       "      <td>511214436</td>\n",
       "      <td>비 내리는 여름날, 잔잔한 Lo-fi 감성</td>\n",
       "      <td>감성</td>\n",
       "    </tr>\n",
       "    <tr>\n",
       "      <th>2</th>\n",
       "      <td>506225967</td>\n",
       "      <td>전주부터 설렘 가득, 귓가에 계속 맴도는 드라마 OST 모음</td>\n",
       "      <td>감성</td>\n",
       "    </tr>\n",
       "    <tr>\n",
       "      <th>3</th>\n",
       "      <td>488734201</td>\n",
       "      <td>비오는 날 듣고 싶은 노래 // 비와 어울리는 감성 Mood</td>\n",
       "      <td>감성</td>\n",
       "    </tr>\n",
       "    <tr>\n",
       "      <th>4</th>\n",
       "      <td>464652255</td>\n",
       "      <td>평생 나만 알고 싶은 P̤̮O̤̮P̤̮ ①</td>\n",
       "      <td>감성</td>\n",
       "    </tr>\n",
       "    <tr>\n",
       "      <th>...</th>\n",
       "      <td>...</td>\n",
       "      <td>...</td>\n",
       "      <td>...</td>\n",
       "    </tr>\n",
       "    <tr>\n",
       "      <th>236</th>\n",
       "      <td>485798583</td>\n",
       "      <td>잠못드는 밤 비 오는소리 들리네요</td>\n",
       "      <td>우울할때</td>\n",
       "    </tr>\n",
       "    <tr>\n",
       "      <th>237</th>\n",
       "      <td>505412671</td>\n",
       "      <td>우울할 때 들으면 기부니가 좋아지는 노래들</td>\n",
       "      <td>우울할때</td>\n",
       "    </tr>\n",
       "    <tr>\n",
       "      <th>238</th>\n",
       "      <td>418474262</td>\n",
       "      <td>토닥토닥 위로가 필요할 때</td>\n",
       "      <td>우울할때</td>\n",
       "    </tr>\n",
       "    <tr>\n",
       "      <th>239</th>\n",
       "      <td>510612265</td>\n",
       "      <td>생각이 많은 날 듣는 해외 팝/RnB</td>\n",
       "      <td>우울할때</td>\n",
       "    </tr>\n",
       "    <tr>\n",
       "      <th>240</th>\n",
       "      <td>507016487</td>\n",
       "      <td>[Playlist : 센치해지고싶은 새벽...마음을 뒤흔드는 감성POP]</td>\n",
       "      <td>우울할때</td>\n",
       "    </tr>\n",
       "  </tbody>\n",
       "</table>\n",
       "<p>533044 rows × 3 columns</p>\n",
       "</div>"
      ],
      "text/plain": [
       "     plylstSeq                                     title   tag\n",
       "0    506358530            작업하기 좋은 핫플 카페에서 들었던 음악 TOP 100    감성\n",
       "1    511214436                   비 내리는 여름날, 잔잔한 Lo-fi 감성    감성\n",
       "2    506225967         전주부터 설렘 가득, 귓가에 계속 맴도는 드라마 OST 모음    감성\n",
       "3    488734201         비오는 날 듣고 싶은 노래 // 비와 어울리는 감성 Mood    감성\n",
       "4    464652255                   평생 나만 알고 싶은 P̤̮O̤̮P̤̮ ①    감성\n",
       "..         ...                                       ...   ...\n",
       "236  485798583                        잠못드는 밤 비 오는소리 들리네요  우울할때\n",
       "237  505412671                   우울할 때 들으면 기부니가 좋아지는 노래들  우울할때\n",
       "238  418474262                            토닥토닥 위로가 필요할 때  우울할때\n",
       "239  510612265                      생각이 많은 날 듣는 해외 팝/RnB  우울할때\n",
       "240  507016487  [Playlist : 센치해지고싶은 새벽...마음을 뒤흔드는 감성POP]  우울할때\n",
       "\n",
       "[533044 rows x 3 columns]"
      ]
     },
     "execution_count": 85,
     "metadata": {},
     "output_type": "execute_result"
    }
   ],
   "source": [
    "all_playlist_df"
   ]
  },
  {
   "cell_type": "markdown",
   "id": "4d022200",
   "metadata": {},
   "source": [
    "### 플레이리스트 데이터 분석 및 전처리"
   ]
  },
  {
   "cell_type": "code",
   "execution_count": 29,
   "id": "4c7d6f8c",
   "metadata": {},
   "outputs": [],
   "source": [
    "all_playlist_df = pd.read_csv('data/playlist(325).csv')"
   ]
  },
  {
   "cell_type": "code",
   "execution_count": 30,
   "id": "9545c08b",
   "metadata": {},
   "outputs": [
    {
     "data": {
      "text/html": [
       "<div>\n",
       "<style scoped>\n",
       "    .dataframe tbody tr th:only-of-type {\n",
       "        vertical-align: middle;\n",
       "    }\n",
       "\n",
       "    .dataframe tbody tr th {\n",
       "        vertical-align: top;\n",
       "    }\n",
       "\n",
       "    .dataframe thead th {\n",
       "        text-align: right;\n",
       "    }\n",
       "</style>\n",
       "<table border=\"1\" class=\"dataframe\">\n",
       "  <thead>\n",
       "    <tr style=\"text-align: right;\">\n",
       "      <th></th>\n",
       "      <th>plylstSeq</th>\n",
       "      <th>title</th>\n",
       "      <th>tag</th>\n",
       "    </tr>\n",
       "  </thead>\n",
       "  <tbody>\n",
       "    <tr>\n",
       "      <th>0</th>\n",
       "      <td>506358530</td>\n",
       "      <td>작업하기 좋은 핫플 카페에서 들었던 음악 TOP 100</td>\n",
       "      <td>감성</td>\n",
       "    </tr>\n",
       "    <tr>\n",
       "      <th>1</th>\n",
       "      <td>511214436</td>\n",
       "      <td>비 내리는 여름날, 잔잔한 Lo-fi 감성</td>\n",
       "      <td>감성</td>\n",
       "    </tr>\n",
       "    <tr>\n",
       "      <th>2</th>\n",
       "      <td>506225967</td>\n",
       "      <td>전주부터 설렘 가득, 귓가에 계속 맴도는 드라마 OST 모음</td>\n",
       "      <td>감성</td>\n",
       "    </tr>\n",
       "    <tr>\n",
       "      <th>3</th>\n",
       "      <td>488734201</td>\n",
       "      <td>비오는 날 듣고 싶은 노래 // 비와 어울리는 감성 Mood</td>\n",
       "      <td>감성</td>\n",
       "    </tr>\n",
       "    <tr>\n",
       "      <th>4</th>\n",
       "      <td>464652255</td>\n",
       "      <td>평생 나만 알고 싶은 P̤̮O̤̮P̤̮ ①</td>\n",
       "      <td>감성</td>\n",
       "    </tr>\n",
       "    <tr>\n",
       "      <th>...</th>\n",
       "      <td>...</td>\n",
       "      <td>...</td>\n",
       "      <td>...</td>\n",
       "    </tr>\n",
       "    <tr>\n",
       "      <th>533039</th>\n",
       "      <td>485798583</td>\n",
       "      <td>잠못드는 밤 비 오는소리 들리네요</td>\n",
       "      <td>우울할때</td>\n",
       "    </tr>\n",
       "    <tr>\n",
       "      <th>533040</th>\n",
       "      <td>505412671</td>\n",
       "      <td>우울할 때 들으면 기부니가 좋아지는 노래들</td>\n",
       "      <td>우울할때</td>\n",
       "    </tr>\n",
       "    <tr>\n",
       "      <th>533041</th>\n",
       "      <td>418474262</td>\n",
       "      <td>토닥토닥 위로가 필요할 때</td>\n",
       "      <td>우울할때</td>\n",
       "    </tr>\n",
       "    <tr>\n",
       "      <th>533042</th>\n",
       "      <td>510612265</td>\n",
       "      <td>생각이 많은 날 듣는 해외 팝/RnB</td>\n",
       "      <td>우울할때</td>\n",
       "    </tr>\n",
       "    <tr>\n",
       "      <th>533043</th>\n",
       "      <td>507016487</td>\n",
       "      <td>[Playlist : 센치해지고싶은 새벽...마음을 뒤흔드는 감성POP]</td>\n",
       "      <td>우울할때</td>\n",
       "    </tr>\n",
       "  </tbody>\n",
       "</table>\n",
       "<p>533044 rows × 3 columns</p>\n",
       "</div>"
      ],
      "text/plain": [
       "        plylstSeq                                     title   tag\n",
       "0       506358530            작업하기 좋은 핫플 카페에서 들었던 음악 TOP 100    감성\n",
       "1       511214436                   비 내리는 여름날, 잔잔한 Lo-fi 감성    감성\n",
       "2       506225967         전주부터 설렘 가득, 귓가에 계속 맴도는 드라마 OST 모음    감성\n",
       "3       488734201         비오는 날 듣고 싶은 노래 // 비와 어울리는 감성 Mood    감성\n",
       "4       464652255                   평생 나만 알고 싶은 P̤̮O̤̮P̤̮ ①    감성\n",
       "...           ...                                       ...   ...\n",
       "533039  485798583                        잠못드는 밤 비 오는소리 들리네요  우울할때\n",
       "533040  505412671                   우울할 때 들으면 기부니가 좋아지는 노래들  우울할때\n",
       "533041  418474262                            토닥토닥 위로가 필요할 때  우울할때\n",
       "533042  510612265                      생각이 많은 날 듣는 해외 팝/RnB  우울할때\n",
       "533043  507016487  [Playlist : 센치해지고싶은 새벽...마음을 뒤흔드는 감성POP]  우울할때\n",
       "\n",
       "[533044 rows x 3 columns]"
      ]
     },
     "execution_count": 30,
     "metadata": {},
     "output_type": "execute_result"
    }
   ],
   "source": [
    "all_playlist_df"
   ]
  },
  {
   "cell_type": "code",
   "execution_count": 31,
   "id": "427f043b",
   "metadata": {},
   "outputs": [
    {
     "data": {
      "text/html": [
       "<div>\n",
       "<style scoped>\n",
       "    .dataframe tbody tr th:only-of-type {\n",
       "        vertical-align: middle;\n",
       "    }\n",
       "\n",
       "    .dataframe tbody tr th {\n",
       "        vertical-align: top;\n",
       "    }\n",
       "\n",
       "    .dataframe thead th {\n",
       "        text-align: right;\n",
       "    }\n",
       "</style>\n",
       "<table border=\"1\" class=\"dataframe\">\n",
       "  <thead>\n",
       "    <tr style=\"text-align: right;\">\n",
       "      <th></th>\n",
       "      <th>tag</th>\n",
       "    </tr>\n",
       "  </thead>\n",
       "  <tbody>\n",
       "    <tr>\n",
       "      <th>감성</th>\n",
       "      <td>10000</td>\n",
       "    </tr>\n",
       "    <tr>\n",
       "      <th>드라이브</th>\n",
       "      <td>10000</td>\n",
       "    </tr>\n",
       "    <tr>\n",
       "      <th>까페</th>\n",
       "      <td>10000</td>\n",
       "    </tr>\n",
       "    <tr>\n",
       "      <th>팝</th>\n",
       "      <td>10000</td>\n",
       "    </tr>\n",
       "    <tr>\n",
       "      <th>HipHop</th>\n",
       "      <td>10000</td>\n",
       "    </tr>\n",
       "    <tr>\n",
       "      <th>...</th>\n",
       "      <td>...</td>\n",
       "    </tr>\n",
       "    <tr>\n",
       "      <th>한국블루스</th>\n",
       "      <td>7</td>\n",
       "    </tr>\n",
       "    <tr>\n",
       "      <th>나른할때</th>\n",
       "      <td>4</td>\n",
       "    </tr>\n",
       "    <tr>\n",
       "      <th>기분안좋을때</th>\n",
       "      <td>3</td>\n",
       "    </tr>\n",
       "    <tr>\n",
       "      <th>진실</th>\n",
       "      <td>2</td>\n",
       "    </tr>\n",
       "    <tr>\n",
       "      <th>너는몰라</th>\n",
       "      <td>1</td>\n",
       "    </tr>\n",
       "  </tbody>\n",
       "</table>\n",
       "<p>325 rows × 1 columns</p>\n",
       "</div>"
      ],
      "text/plain": [
       "          tag\n",
       "감성      10000\n",
       "드라이브    10000\n",
       "까페      10000\n",
       "팝       10000\n",
       "HipHop  10000\n",
       "...       ...\n",
       "한국블루스       7\n",
       "나른할때        4\n",
       "기분안좋을때      3\n",
       "진실          2\n",
       "너는몰라        1\n",
       "\n",
       "[325 rows x 1 columns]"
      ]
     },
     "execution_count": 31,
     "metadata": {},
     "output_type": "execute_result"
    }
   ],
   "source": [
    "tag_counts_df = pd.DataFrame(all_playlist_df['tag'].value_counts())\n",
    "tag_counts_df"
   ]
  },
  {
   "cell_type": "code",
   "execution_count": 32,
   "id": "824fcaab",
   "metadata": {},
   "outputs": [
    {
     "data": {
      "text/plain": [
       "Index(['감성', '드라이브', '까페', '팝', 'HipHop', 'Pop', '발라드', '신나는', '힐링', '힙합',\n",
       "       ...\n",
       "       '시대별', '칸초네', '심신안정', '온화', '호텔라운지', '한국블루스', '나른할때', '기분안좋을때', '진실',\n",
       "       '너는몰라'],\n",
       "      dtype='object', length=325)"
      ]
     },
     "execution_count": 32,
     "metadata": {},
     "output_type": "execute_result"
    }
   ],
   "source": [
    "tag_counts_df.index"
   ]
  },
  {
   "cell_type": "code",
   "execution_count": 33,
   "id": "f0f1d776",
   "metadata": {},
   "outputs": [
    {
     "data": {
      "text/plain": [
       "['감성',\n",
       " '드라이브',\n",
       " '까페',\n",
       " '팝',\n",
       " 'HipHop',\n",
       " 'Pop',\n",
       " '발라드',\n",
       " '신나는',\n",
       " '힐링',\n",
       " '힙합',\n",
       " '잔잔한',\n",
       " '휴식',\n",
       " '새벽',\n",
       " '사랑',\n",
       " '기분전환',\n",
       " '카페',\n",
       " '밤',\n",
       " '추억',\n",
       " '여행',\n",
       " '알앤비',\n",
       " 'RnB',\n",
       " 'Rock',\n",
       " '록',\n",
       " '락',\n",
       " '설렘',\n",
       " '여름',\n",
       " '인디',\n",
       " '이별',\n",
       " '매장음악',\n",
       " '댄스',\n",
       " '회상',\n",
       " '겨울',\n",
       " '가을',\n",
       " '스트레스',\n",
       " '일렉트로니카',\n",
       " '일렉',\n",
       " '일렉트로닉',\n",
       " '재즈',\n",
       " 'Jazz',\n",
       " '랩',\n",
       " '팝송',\n",
       " '봄',\n",
       " '슬픔',\n",
       " '슬픈',\n",
       " '뉴에이지',\n",
       " '명곡',\n",
       " '운동',\n",
       " '비오는날',\n",
       " '분위기',\n",
       " '산책',\n",
       " 'OST',\n",
       " '위로',\n",
       " '트렌디',\n",
       " '소울',\n",
       " 'classic',\n",
       " '클래식',\n",
       " '아이돌',\n",
       " '케이팝',\n",
       " 'kpop',\n",
       " '피아노',\n",
       " '그루브한',\n",
       " '그루브',\n",
       " '연주곡',\n",
       " '이디엠',\n",
       " 'EDM',\n",
       " '클럽',\n",
       " '주말',\n",
       " '편안함',\n",
       " '편안한',\n",
       " '크리스마스',\n",
       " '청량',\n",
       " '퇴근길',\n",
       " '공부',\n",
       " '우울한',\n",
       " '우울',\n",
       " '몽환적',\n",
       " '몽환적인',\n",
       " '몽환',\n",
       " '아침',\n",
       " '국내힙합',\n",
       " '국힙',\n",
       " '감각적인',\n",
       " '따뜻한',\n",
       " '매장',\n",
       " '새벽감성',\n",
       " '시원한',\n",
       " '집중',\n",
       " '취향저격',\n",
       " '가요',\n",
       " '커피',\n",
       " '비',\n",
       " '어쿠스틱',\n",
       " '자장가',\n",
       " '인디음악',\n",
       " '힙합갬성',\n",
       " '감성힙합',\n",
       " 'Playlist',\n",
       " '배경음악',\n",
       " 'bgm',\n",
       " '센치한',\n",
       " '센치',\n",
       " '오후',\n",
       " '노동요',\n",
       " '여유',\n",
       " '여유로운',\n",
       " '캐롤',\n",
       " '제이팝',\n",
       " 'J_POP',\n",
       " '기분좋은',\n",
       " '독서',\n",
       " '저녁',\n",
       " '혼자',\n",
       " '느낌있는',\n",
       " '여름밤',\n",
       " '카페음악',\n",
       " '낭만',\n",
       " '로맨틱',\n",
       " '연인',\n",
       " '차분한',\n",
       " '달달',\n",
       " '잠들기전',\n",
       " '걸그룹',\n",
       " '외힙',\n",
       " '외국힙합',\n",
       " '그리움',\n",
       " '달달한',\n",
       " '감성적인',\n",
       " '감성적',\n",
       " '트롯',\n",
       " '노래방',\n",
       " '파티',\n",
       " '연말',\n",
       " '드라마',\n",
       " '비트',\n",
       " '흥겨운',\n",
       " '1990년대',\n",
       " '연애',\n",
       " '밴드',\n",
       " '눈물',\n",
       " '영화',\n",
       " '데이트',\n",
       " '내적댄스',\n",
       " '헬스',\n",
       " '한강',\n",
       " '쓸쓸한',\n",
       " '상쾌한',\n",
       " '상쾌',\n",
       " '더위',\n",
       " '고백',\n",
       " '힘들때',\n",
       " '하우스',\n",
       " '생각',\n",
       " '나른한',\n",
       " '포크',\n",
       " '장마',\n",
       " '메탈',\n",
       " 'Metal',\n",
       " '추천',\n",
       " '짝사랑',\n",
       " '숙면',\n",
       " '아련한',\n",
       " 'electronica',\n",
       " '썸',\n",
       " '하이틴',\n",
       " 'Chill',\n",
       " '기타',\n",
       " '불금',\n",
       " '버스',\n",
       " '경쾌한',\n",
       " '모닝콜',\n",
       " '즐거운',\n",
       " '시티팝',\n",
       " '다이어트',\n",
       " '페스티벌',\n",
       " '흐린날',\n",
       " '해외',\n",
       " '봄노래',\n",
       " '최신가요',\n",
       " '명상',\n",
       " '감동',\n",
       " '10년대',\n",
       " '영화음악',\n",
       " '듣기좋은',\n",
       " '듀엣',\n",
       " '드라마ost',\n",
       " '찬양',\n",
       " '영국',\n",
       " '북카페',\n",
       " '오늘신곡모음',\n",
       " '두근두근',\n",
       " '레전드',\n",
       " '산뜻한',\n",
       " '혼술',\n",
       " '태교',\n",
       " '멜로디',\n",
       " '헤어짐',\n",
       " '공연',\n",
       " '콘서트',\n",
       " '빈티지',\n",
       " '애니메이션',\n",
       " '애니',\n",
       " '하루',\n",
       " '맑은',\n",
       " '쇼미더머니',\n",
       " '피곤',\n",
       " '락메탈',\n",
       " '록메탈',\n",
       " '일본',\n",
       " '이별노래',\n",
       " '얼터너티브',\n",
       " '밝은',\n",
       " '낮잠',\n",
       " '디즈니',\n",
       " '우울할때',\n",
       " 'DJ',\n",
       " '내한',\n",
       " '보사노바',\n",
       " '꿈',\n",
       " '성인가요',\n",
       " '전통가요',\n",
       " '영화OST',\n",
       " '은혜',\n",
       " '희망',\n",
       " '2019',\n",
       " '일본노래',\n",
       " '사운드트랙',\n",
       " '일본음악',\n",
       " '록발라드',\n",
       " '블루스',\n",
       " 'Blues',\n",
       " '빌보드Hot50',\n",
       " 'ralalra',\n",
       " 'Country',\n",
       " '컨트리',\n",
       " '애절한',\n",
       " '고속도로',\n",
       " '강렬한',\n",
       " '아름다운',\n",
       " '열대야',\n",
       " '미스터트롯',\n",
       " '날씨',\n",
       " '오케스트라',\n",
       " '어두운',\n",
       " '송가인',\n",
       " '감사',\n",
       " '해외록',\n",
       " '라틴',\n",
       " 'Latin',\n",
       " '바이올린',\n",
       " '신비로운',\n",
       " '신비',\n",
       " '노랫말을듣는다',\n",
       " '국내록',\n",
       " '임영웅',\n",
       " '콜라보',\n",
       " '빌로우',\n",
       " '신선한',\n",
       " '국내ccm',\n",
       " '헤비메탈',\n",
       " '첼로',\n",
       " '미스트롯',\n",
       " '명절',\n",
       " '하드록',\n",
       " '해외CCM',\n",
       " '파워DJ_CCM',\n",
       " '스쿨오브록',\n",
       " '프랑스',\n",
       " 'etc',\n",
       " '축제',\n",
       " 'JRock',\n",
       " '베이지멜로우',\n",
       " 'World',\n",
       " '워십',\n",
       " '지브리',\n",
       " '샹송',\n",
       " '예배',\n",
       " '열정',\n",
       " '라이브워십',\n",
       " '스윙',\n",
       " '찬송가',\n",
       " '정미애',\n",
       " '회식',\n",
       " '동심',\n",
       " 'CCM추천',\n",
       " '기도',\n",
       " '멍한',\n",
       " '영탁',\n",
       " '록명곡',\n",
       " '레게',\n",
       " '교회',\n",
       " '이국적인',\n",
       " '빌보드핫차트',\n",
       " '기독교',\n",
       " '이찬원',\n",
       " '브라질',\n",
       " '지역별',\n",
       " '프렌치팝',\n",
       " '블루스록',\n",
       " '김호중',\n",
       " '예수님',\n",
       " '빡센랩',\n",
       " 'JPOP추천',\n",
       " '테일러스위프트',\n",
       " '정동원',\n",
       " '숲속',\n",
       " '우타이테',\n",
       " '장민호',\n",
       " '묵상',\n",
       " 'LilNasX',\n",
       " '하모니',\n",
       " '하나님',\n",
       " 'JPOP모음',\n",
       " '컨트리팝',\n",
       " '신나는ccm',\n",
       " '케미',\n",
       " '시대별',\n",
       " '칸초네',\n",
       " '심신안정',\n",
       " '온화',\n",
       " '호텔라운지',\n",
       " '한국블루스',\n",
       " '나른할때',\n",
       " '기분안좋을때',\n",
       " '진실',\n",
       " '너는몰라']"
      ]
     },
     "execution_count": 33,
     "metadata": {},
     "output_type": "execute_result"
    }
   ],
   "source": [
    "tag_counts_df.index.tolist()"
   ]
  },
  {
   "cell_type": "code",
   "execution_count": 42,
   "id": "b38ae05d",
   "metadata": {},
   "outputs": [
    {
     "name": "stderr",
     "output_type": "stream",
     "text": [
      "C:\\Users\\speci\\anaconda3\\lib\\site-packages\\seaborn\\distributions.py:2619: FutureWarning: `distplot` is a deprecated function and will be removed in a future version. Please adapt your code to use either `displot` (a figure-level function with similar flexibility) or `histplot` (an axes-level function for histograms).\n",
      "  warnings.warn(msg, FutureWarning)\n"
     ]
    },
    {
     "data": {
      "image/png": "[encoded data removed]",
      "text/plain": [
       "<Figure size 576x396 with 1 Axes>"
      ]
     },
     "metadata": {},
     "output_type": "display_data"
    }
   ],
   "source": [
    "_ = sns.distplot(tag_counts_df)"
   ]
  },
  {
   "cell_type": "code",
   "execution_count": 43,
   "id": "17584b30",
   "metadata": {},
   "outputs": [
    {
     "data": {
      "text/plain": [
       "<AxesSubplot:>"
      ]
     },
     "execution_count": 43,
     "metadata": {},
     "output_type": "execute_result"
    },
    {
     "data": {
      "image/png": "[encoded data removed]",
      "text/plain": [
       "<Figure size 8640x864 with 1 Axes>"
      ]
     },
     "metadata": {},
     "output_type": "display_data"
    }
   ],
   "source": [
    "tag_counts_df.plot(kind='bar', figsize=(120,12), rot=60)"
   ]
  },
  {
   "cell_type": "markdown",
   "id": "f5aeda10",
   "metadata": {},
   "source": [
    "## playlist 곡 수집"
   ]
  },
  {
   "cell_type": "markdown",
   "id": "910801e8",
   "metadata": {},
   "source": [
    "https://www.melon.com/mymusic/dj/mymusicdjplaylistview_inform.htm?plylstSeq=511975096"
   ]
  },
  {
   "cell_type": "code",
   "execution_count": 164,
   "id": "86dd7819",
   "metadata": {},
   "outputs": [],
   "source": [
    "def get_playlist_songs(plylstseq: str):\n",
    "    result = {}\n",
    "    playlist_url = f'https://www.melon.com/mymusic/dj/mymusicdjplaylistview_inform.htm?plylstSeq={plylstseq}'\n",
    "    # Headers information    \n",
    "    headers = {\n",
    "        'User-Agent': 'Mozilla/5.0 (Windows NT 10.0; Win64; x64) AppleWebKit/537.36 (KHTML, like Gecko) Chrome/103.0.0.0 Safari/537.36',\n",
    "    }\n",
    "    # Request - get\n",
    "    response = requests.get(playlist_url, headers = headers)\n",
    "    html = response.text\n",
    "    # parse text by beautifullsoup\n",
    "    parse = bs(html, 'html.parser')\n",
    "    # find imformations\n",
    "    song_txt = parse.find_all(\"div\", \"wrap_song_info\", class_=\"ellipsis rank01\")\n",
    "    singer_txt = parse.find_all(\"div\", \"wrap_song_info\", class_=\"ellipsis rank02\")\n",
    "    album_txt = parse.find_all(\"div\", \"wrap_song_info\", class_=\"ellipsis rank03\")\n",
    "\n",
    "    song_code = []\n",
    "    song_name = []\n",
    "    singer_code = []\n",
    "    singer_name = []\n",
    "\n",
    "    for idx, song in enumerate(song_txt):\n",
    "        song_code.append(song_txt[idx].find(\"a\")['href'].split(',')[1][:-2])\n",
    "        song_name.append(song_txt[idx].find(\"a\")['title'][:-3])\n",
    "        if singer_txt[idx].find(\"a\"):\n",
    "            singer_code.append(singer_txt[idx].find(\"a\")['href'].split('\\'')[1])\n",
    "            singer_name.append(singer_txt[idx].find(\"a\")['title'][:-9])\n",
    "        else:\n",
    "            singer_code.append('')\n",
    "            singer_name.append('Various Artists')\n",
    "\n",
    "    # make return values\n",
    "    result['song_code'] = song_code\n",
    "    result['song_name'] = song_name\n",
    "    result['singer_code'] = singer_code\n",
    "    result['singer_name'] = singer_name\n",
    "    result['plylstseq'] = plylstseq\n",
    "\n",
    "    return pd.DataFrame(result)\n"
   ]
  },
  {
   "cell_type": "code",
   "execution_count": 165,
   "id": "e0023dcf",
   "metadata": {},
   "outputs": [],
   "source": [
    "# 사용예시\n",
    "songs_df = get_playlist_songs('480931922')"
   ]
  },
  {
   "cell_type": "code",
   "execution_count": 166,
   "id": "d76edb79",
   "metadata": {},
   "outputs": [
    {
     "data": {
      "text/html": [
       "<div>\n",
       "<style scoped>\n",
       "    .dataframe tbody tr th:only-of-type {\n",
       "        vertical-align: middle;\n",
       "    }\n",
       "\n",
       "    .dataframe tbody tr th {\n",
       "        vertical-align: top;\n",
       "    }\n",
       "\n",
       "    .dataframe thead th {\n",
       "        text-align: right;\n",
       "    }\n",
       "</style>\n",
       "<table border=\"1\" class=\"dataframe\">\n",
       "  <thead>\n",
       "    <tr style=\"text-align: right;\">\n",
       "      <th></th>\n",
       "      <th>song_code</th>\n",
       "      <th>song_name</th>\n",
       "      <th>singer_code</th>\n",
       "      <th>singer_name</th>\n",
       "      <th>plylstseq</th>\n",
       "    </tr>\n",
       "  </thead>\n",
       "  <tbody>\n",
       "    <tr>\n",
       "      <th>0</th>\n",
       "      <td>32333811</td>\n",
       "      <td>I Love Today</td>\n",
       "      <td>713743</td>\n",
       "      <td>7pm</td>\n",
       "      <td>480931922</td>\n",
       "    </tr>\n",
       "    <tr>\n",
       "      <th>1</th>\n",
       "      <td>31831071</td>\n",
       "      <td>Little Bird (tvN '스페인 하숙' 삽입곡)</td>\n",
       "      <td>618273</td>\n",
       "      <td>물고기꿈</td>\n",
       "      <td>480931922</td>\n",
       "    </tr>\n",
       "    <tr>\n",
       "      <th>2</th>\n",
       "      <td>31622729</td>\n",
       "      <td>Morning Diary</td>\n",
       "      <td>38547</td>\n",
       "      <td>해리</td>\n",
       "      <td>480931922</td>\n",
       "    </tr>\n",
       "    <tr>\n",
       "      <th>3</th>\n",
       "      <td>8147021</td>\n",
       "      <td>새콤 달콤한 행복</td>\n",
       "      <td>944561</td>\n",
       "      <td>달빛바다</td>\n",
       "      <td>480931922</td>\n",
       "    </tr>\n",
       "    <tr>\n",
       "      <th>4</th>\n",
       "      <td>32227785</td>\n",
       "      <td>냥이의 숨바꼭질</td>\n",
       "      <td>943648</td>\n",
       "      <td>From Paris</td>\n",
       "      <td>480931922</td>\n",
       "    </tr>\n",
       "    <tr>\n",
       "      <th>5</th>\n",
       "      <td>1370395</td>\n",
       "      <td>Dance Of The Dragonfly</td>\n",
       "      <td>2078</td>\n",
       "      <td>Kevin Kern</td>\n",
       "      <td>480931922</td>\n",
       "    </tr>\n",
       "    <tr>\n",
       "      <th>6</th>\n",
       "      <td>32465462</td>\n",
       "      <td>Perfect Day</td>\n",
       "      <td>713920</td>\n",
       "      <td>Shizuko Mori</td>\n",
       "      <td>480931922</td>\n",
       "    </tr>\n",
       "    <tr>\n",
       "      <th>7</th>\n",
       "      <td>332494</td>\n",
       "      <td>Butterfly Waltz</td>\n",
       "      <td>2029</td>\n",
       "      <td>Brian Crain</td>\n",
       "      <td>480931922</td>\n",
       "    </tr>\n",
       "    <tr>\n",
       "      <th>8</th>\n",
       "      <td>8209025</td>\n",
       "      <td>Sunny Days</td>\n",
       "      <td>944395</td>\n",
       "      <td>서른의 꿈</td>\n",
       "      <td>480931922</td>\n",
       "    </tr>\n",
       "    <tr>\n",
       "      <th>9</th>\n",
       "      <td>7998989</td>\n",
       "      <td>둘이서 걷던 길</td>\n",
       "      <td>905398</td>\n",
       "      <td>레인시티 (RainCity)</td>\n",
       "      <td>480931922</td>\n",
       "    </tr>\n",
       "    <tr>\n",
       "      <th>10</th>\n",
       "      <td>31960622</td>\n",
       "      <td>Summer Driving</td>\n",
       "      <td>713816</td>\n",
       "      <td>루바토</td>\n",
       "      <td>480931922</td>\n",
       "    </tr>\n",
       "    <tr>\n",
       "      <th>11</th>\n",
       "      <td>775141</td>\n",
       "      <td>Shining The Morning</td>\n",
       "      <td>167197</td>\n",
       "      <td>장세용</td>\n",
       "      <td>480931922</td>\n",
       "    </tr>\n",
       "    <tr>\n",
       "      <th>12</th>\n",
       "      <td>3727562</td>\n",
       "      <td>Linda 행진곡 (tvN 꽃보다 할배 삽입곡)</td>\n",
       "      <td>623915</td>\n",
       "      <td>클라 인 러브</td>\n",
       "      <td>480931922</td>\n",
       "    </tr>\n",
       "    <tr>\n",
       "      <th>13</th>\n",
       "      <td>1534853</td>\n",
       "      <td>Paris, Paris!</td>\n",
       "      <td>184431</td>\n",
       "      <td>몽라</td>\n",
       "      <td>480931922</td>\n",
       "    </tr>\n",
       "    <tr>\n",
       "      <th>14</th>\n",
       "      <td>3790184</td>\n",
       "      <td>놀이공원 솜사탕 (tvN '꽃보다 누나' 삽입곡)</td>\n",
       "      <td>618273</td>\n",
       "      <td>물고기꿈</td>\n",
       "      <td>480931922</td>\n",
       "    </tr>\n",
       "    <tr>\n",
       "      <th>15</th>\n",
       "      <td>30094226</td>\n",
       "      <td>햇살에 기대어, 바람에 기대어</td>\n",
       "      <td>943492</td>\n",
       "      <td>린다의 고양이</td>\n",
       "      <td>480931922</td>\n",
       "    </tr>\n",
       "    <tr>\n",
       "      <th>16</th>\n",
       "      <td>31184800</td>\n",
       "      <td>Summer Cloud</td>\n",
       "      <td>945794</td>\n",
       "      <td>로맨틱망고</td>\n",
       "      <td>480931922</td>\n",
       "    </tr>\n",
       "    <tr>\n",
       "      <th>17</th>\n",
       "      <td>3345151</td>\n",
       "      <td>카푸치노 (Cappuccino)</td>\n",
       "      <td>160836</td>\n",
       "      <td>316</td>\n",
       "      <td>480931922</td>\n",
       "    </tr>\n",
       "    <tr>\n",
       "      <th>18</th>\n",
       "      <td>3994798</td>\n",
       "      <td>토토의 즐거운 하루 (tvN '꽃보다 할배' 삽입곡)</td>\n",
       "      <td>713920</td>\n",
       "      <td>Shizuko Mori</td>\n",
       "      <td>480931922</td>\n",
       "    </tr>\n",
       "    <tr>\n",
       "      <th>19</th>\n",
       "      <td>1685423</td>\n",
       "      <td>학교가는 길</td>\n",
       "      <td>22</td>\n",
       "      <td>노영심</td>\n",
       "      <td>480931922</td>\n",
       "    </tr>\n",
       "    <tr>\n",
       "      <th>20</th>\n",
       "      <td>4647761</td>\n",
       "      <td>Bubble Love (tvN '꽃보다 할배, 꽃보다 누나, 감자별 2013QR3'...</td>\n",
       "      <td>713917</td>\n",
       "      <td>러브래빗</td>\n",
       "      <td>480931922</td>\n",
       "    </tr>\n",
       "    <tr>\n",
       "      <th>21</th>\n",
       "      <td>4115554</td>\n",
       "      <td>Guppy's Dream</td>\n",
       "      <td>728741</td>\n",
       "      <td>Jasmin</td>\n",
       "      <td>480931922</td>\n",
       "    </tr>\n",
       "    <tr>\n",
       "      <th>22</th>\n",
       "      <td>32583043</td>\n",
       "      <td>Mint Sky</td>\n",
       "      <td>713738</td>\n",
       "      <td>Alice Hart</td>\n",
       "      <td>480931922</td>\n",
       "    </tr>\n",
       "    <tr>\n",
       "      <th>23</th>\n",
       "      <td>7877641</td>\n",
       "      <td>Summer (영화 '기쿠지로의 여름')</td>\n",
       "      <td></td>\n",
       "      <td>Various Artists</td>\n",
       "      <td>480931922</td>\n",
       "    </tr>\n",
       "    <tr>\n",
       "      <th>24</th>\n",
       "      <td>31853782</td>\n",
       "      <td>달콤한 여유</td>\n",
       "      <td>945794</td>\n",
       "      <td>로맨틱망고</td>\n",
       "      <td>480931922</td>\n",
       "    </tr>\n",
       "    <tr>\n",
       "      <th>25</th>\n",
       "      <td>30111802</td>\n",
       "      <td>It's A New Day</td>\n",
       "      <td>1239013</td>\n",
       "      <td>Sweet Letter</td>\n",
       "      <td>480931922</td>\n",
       "    </tr>\n",
       "    <tr>\n",
       "      <th>26</th>\n",
       "      <td>32260027</td>\n",
       "      <td>Happy Moments</td>\n",
       "      <td>618273</td>\n",
       "      <td>물고기꿈</td>\n",
       "      <td>480931922</td>\n",
       "    </tr>\n",
       "    <tr>\n",
       "      <th>27</th>\n",
       "      <td>32077232</td>\n",
       "      <td>Cinnamon Roll</td>\n",
       "      <td>713818</td>\n",
       "      <td>리안</td>\n",
       "      <td>480931922</td>\n",
       "    </tr>\n",
       "    <tr>\n",
       "      <th>28</th>\n",
       "      <td>32247275</td>\n",
       "      <td>Morning Bell</td>\n",
       "      <td>713816</td>\n",
       "      <td>루바토</td>\n",
       "      <td>480931922</td>\n",
       "    </tr>\n",
       "    <tr>\n",
       "      <th>29</th>\n",
       "      <td>8195584</td>\n",
       "      <td>지구별 소풍</td>\n",
       "      <td>943492</td>\n",
       "      <td>린다의 고양이</td>\n",
       "      <td>480931922</td>\n",
       "    </tr>\n",
       "    <tr>\n",
       "      <th>30</th>\n",
       "      <td>32833535</td>\n",
       "      <td>Deep Summer</td>\n",
       "      <td>713920</td>\n",
       "      <td>Shizuko Mori</td>\n",
       "      <td>480931922</td>\n",
       "    </tr>\n",
       "    <tr>\n",
       "      <th>31</th>\n",
       "      <td>8026107</td>\n",
       "      <td>Spring Breeze</td>\n",
       "      <td>623915</td>\n",
       "      <td>클라 인 러브</td>\n",
       "      <td>480931922</td>\n",
       "    </tr>\n",
       "    <tr>\n",
       "      <th>32</th>\n",
       "      <td>32653200</td>\n",
       "      <td>시나몬 테라피</td>\n",
       "      <td>943648</td>\n",
       "      <td>From Paris</td>\n",
       "      <td>480931922</td>\n",
       "    </tr>\n",
       "    <tr>\n",
       "      <th>33</th>\n",
       "      <td>8062170</td>\n",
       "      <td>미소가 주는 행복</td>\n",
       "      <td>713917</td>\n",
       "      <td>러브래빗</td>\n",
       "      <td>480931922</td>\n",
       "    </tr>\n",
       "    <tr>\n",
       "      <th>34</th>\n",
       "      <td>32653260</td>\n",
       "      <td>여름 소풍</td>\n",
       "      <td>944561</td>\n",
       "      <td>달빛바다</td>\n",
       "      <td>480931922</td>\n",
       "    </tr>\n",
       "    <tr>\n",
       "      <th>35</th>\n",
       "      <td>32488641</td>\n",
       "      <td>Flower Café</td>\n",
       "      <td>38547</td>\n",
       "      <td>해리</td>\n",
       "      <td>480931922</td>\n",
       "    </tr>\n",
       "    <tr>\n",
       "      <th>36</th>\n",
       "      <td>8157748</td>\n",
       "      <td>Blossom</td>\n",
       "      <td>944395</td>\n",
       "      <td>서른의 꿈</td>\n",
       "      <td>480931922</td>\n",
       "    </tr>\n",
       "    <tr>\n",
       "      <th>37</th>\n",
       "      <td>31970388</td>\n",
       "      <td>Happy Cooking Time</td>\n",
       "      <td>713738</td>\n",
       "      <td>Alice Hart</td>\n",
       "      <td>480931922</td>\n",
       "    </tr>\n",
       "    <tr>\n",
       "      <th>38</th>\n",
       "      <td>31737542</td>\n",
       "      <td>Heavenly Blue</td>\n",
       "      <td>713743</td>\n",
       "      <td>7pm</td>\n",
       "      <td>480931922</td>\n",
       "    </tr>\n",
       "    <tr>\n",
       "      <th>39</th>\n",
       "      <td>31211369</td>\n",
       "      <td>Orange Juice</td>\n",
       "      <td>713818</td>\n",
       "      <td>리안</td>\n",
       "      <td>480931922</td>\n",
       "    </tr>\n",
       "    <tr>\n",
       "      <th>40</th>\n",
       "      <td>1183735</td>\n",
       "      <td>Flying Petals</td>\n",
       "      <td>37136</td>\n",
       "      <td>이지수</td>\n",
       "      <td>480931922</td>\n",
       "    </tr>\n",
       "    <tr>\n",
       "      <th>41</th>\n",
       "      <td>5788555</td>\n",
       "      <td>기분좋은아침</td>\n",
       "      <td>875240</td>\n",
       "      <td>모모캣츠 (Momocats)</td>\n",
       "      <td>480931922</td>\n",
       "    </tr>\n",
       "    <tr>\n",
       "      <th>42</th>\n",
       "      <td>2110847</td>\n",
       "      <td>Melody Garden</td>\n",
       "      <td>405601</td>\n",
       "      <td>고서이</td>\n",
       "      <td>480931922</td>\n",
       "    </tr>\n",
       "    <tr>\n",
       "      <th>43</th>\n",
       "      <td>4045341</td>\n",
       "      <td>여름아, 내 사랑을 잘 부탁해!</td>\n",
       "      <td>59806</td>\n",
       "      <td>전수연</td>\n",
       "      <td>480931922</td>\n",
       "    </tr>\n",
       "  </tbody>\n",
       "</table>\n",
       "</div>"
      ],
      "text/plain": [
       "   song_code                                          song_name singer_code  \\\n",
       "0   32333811                                       I Love Today      713743   \n",
       "1   31831071                     Little Bird (tvN '스페인 하숙' 삽입곡)      618273   \n",
       "2   31622729                                      Morning Diary       38547   \n",
       "3    8147021                                          새콤 달콤한 행복      944561   \n",
       "4   32227785                                           냥이의 숨바꼭질      943648   \n",
       "5    1370395                             Dance Of The Dragonfly        2078   \n",
       "6   32465462                                        Perfect Day      713920   \n",
       "7     332494                                    Butterfly Waltz        2029   \n",
       "8    8209025                                         Sunny Days      944395   \n",
       "9    7998989                                           둘이서 걷던 길      905398   \n",
       "10  31960622                                     Summer Driving      713816   \n",
       "11    775141                                Shining The Morning      167197   \n",
       "12   3727562                         Linda 행진곡 (tvN 꽃보다 할배 삽입곡)      623915   \n",
       "13   1534853                                      Paris, Paris!      184431   \n",
       "14   3790184                        놀이공원 솜사탕 (tvN '꽃보다 누나' 삽입곡)      618273   \n",
       "15  30094226                                   햇살에 기대어, 바람에 기대어      943492   \n",
       "16  31184800                                       Summer Cloud      945794   \n",
       "17   3345151                                  카푸치노 (Cappuccino)      160836   \n",
       "18   3994798                      토토의 즐거운 하루 (tvN '꽃보다 할배' 삽입곡)      713920   \n",
       "19   1685423                                             학교가는 길          22   \n",
       "20   4647761  Bubble Love (tvN '꽃보다 할배, 꽃보다 누나, 감자별 2013QR3'...      713917   \n",
       "21   4115554                                      Guppy's Dream      728741   \n",
       "22  32583043                                           Mint Sky      713738   \n",
       "23   7877641                             Summer (영화 '기쿠지로의 여름')               \n",
       "24  31853782                                             달콤한 여유      945794   \n",
       "25  30111802                                     It's A New Day     1239013   \n",
       "26  32260027                                      Happy Moments      618273   \n",
       "27  32077232                                      Cinnamon Roll      713818   \n",
       "28  32247275                                       Morning Bell      713816   \n",
       "29   8195584                                             지구별 소풍      943492   \n",
       "30  32833535                                        Deep Summer      713920   \n",
       "31   8026107                                      Spring Breeze      623915   \n",
       "32  32653200                                            시나몬 테라피      943648   \n",
       "33   8062170                                          미소가 주는 행복      713917   \n",
       "34  32653260                                              여름 소풍      944561   \n",
       "35  32488641                                        Flower Café       38547   \n",
       "36   8157748                                            Blossom      944395   \n",
       "37  31970388                                 Happy Cooking Time      713738   \n",
       "38  31737542                                      Heavenly Blue      713743   \n",
       "39  31211369                                       Orange Juice      713818   \n",
       "40   1183735                                      Flying Petals       37136   \n",
       "41   5788555                                             기분좋은아침      875240   \n",
       "42   2110847                                      Melody Garden      405601   \n",
       "43   4045341                                  여름아, 내 사랑을 잘 부탁해!       59806   \n",
       "\n",
       "        singer_name  plylstseq  \n",
       "0               7pm  480931922  \n",
       "1              물고기꿈  480931922  \n",
       "2                해리  480931922  \n",
       "3              달빛바다  480931922  \n",
       "4        From Paris  480931922  \n",
       "5        Kevin Kern  480931922  \n",
       "6      Shizuko Mori  480931922  \n",
       "7       Brian Crain  480931922  \n",
       "8             서른의 꿈  480931922  \n",
       "9   레인시티 (RainCity)  480931922  \n",
       "10              루바토  480931922  \n",
       "11              장세용  480931922  \n",
       "12          클라 인 러브  480931922  \n",
       "13               몽라  480931922  \n",
       "14             물고기꿈  480931922  \n",
       "15          린다의 고양이  480931922  \n",
       "16            로맨틱망고  480931922  \n",
       "17              316  480931922  \n",
       "18     Shizuko Mori  480931922  \n",
       "19              노영심  480931922  \n",
       "20             러브래빗  480931922  \n",
       "21           Jasmin  480931922  \n",
       "22       Alice Hart  480931922  \n",
       "23  Various Artists  480931922  \n",
       "24            로맨틱망고  480931922  \n",
       "25     Sweet Letter  480931922  \n",
       "26             물고기꿈  480931922  \n",
       "27               리안  480931922  \n",
       "28              루바토  480931922  \n",
       "29          린다의 고양이  480931922  \n",
       "30     Shizuko Mori  480931922  \n",
       "31          클라 인 러브  480931922  \n",
       "32       From Paris  480931922  \n",
       "33             러브래빗  480931922  \n",
       "34             달빛바다  480931922  \n",
       "35               해리  480931922  \n",
       "36            서른의 꿈  480931922  \n",
       "37       Alice Hart  480931922  \n",
       "38              7pm  480931922  \n",
       "39               리안  480931922  \n",
       "40              이지수  480931922  \n",
       "41  모모캣츠 (Momocats)  480931922  \n",
       "42              고서이  480931922  \n",
       "43              전수연  480931922  "
      ]
     },
     "execution_count": 166,
     "metadata": {},
     "output_type": "execute_result"
    }
   ],
   "source": [
    "songs_df"
   ]
  },
  {
   "cell_type": "code",
   "execution_count": 44,
   "id": "67353855",
   "metadata": {},
   "outputs": [],
   "source": [
    "# 제목이 같은 플레이리스트 제거\n",
    "all_playlist_df = all_playlist_df[~all_playlist_df['title'].duplicated()]"
   ]
  },
  {
   "cell_type": "code",
   "execution_count": 45,
   "id": "71bc4627",
   "metadata": {},
   "outputs": [],
   "source": [
    "# 번호가 같은 플레이리스트 제거\n",
    "all_playlist_df = all_playlist_df[~all_playlist_df['plylstSeq'].duplicated()]"
   ]
  },
  {
   "cell_type": "code",
   "execution_count": 46,
   "id": "d10c062b",
   "metadata": {},
   "outputs": [
    {
     "data": {
      "text/plain": [
       "[506358530,\n",
       " 511214436,\n",
       " 506225967,\n",
       " 488734201,\n",
       " 464652255,\n",
       " 511316969,\n",
       " 512674119,\n",
       " 495119848,\n",
       " 511642826,\n",
       " 480395232,\n",
       " 503273844,\n",
       " 512447118,\n",
       " 501533943,\n",
       " 431721556,\n",
       " 500807908,\n",
       " 478737263,\n",
       " 512314449,\n",
       " 468026902,\n",
       " 499502605,\n",
       " 468144064,\n",
       " 512611091,\n",
       " 483086564,\n",
       " 457536543,\n",
       " 484732185,\n",
       " 422524892,\n",
       " 422307578,\n",
       " 421220077,\n",
       " 484083307,\n",
       " 499196454,\n",
       " 442706386,\n",
       " 100098397,\n",
       " 504995932,\n",
       " 503922106,\n",
       " 512454641,\n",
       " 512604983,\n",
       " 509082861,\n",
       " 456929739,\n",
       " 464856973,\n",
       " 512220218,\n",
       " 487517318,\n",
       " 511942478,\n",
       " 511069733,\n",
       " 480438884,\n",
       " 511765826,\n",
       " 481204703,\n",
       " 442105804,\n",
       " 511249341,\n",
       " 100098227,\n",
       " 508329402,\n",
       " 450123206,\n",
       " 489337558,\n",
       " 469198716,\n",
       " 460637410,\n",
       " 496498480,\n",
       " 483955249,\n",
       " 470374673,\n",
       " 431692656,\n",
       " 508282971,\n",
       " 513054917,\n",
       " 494917123,\n",
       " 509410105,\n",
       " 512116975,\n",
       " 512619925,\n",
       " 512204385,\n",
       " 501118034,\n",
       " 482280210,\n",
       " 466256773,\n",
       " 508119613,\n",
       " 460791648,\n",
       " 510216907,\n",
       " 497904500,\n",
       " 509586776,\n",
       " 478906566,\n",
       " 484389614,\n",
       " 498768802,\n",
       " 506725249,\n",
       " 457624642,\n",
       " 505758699,\n",
       " 512726031,\n",
       " 505785411,\n",
       " 463290143,\n",
       " 512759838,\n",
       " 468339973,\n",
       " 101470463,\n",
       " 445562919,\n",
       " 511612249,\n",
       " 512333525,\n",
       " 512610939,\n",
       " 505831069,\n",
       " 503332905,\n",
       " 492523394,\n",
       " 508467426,\n",
       " 509765789,\n",
       " 497498583,\n",
       " 510213922,\n",
       " 457763335,\n",
       " 513099393,\n",
       " 457882592,\n",
       " 476811080,\n",
       " 512944676,\n",
       " 471928725,\n",
       " 496373792,\n",
       " 457536706,\n",
       " 469583628,\n",
       " 505636251,\n",
       " 461861126,\n",
       " 508035194,\n",
       " 506584300,\n",
       " 510686082,\n",
       " 494899973,\n",
       " 509024094,\n",
       " 495813275,\n",
       " 453240516,\n",
       " 507927254,\n",
       " 405075509,\n",
       " 492702654,\n",
       " 507466608,\n",
       " 457913761,\n",
       " 444993829,\n",
       " 420736577,\n",
       " 512042436,\n",
       " 494283599,\n",
       " 511476037,\n",
       " 512509592,\n",
       " 497292073,\n",
       " 489447011,\n",
       " 494484013,\n",
       " 506849426,\n",
       " 498325988,\n",
       " 488610721,\n",
       " 513068404,\n",
       " 512281777,\n",
       " 457169589,\n",
       " 457627034,\n",
       " 456317654,\n",
       " 436119495,\n",
       " 467171309,\n",
       " 509108348,\n",
       " 401202657,\n",
       " 510527513,\n",
       " 489419541,\n",
       " 489233228,\n",
       " 443413135,\n",
       " 507809500,\n",
       " 505563751,\n",
       " 497822039,\n",
       " 445557345,\n",
       " 513069945,\n",
       " 511797644,\n",
       " 101470465,\n",
       " 480163924,\n",
       " 499283495,\n",
       " 511607857,\n",
       " 513030011,\n",
       " 513070935,\n",
       " 433007733,\n",
       " 480011338,\n",
       " 505005075,\n",
       " 502171200,\n",
       " 457119864,\n",
       " 479256091,\n",
       " 511405320,\n",
       " 445201573,\n",
       " 454817420,\n",
       " 498080794,\n",
       " 509779117,\n",
       " 489433419,\n",
       " 455192019,\n",
       " 512322845,\n",
       " 502835730,\n",
       " 508026207,\n",
       " 426571097,\n",
       " 430470805,\n",
       " 509524255,\n",
       " 506913951,\n",
       " 485835104,\n",
       " 499233450,\n",
       " 492014150,\n",
       " 491919737,\n",
       " 451552731,\n",
       " 504151253,\n",
       " 502383664,\n",
       " 416899859,\n",
       " 512059905,\n",
       " 508693609,\n",
       " 460839330,\n",
       " 512934085,\n",
       " 467330306,\n",
       " 507521599,\n",
       " 466529155,\n",
       " 475879765,\n",
       " 448407126,\n",
       " 508525329,\n",
       " 493328874,\n",
       " 457625427,\n",
       " 464536597,\n",
       " 512937442,\n",
       " 513067782,\n",
       " 512990548,\n",
       " 509283946,\n",
       " 508821864,\n",
       " 497067513,\n",
       " 512910300,\n",
       " 444013701,\n",
       " 479478642,\n",
       " 510967673,\n",
       " 454171857,\n",
       " 504144174,\n",
       " 498226569,\n",
       " 423626903,\n",
       " 508647452,\n",
       " 475245995,\n",
       " 509540323,\n",
       " 101606592,\n",
       " 482975847,\n",
       " 431297298,\n",
       " 506901332,\n",
       " 449590184,\n",
       " 460343236,\n",
       " 460230017,\n",
       " 430133360,\n",
       " 447830164,\n",
       " 484934739,\n",
       " 462461928,\n",
       " 467566137,\n",
       " 471475500,\n",
       " 512661860,\n",
       " 512810732,\n",
       " 499553569,\n",
       " 510962165,\n",
       " 431997852,\n",
       " 512042694,\n",
       " 489756437,\n",
       " 504420563,\n",
       " 488014775,\n",
       " 512206216,\n",
       " 490612338,\n",
       " 506423674,\n",
       " 457914976,\n",
       " 101579569,\n",
       " 512775950,\n",
       " 447963457,\n",
       " 511256136,\n",
       " 498931486,\n",
       " 468759242,\n",
       " 478253247,\n",
       " 479505571,\n",
       " 496530405,\n",
       " 435757143,\n",
       " 489407935,\n",
       " 457536977,\n",
       " 414012915,\n",
       " 474750129,\n",
       " 502188766,\n",
       " 425791689,\n",
       " 500870258,\n",
       " 427739710,\n",
       " 511987179,\n",
       " 480771806,\n",
       " 457119924,\n",
       " 508587691,\n",
       " 418743549,\n",
       " 461483938,\n",
       " 476757748,\n",
       " 475022783,\n",
       " 511681959,\n",
       " 491140978,\n",
       " 510819750,\n",
       " 512931217,\n",
       " 415292615,\n",
       " 481737608,\n",
       " 512374555,\n",
       " 445119026,\n",
       " 411640228,\n",
       " 498584849,\n",
       " 432375006,\n",
       " 417639180,\n",
       " 505492045,\n",
       " 513002582,\n",
       " 457904205,\n",
       " 503523696,\n",
       " 489509078,\n",
       " 512564265,\n",
       " 511845712,\n",
       " 498338976,\n",
       " 471067327,\n",
       " 481058128,\n",
       " 503955542,\n",
       " 507976896,\n",
       " 509191205,\n",
       " 490097211,\n",
       " 456889007,\n",
       " 495903831,\n",
       " 501742253,\n",
       " 481773157,\n",
       " 476029136,\n",
       " 490689301,\n",
       " 447239810,\n",
       " 508854153,\n",
       " 506452012,\n",
       " 500500938,\n",
       " 512619424,\n",
       " 507706326,\n",
       " 476563704,\n",
       " 448798839,\n",
       " 506200953,\n",
       " 507055117,\n",
       " 487756887,\n",
       " 481256262,\n",
       " 501842371,\n",
       " 511822129,\n",
       " 415828654,\n",
       " 470783092,\n",
       " 497517200,\n",
       " 510720476,\n",
       " 512050883,\n",
       " 507591535,\n",
       " 508697620,\n",
       " 489517111,\n",
       " 467974756,\n",
       " 459555326,\n",
       " 505091061,\n",
       " 510176876,\n",
       " 510392209,\n",
       " 505719499,\n",
       " 446670814,\n",
       " 494808354,\n",
       " 509430885,\n",
       " 468125548,\n",
       " 489152063,\n",
       " 480644894,\n",
       " 496263640,\n",
       " 453957884,\n",
       " 498513051,\n",
       " 501701056,\n",
       " 502645092,\n",
       " 512755977,\n",
       " 455311711,\n",
       " 512903772,\n",
       " 512926446,\n",
       " 503648467,\n",
       " 512993776,\n",
       " 512072321,\n",
       " 477317531,\n",
       " 463956555,\n",
       " 506814611,\n",
       " 473226880,\n",
       " 512239948,\n",
       " 456259708,\n",
       " 510423714,\n",
       " 469645722,\n",
       " 450186310,\n",
       " 512572119,\n",
       " 507136358,\n",
       " 459264384,\n",
       " 443452960,\n",
       " 477892084,\n",
       " 504148913,\n",
       " 506319805,\n",
       " 454874966,\n",
       " 505053012,\n",
       " 425207393,\n",
       " 405737350,\n",
       " 467500772,\n",
       " 494378528,\n",
       " 419923187,\n",
       " 505706098,\n",
       " 489032331,\n",
       " 509753912,\n",
       " 485620637,\n",
       " 477699612,\n",
       " 506515273,\n",
       " 499996735,\n",
       " 495700083,\n",
       " 506653208,\n",
       " 495333688,\n",
       " 505946052,\n",
       " 508850578,\n",
       " 508895099,\n",
       " 494469181,\n",
       " 472348438,\n",
       " 488028471,\n",
       " 500486043,\n",
       " 511921110,\n",
       " 483946265,\n",
       " 509411000,\n",
       " 492762296,\n",
       " 408429497,\n",
       " 479206139,\n",
       " 506452931,\n",
       " 493864052,\n",
       " 512482014,\n",
       " 511090069,\n",
       " 447205792,\n",
       " 512558706,\n",
       " 487712018,\n",
       " 486180330,\n",
       " 443438559,\n",
       " 505707576,\n",
       " 496963017,\n",
       " 496405004,\n",
       " 506967034,\n",
       " 401004189,\n",
       " 471719413,\n",
       " 443393657,\n",
       " 454772796,\n",
       " 506792979,\n",
       " 503297824,\n",
       " 464687495,\n",
       " 470155538,\n",
       " 506678644,\n",
       " 510879229,\n",
       " 507567403,\n",
       " 405868532,\n",
       " 416062065,\n",
       " 500960650,\n",
       " 460883038,\n",
       " 408857319,\n",
       " 459259313,\n",
       " 501930129,\n",
       " 499129755,\n",
       " 512964284,\n",
       " 417018390,\n",
       " 454955630,\n",
       " 505681168,\n",
       " 509541116,\n",
       " 489086770,\n",
       " 482863565,\n",
       " 418047907,\n",
       " 505170547,\n",
       " 490527225,\n",
       " 480060042,\n",
       " 506054425,\n",
       " 491063367,\n",
       " 507639815,\n",
       " 427720409,\n",
       " 455316557,\n",
       " 474778326,\n",
       " 101574150,\n",
       " 503926987,\n",
       " 474750046,\n",
       " 506395551,\n",
       " 512429473,\n",
       " 510687087,\n",
       " 454777800,\n",
       " 423587998,\n",
       " 101408955,\n",
       " 485501612,\n",
       " 501474031,\n",
       " 509181402,\n",
       " 406137504,\n",
       " 403798778,\n",
       " 476126091,\n",
       " 482565215,\n",
       " 490736871,\n",
       " 457904769,\n",
       " 474874848,\n",
       " 408448859,\n",
       " 512755960,\n",
       " 503550590,\n",
       " 477308092,\n",
       " 512211928,\n",
       " 444753518,\n",
       " 512910237,\n",
       " 492537483,\n",
       " 509241338,\n",
       " 448285217,\n",
       " 512176012,\n",
       " 482916370,\n",
       " 496188146,\n",
       " 496496636,\n",
       " 504313556,\n",
       " 509191051,\n",
       " 508765783,\n",
       " 474918690,\n",
       " 498798529,\n",
       " 512334190,\n",
       " 422918042,\n",
       " 513002209,\n",
       " 512991782,\n",
       " 489754934,\n",
       " 509631103,\n",
       " 491378409,\n",
       " 471627920,\n",
       " 486625549,\n",
       " 508900149,\n",
       " 513101570,\n",
       " 484573998,\n",
       " 455339982,\n",
       " 477974658,\n",
       " 480129992,\n",
       " 489775533,\n",
       " 440710143,\n",
       " 456506800,\n",
       " 477994425,\n",
       " 447818237,\n",
       " 512880585,\n",
       " 458629786,\n",
       " 430529578,\n",
       " 510106807,\n",
       " 508423621,\n",
       " 457915013,\n",
       " 457814492,\n",
       " 442532635,\n",
       " 448688159,\n",
       " 475797585,\n",
       " 457581210,\n",
       " 488575662,\n",
       " 416281259,\n",
       " 433951785,\n",
       " 432373766,\n",
       " 485068648,\n",
       " 510384908,\n",
       " 504963316,\n",
       " 493186834,\n",
       " 454089018,\n",
       " 491397388,\n",
       " 495123388,\n",
       " 478908102,\n",
       " 508530015,\n",
       " 508379182,\n",
       " 457914979,\n",
       " 459208345,\n",
       " 434653713,\n",
       " 509478259,\n",
       " 510892446,\n",
       " 440344984,\n",
       " 478367359,\n",
       " 467213165,\n",
       " 466374550,\n",
       " 431680409,\n",
       " 454843644,\n",
       " 501183032,\n",
       " 463882234,\n",
       " 489338935,\n",
       " 444522111,\n",
       " 498540645,\n",
       " 484756797,\n",
       " 496852440,\n",
       " 458802121,\n",
       " 508508734,\n",
       " 512296940,\n",
       " 422381081,\n",
       " 499356701,\n",
       " 512832646,\n",
       " 492256708,\n",
       " 442387593,\n",
       " 499044317,\n",
       " 485603152,\n",
       " 484482550,\n",
       " 430566118,\n",
       " 498231486,\n",
       " 506986526,\n",
       " 509724042,\n",
       " 429689295,\n",
       " 502195204,\n",
       " 501698416,\n",
       " 512602358,\n",
       " 464004261,\n",
       " 475525263,\n",
       " 401112343,\n",
       " 417488368,\n",
       " 511842918,\n",
       " 437608750,\n",
       " 506081815,\n",
       " 495659065,\n",
       " 511455750,\n",
       " 496329070,\n",
       " 508508996,\n",
       " 460381574,\n",
       " 512925655,\n",
       " 511895428,\n",
       " 506865010,\n",
       " 497179440,\n",
       " 511070825,\n",
       " 478876244,\n",
       " 509251788,\n",
       " 442226632,\n",
       " 438017015,\n",
       " 509966901,\n",
       " 511566423,\n",
       " 504255659,\n",
       " 510820628,\n",
       " 456537171,\n",
       " 506556703,\n",
       " 421338401,\n",
       " 454818845,\n",
       " 467095255,\n",
       " 458408647,\n",
       " 512332882,\n",
       " 512635813,\n",
       " 427318470,\n",
       " 500554660,\n",
       " 457825086,\n",
       " 498704659,\n",
       " 506807990,\n",
       " 495036994,\n",
       " 489079437,\n",
       " 510485048,\n",
       " 503336170,\n",
       " 510104093,\n",
       " 422704801,\n",
       " 484155410,\n",
       " 511842207,\n",
       " 513091827,\n",
       " 511809527,\n",
       " 469704077,\n",
       " 420677901,\n",
       " 457536681,\n",
       " 419123007,\n",
       " 454427183,\n",
       " 512894660,\n",
       " 442429767,\n",
       " 443846680,\n",
       " 512992469,\n",
       " 499741829,\n",
       " 425763707,\n",
       " 503561975,\n",
       " 503418980,\n",
       " 507479371,\n",
       " 477147502,\n",
       " 439431283,\n",
       " 512107272,\n",
       " 496698535,\n",
       " 506562920,\n",
       " 512554432,\n",
       " 443193753,\n",
       " 494208465,\n",
       " 439021766,\n",
       " 422724611,\n",
       " 511448052,\n",
       " 508256834,\n",
       " 512937017,\n",
       " 508541617,\n",
       " 501312947,\n",
       " 509192079,\n",
       " 482926008,\n",
       " 429260852,\n",
       " 470464576,\n",
       " 493847766,\n",
       " 457943380,\n",
       " 456261906,\n",
       " 461411429,\n",
       " 456902762,\n",
       " 511345556,\n",
       " 480390317,\n",
       " 510733869,\n",
       " 433110890,\n",
       " 511516274,\n",
       " 511447771,\n",
       " 464354183,\n",
       " 498756980,\n",
       " 439653132,\n",
       " 483597931,\n",
       " 424284364,\n",
       " 435788362,\n",
       " 510542000,\n",
       " 497321400,\n",
       " 459729639,\n",
       " 509811219,\n",
       " 501096568,\n",
       " 461264860,\n",
       " 457823877,\n",
       " 491117219,\n",
       " 507765763,\n",
       " 464216900,\n",
       " 425791004,\n",
       " 512745007,\n",
       " 456709809,\n",
       " 491464918,\n",
       " 484630847,\n",
       " 495875754,\n",
       " 508995854,\n",
       " 476702972,\n",
       " 485351807,\n",
       " 479031759,\n",
       " 498852015,\n",
       " 484307878,\n",
       " 435323317,\n",
       " 430409937,\n",
       " 498540343,\n",
       " 457823977,\n",
       " 486680283,\n",
       " 513044159,\n",
       " 498151555,\n",
       " 457206288,\n",
       " 430429343,\n",
       " 438846261,\n",
       " 431599853,\n",
       " 513003094,\n",
       " 427914347,\n",
       " 491053109,\n",
       " 505650668,\n",
       " 431064758,\n",
       " 509307339,\n",
       " 497079929,\n",
       " 479355240,\n",
       " 493460851,\n",
       " 472171646,\n",
       " 494912487,\n",
       " 471806959,\n",
       " 457823875,\n",
       " 508855712,\n",
       " 455159396,\n",
       " 488596256,\n",
       " 499403868,\n",
       " 493284052,\n",
       " 496585410,\n",
       " 419354751,\n",
       " 504081927,\n",
       " 506866665,\n",
       " 491005466,\n",
       " 510563168,\n",
       " 509449443,\n",
       " 468399086,\n",
       " 512592046,\n",
       " 403196660,\n",
       " 408006916,\n",
       " 492057141,\n",
       " 440463657,\n",
       " 501731478,\n",
       " 100029269,\n",
       " 457823880,\n",
       " 467103491,\n",
       " 495866039,\n",
       " 512956643,\n",
       " 483640754,\n",
       " 481006974,\n",
       " 447768208,\n",
       " 482372609,\n",
       " 462487898,\n",
       " 472386370,\n",
       " 442560755,\n",
       " 454733186,\n",
       " 506817476,\n",
       " 507137830,\n",
       " 510054310,\n",
       " 505650335,\n",
       " 489796518,\n",
       " 507282074,\n",
       " 497237044,\n",
       " 480267414,\n",
       " 510292249,\n",
       " 504831402,\n",
       " 501678616,\n",
       " 509266586,\n",
       " 456209912,\n",
       " 499233019,\n",
       " 500503710,\n",
       " 512170834,\n",
       " 474254521,\n",
       " 474989553,\n",
       " 470026407,\n",
       " 502083589,\n",
       " 507859352,\n",
       " 478273060,\n",
       " 407301170,\n",
       " 401506247,\n",
       " 512946220,\n",
       " 452076725,\n",
       " 467961280,\n",
       " 508875184,\n",
       " 502039064,\n",
       " 467178208,\n",
       " 507107699,\n",
       " 449083998,\n",
       " 428130046,\n",
       " 432365998,\n",
       " 501595533,\n",
       " 419259084,\n",
       " 445792657,\n",
       " 513041376,\n",
       " 473589861,\n",
       " 510386288,\n",
       " 506735669,\n",
       " 509483651,\n",
       " 432224021,\n",
       " 431918483,\n",
       " 480684327,\n",
       " 445362426,\n",
       " 482295043,\n",
       " 508925965,\n",
       " 502827367,\n",
       " 509185951,\n",
       " 456846699,\n",
       " 512361621,\n",
       " 509114907,\n",
       " 440002884,\n",
       " 513063534,\n",
       " 496316819,\n",
       " 503066247,\n",
       " 512881819,\n",
       " 463852918,\n",
       " 511607300,\n",
       " 485413147,\n",
       " 477508542,\n",
       " 475479430,\n",
       " 472398063,\n",
       " 504298969,\n",
       " 478863989,\n",
       " 464678467,\n",
       " 462454894,\n",
       " 510265946,\n",
       " 506122475,\n",
       " 499717769,\n",
       " 504319565,\n",
       " 446441007,\n",
       " 512304478,\n",
       " 482709322,\n",
       " 465430241,\n",
       " 512691500,\n",
       " 512722389,\n",
       " 455344027,\n",
       " 496150311,\n",
       " 489084963,\n",
       " 511835401,\n",
       " 509386227,\n",
       " 463037715,\n",
       " 446542421,\n",
       " 501485093,\n",
       " 511305969,\n",
       " 486283686,\n",
       " 505974312,\n",
       " 477633344,\n",
       " 492526029,\n",
       " 492977391,\n",
       " 446116273,\n",
       " 455975557,\n",
       " 438859649,\n",
       " 428679951,\n",
       " 473909817,\n",
       " 512301629,\n",
       " 512880056,\n",
       " 481987923,\n",
       " 442542772,\n",
       " 494556993,\n",
       " 505578704,\n",
       " 470847165,\n",
       " 473050761,\n",
       " 479413892,\n",
       " 437807346,\n",
       " 502661452,\n",
       " 511888248,\n",
       " 508867578,\n",
       " 503576534,\n",
       " 498859776,\n",
       " 427368370,\n",
       " 438666013,\n",
       " 505693006,\n",
       " 437457906,\n",
       " 503384885,\n",
       " 510006895,\n",
       " 420287513,\n",
       " 418015110,\n",
       " 493544402,\n",
       " 484110956,\n",
       " 508056976,\n",
       " 495163456,\n",
       " 510128139,\n",
       " 508600150,\n",
       " 486194303,\n",
       " 509060216,\n",
       " 501645397,\n",
       " 506323394,\n",
       " 510545920,\n",
       " 410932332,\n",
       " 458959816,\n",
       " 448993529,\n",
       " 507775853,\n",
       " 505235105,\n",
       " 457170917,\n",
       " 509967607,\n",
       " 511017106,\n",
       " 501490047,\n",
       " 460088817,\n",
       " 478577539,\n",
       " 478387794,\n",
       " 457914978,\n",
       " 445758420,\n",
       " 479124955,\n",
       " 429708188,\n",
       " 497508445,\n",
       " 510199498,\n",
       " 512625343,\n",
       " 499166657,\n",
       " 505908502,\n",
       " 446453273,\n",
       " 512720554,\n",
       " 410679290,\n",
       " 503385248,\n",
       " 481633203,\n",
       " 441600487,\n",
       " 492756494,\n",
       " 502226325,\n",
       " 512678667,\n",
       " 503232620,\n",
       " 510160409,\n",
       " 511521784,\n",
       " 476512759,\n",
       " 467444113,\n",
       " 478550964,\n",
       " 511806683,\n",
       " 504753919,\n",
       " 446187421,\n",
       " 490116124,\n",
       " 510518016,\n",
       " 485097323,\n",
       " 489621994,\n",
       " 512562496,\n",
       " 477154932,\n",
       " 503384018,\n",
       " 512437069,\n",
       " 505994232,\n",
       " 488332547,\n",
       " 428176519,\n",
       " 472933987,\n",
       " 492426364,\n",
       " 496326519,\n",
       " 506818957,\n",
       " 506723936,\n",
       " 507456524,\n",
       " 487667041,\n",
       " 512302075,\n",
       " 475767784,\n",
       " 508104874,\n",
       " 404325680,\n",
       " 495170987,\n",
       " 508508615,\n",
       " 456252870,\n",
       " 485853232,\n",
       " 460596370,\n",
       " 491176144,\n",
       " 425543990,\n",
       " 509203251,\n",
       " 459183420,\n",
       " 497941227,\n",
       " 509843283,\n",
       " 504482521,\n",
       " 459312527,\n",
       " 486222276,\n",
       " 510139794,\n",
       " 468902354,\n",
       " 483852354,\n",
       " 501386527,\n",
       " 482108244,\n",
       " 415212574,\n",
       " 500960340,\n",
       " 505252244,\n",
       " 468828468,\n",
       " 456542664,\n",
       " 479637986,\n",
       " 510733687,\n",
       " 503389665,\n",
       " 508143532,\n",
       " 457825031,\n",
       " 489712044,\n",
       " 457627506,\n",
       " 480031845,\n",
       " 472180565,\n",
       " 454861427,\n",
       " 508786927,\n",
       " 503286586,\n",
       " 460223065,\n",
       " 487731611,\n",
       " 463561879,\n",
       " 457825029,\n",
       " 457765173,\n",
       " 480273547,\n",
       " 457166819,\n",
       " 462460081,\n",
       " 475696068,\n",
       " 450411881,\n",
       " 500660256,\n",
       " 481974178,\n",
       " 470445966,\n",
       " 511741443,\n",
       " 510653376,\n",
       " 502420677,\n",
       " 454818562,\n",
       " 498313517,\n",
       " 484417032,\n",
       " 505999709,\n",
       " 452779695,\n",
       " 491456205,\n",
       " 450873652,\n",
       " 452710398,\n",
       " 493819710,\n",
       " 499741234,\n",
       " 501794087,\n",
       " 492449886,\n",
       " 503416249,\n",
       " 507755578,\n",
       " 508702335,\n",
       " 414827537,\n",
       " 425857128,\n",
       " 499891430,\n",
       " 473471485,\n",
       " 479721132,\n",
       " 499859805,\n",
       " 443302863,\n",
       " ...]"
      ]
     },
     "execution_count": 46,
     "metadata": {},
     "output_type": "execute_result"
    }
   ],
   "source": [
    "all_playlist_list = all_playlist_df['plylstSeq'].tolist()\n",
    "all_playlist_list"
   ]
  },
  {
   "cell_type": "code",
   "execution_count": 47,
   "id": "fa487159",
   "metadata": {},
   "outputs": [
    {
     "data": {
      "text/plain": [
       "144218"
      ]
     },
     "execution_count": 47,
     "metadata": {},
     "output_type": "execute_result"
    }
   ],
   "source": [
    "len(all_playlist_list)"
   ]
  },
  {
   "cell_type": "code",
   "execution_count": 213,
   "id": "e833de13",
   "metadata": {},
   "outputs": [],
   "source": [
    "# 모든 플레이리스트의 곡을 가져와 데이터를 parquet 파일로 저장하는 함수\n",
    "def get_all_playlist_songs(plylstseq_list: list):\n",
    "    batch = []\n",
    "    batch_size = 10\n",
    "    for k in range(batch_size):\n",
    "        batch.append(plylstseq_list[k*(len(plylstseq_list)//batch_size):(k+1)*(len(plylstseq_list)//batch_size)])    \n",
    "    playlist_songs_df = pd.DataFrame()\n",
    "    for i, batch_list in enumerate(batch):\n",
    "        for idx, plylstseq in enumerate(tqdm(batch_list)):\n",
    "            if(idx == 0):\n",
    "                playlist_songs_df = get_playlist_songs(plylstseq)\n",
    "            else:\n",
    "                playlist_songs_df = pd.concat([playlist_songs_df, get_playlist_songs(plylstseq)])\n",
    "        playlist_songs_df.to_parquet(f'data/playlist_songs({len(plylstseq_list)}_{i}).parquet.gzip', compression = 'gzip', index=False)\n",
    "    return playlist_songs_df"
   ]
  },
  {
   "cell_type": "code",
   "execution_count": 2,
   "id": "799a3379",
   "metadata": {},
   "outputs": [],
   "source": [
    "# 사용예시\n",
    "all_songs_df = get_all_playlist_songs(all_playlist_list)"
   ]
  },
  {
   "cell_type": "markdown",
   "id": "a49c4db9",
   "metadata": {},
   "source": [
    "## 곡 수집"
   ]
  },
  {
   "cell_type": "code",
   "execution_count": 220,
   "id": "6be98852",
   "metadata": {},
   "outputs": [],
   "source": [
    "# load\n",
    "DATA_PATH = \"data\"\n",
    "DATA_SAVE_PATH = os.path.join(DATA_PATH, \"songs_info.parquet.gzip\")\n",
    "\n",
    "class SongScrapper:\n",
    "    def __init__(self):\n",
    "        self.headers = {\n",
    "            \"User-Agent\": \"Mozilla/5.0 (Windows NT 10.0; Win64; x64) AppleWebKit/537.36 (KHTML, like Gecko) Chrome/103.0.0.0 Safari/537.36\",\n",
    "        }\n",
    "\n",
    "    def load(self, type=\"parquet\"):\n",
    "        if os.path.isfile(DATA_SAVE_PATH):\n",
    "            return print(f\"You already have the data file... ({DATA_SAVE_PATH})\")\n",
    "\n",
    "        if not os.path.isdir(DATA_PATH):\n",
    "            print(\"Data path not found. Creating data path...\")\n",
    "            os.makedirs(DATA_PATH)\n",
    "\n",
    "        files = [file_name for file_name in os.listdir(DATA_PATH) if type in file_name]\n",
    "        if not files:\n",
    "            return print(\"Data not found. you should download data first.\")\n",
    "\n",
    "        print(f\"Total Data Count: {len(files)}\")\n",
    "        data = pd.DataFrame()\n",
    "        for name in files:\n",
    "            file_path = os.path.join(DATA_PATH, name)\n",
    "            size = os.path.getsize(file_path)\n",
    "            print(f\"{name.ljust(30)}: {round(size / 1000000, 1)}MB\")\n",
    "            data = pd.concat([data, pd.read_parquet(file_path)])\n",
    "            print(f\"Current Shape: {data.shape}\")\n",
    "        print(\"\\nData Loading Complete.\")\n",
    "        print(f\"Result Shape: {data.shape}\")\n",
    "        return data\n",
    "\n",
    "    def get_songs_info(self):\n",
    "        data = self.load()\n",
    "        if isinstance(data, pd.DataFrame):\n",
    "            song_codes = data.drop_duplicates([\"song_code\"])[\"song_code\"]\n",
    "            print(f\"\\nTotal Song Count: {len(song_codes)}\")\n",
    "            results = pd.DataFrame()\n",
    "            for i, song_code in tqdm(enumerate(song_codes)):\n",
    "                result = self.get_song_info_by_code(song_code)\n",
    "                results = pd.concat([results, pd.DataFrame(result, index=[i])])\n",
    "            print(\"\\nData Scrapping Complete.\")\n",
    "            print(f\"Result Shape: {results.shape}\")\n",
    "            print(f\"Result Columns: {results.columns}\")\n",
    "            results.to_parquet(DATA_SAVE_PATH, compression=\"gzip\", index=False)\n",
    "\n",
    "    def get_song_info_by_code(self, song_code):\n",
    "        url = f\"https://www.melon.com/song/lyrics.htm?songId={song_code}\"\n",
    "        print(url)\n",
    "        response = requests.get(url, headers=self.headers)\n",
    "        page = bs(response.content, \"html.parser\")\n",
    "        artists = page.find(\"div\", class_=\"artist\").find_all(\"a\", class_=\"artist_name\")\n",
    "        cover_link = page.find(\"a\", class_=\"image_typeAll\").find(\"img\")[\"src\"]\n",
    "        cover_link = re.sub(\"/282/\", \"/512/\", cover_link)\n",
    "        cover_link = re.sub(\"/80/\", \"/100/\", cover_link)\n",
    "        result = {\n",
    "            \"song_code\": song_code,\n",
    "            \"song_title\": page.find(\"div\", class_=\"song_name\")\n",
    "            .get_text(strip=True)\n",
    "            .lstrip(\"곡명\"),\n",
    "            \"artist\": \", \".join([artist[\"title\"] for artist in artists]),\n",
    "            \"album_cover\": cover_link,\n",
    "            \"album_title\": re.sub(\n",
    "                \"[\\\\xa0]\",\n",
    "                \" \",\n",
    "                page.find(\"div\", class_=\"meta\").find(\"a\").get_text(strip=True),\n",
    "            ),\n",
    "            \"public_date\": page.find(\"div\", class_=\"meta\")\n",
    "            .find_all(\"dd\")[1]\n",
    "            .get_text(strip=True),\n",
    "            \"genre\": page.find(\"div\", class_=\"meta\")\n",
    "            .find_all(\"dd\")[2]\n",
    "            .get_text(strip=True)\n",
    "            .split(\", \")[0],\n",
    "            \"lyrics\": page.find(class_=\"wrap_lyric\")\n",
    "            .get_text(separator=\"\\n\", strip=True)\n",
    "            .rstrip(\"펼치기 \"),\n",
    "        }\n",
    "\n",
    "        return result\n"
   ]
  },
  {
   "cell_type": "code",
   "execution_count": null,
   "id": "3e5378b5",
   "metadata": {},
   "outputs": [],
   "source": [
    "SongScrapper().get_songs_info()"
   ]
  }
 ],
 "metadata": {
  "kernelspec": {
   "display_name": "Python 3 (ipykernel)",
   "language": "python",
   "name": "python3"
  },
  "language_info": {
   "codemirror_mode": {
    "name": "ipython",
    "version": 3
   },
   "file_extension": ".py",
   "mimetype": "text/x-python",
   "name": "python",
   "nbconvert_exporter": "python",
   "pygments_lexer": "ipython3",
   "version": "3.9.12"
  },
  "toc": {
   "base_numbering": 1,
   "nav_menu": {},
   "number_sections": true,
   "sideBar": true,
   "skip_h1_title": false,
   "title_cell": "Table of Contents",
   "title_sidebar": "Contents",
   "toc_cell": false,
   "toc_position": {},
   "toc_section_display": true,
   "toc_window_display": false
  }
 },
 "nbformat": 4,
 "nbformat_minor": 5
}
