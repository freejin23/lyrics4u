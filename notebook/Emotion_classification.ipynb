{
  "cells": [
    {
      "cell_type": "markdown",
      "metadata": {
        "id": "9K9XO5jLolg5"
      },
      "source": [
        "[![Open In Colab](https://colab.research.google.com/assets/colab-badge.svg)](https://colab.research.google.com/github/freejin23/lyrics4u/blob/main/notebook/Emotion_classification.ipynb)"
      ]
    },
    {
      "cell_type": "markdown",
      "metadata": {
        "id": "XWiAaO-aTqNZ"
      },
      "source": [
        "# 필요한 라이브러리 설치 및 불러오기"
      ]
    },
    {
      "cell_type": "code",
      "execution_count": 1,
      "metadata": {
        "id": "EP7t_MC5dsb8"
      },
      "outputs": [],
      "source": [
        "# !pip install pytorch_lightning\n",
        "# !pip install transformers"
      ]
    },
    {
      "cell_type": "code",
      "execution_count": 2,
      "metadata": {
        "colab": {
          "base_uri": "https://localhost:8080/",
          "height": 35
        },
        "id": "Z-iZ-KnRZxbX",
        "outputId": "c237cee9-51c4-46b1-eaed-f0049aa84050"
      },
      "outputs": [
        {
          "data": {
            "application/vnd.google.colaboratory.intrinsic+json": {
              "type": "string"
            },
            "text/plain": [
              "'/content'"
            ]
          },
          "execution_count": 2,
          "metadata": {},
          "output_type": "execute_result"
        }
      ],
      "source": [
        "%pwd"
      ]
    },
    {
      "cell_type": "code",
      "execution_count": 3,
      "metadata": {
        "colab": {
          "base_uri": "https://localhost:8080/"
        },
        "id": "ZBPPP8fCZlu_",
        "outputId": "27c4952c-1308-43c4-bc23-248751e8ba40"
      },
      "outputs": [
        {
          "name": "stdout",
          "output_type": "stream",
          "text": [
            "Cloning into 'lyrics4u'...\n",
            "remote: Enumerating objects: 394, done.\u001b[K\n",
            "remote: Counting objects: 100% (221/221), done.\u001b[K\n",
            "remote: Compressing objects: 100% (153/153), done.\u001b[K\n",
            "remote: Total 394 (delta 99), reused 159 (delta 61), pack-reused 173\u001b[K\n",
            "Receiving objects: 100% (394/394), 4.26 MiB | 7.75 MiB/s, done.\n",
            "Resolving deltas: 100% (170/170), done.\n"
          ]
        }
      ],
      "source": [
        "# emotion backend module 설치\n",
        "!rm -rf  lyrics4u\n",
        "!git clone https://github.com/freejin23/lyrics4u.git"
      ]
    },
    {
      "cell_type": "code",
      "execution_count": 4,
      "metadata": {
        "id": "sWmrDbRdUL6z"
      },
      "outputs": [],
      "source": [
        "import sys\n",
        "sys.path.insert(0, \"/content/lyrics4u/backend/models\")"
      ]
    },
    {
      "cell_type": "code",
      "execution_count": 5,
      "metadata": {
        "id": "P40-H0CTaPAr"
      },
      "outputs": [],
      "source": [
        "from emotion import EmotionClassifier"
      ]
    },
    {
      "cell_type": "markdown",
      "metadata": {
        "id": "1Ji6TXlXIYQQ"
      },
      "source": [
        "# 모델 가중치 저장 후 불러오기\n",
        "* git-LFS를 이용하거나 직접 다운로드 후 불러오기\n",
        "\n",
        "```\n",
        "git lfs install \n",
        "git clone https://huggingface.co/searle-j/kote_for_meticulous_people\n",
        "```\n",
        "\n",
        "[download link](https://huggingface.co/searle-j/kote_for_meticulous_people/resolve/main/kote_pytorch_lightning.bin)"
      ]
    },
    {
      "cell_type": "code",
      "execution_count": 6,
      "metadata": {
        "colab": {
          "base_uri": "https://localhost:8080/"
        },
        "id": "8h9f-2fjRHZ4",
        "outputId": "38a9df3a-b9dd-4425-959d-27ccf48a0162"
      },
      "outputs": [
        {
          "name": "stdout",
          "output_type": "stream",
          "text": [
            "Error: Failed to call git rev-parse --git-dir --show-toplevel: \"fatal: not a git repository (or any of the parent directories): .git\\n\"\n",
            "Git LFS initialized.\n",
            "Cloning into 'kote_for_meticulous_people'...\n",
            "remote: Enumerating objects: 7, done.\u001b[K\n",
            "remote: Counting objects: 100% (7/7), done.\u001b[K\n",
            "remote: Compressing objects: 100% (6/6), done.\u001b[K\n",
            "remote: Total 7 (delta 1), reused 0 (delta 0), pack-reused 0\u001b[K\n",
            "Unpacking objects: 100% (7/7), done.\n"
          ]
        }
      ],
      "source": [
        "!rm -rf  kote_for_meticulous_people\n",
        "!git lfs install \n",
        "!git clone https://huggingface.co/searle-j/kote_for_meticulous_people"
      ]
    },
    {
      "cell_type": "code",
      "execution_count": 7,
      "metadata": {
        "colab": {
          "base_uri": "https://localhost:8080/"
        },
        "id": "N3_nhXhoZlvA",
        "outputId": "be6614a0-6cbb-41cc-afe4-9c8309efa6eb"
      },
      "outputs": [
        {
          "name": "stderr",
          "output_type": "stream",
          "text": [
            "Some weights of the model checkpoint at beomi/KcELECTRA-base were not used when initializing ElectraModel: ['discriminator_predictions.dense.weight', 'discriminator_predictions.dense.bias', 'discriminator_predictions.dense_prediction.weight', 'discriminator_predictions.dense_prediction.bias']\n",
            "- This IS expected if you are initializing ElectraModel from the checkpoint of a model trained on another task or with another architecture (e.g. initializing a BertForSequenceClassification model from a BertForPreTraining model).\n",
            "- This IS NOT expected if you are initializing ElectraModel from the checkpoint of a model that you expect to be exactly identical (initializing a BertForSequenceClassification model from a BertForSequenceClassification model).\n"
          ]
        }
      ],
      "source": [
        "clf = EmotionClassifier(W_PATH = \"kote_for_meticulous_people/kote_pytorch_lightning.bin\")"
      ]
    },
    {
      "cell_type": "markdown",
      "metadata": {
        "id": "jW_W4dONUtrP"
      },
      "source": [
        "# 모델 예측"
      ]
    },
    {
      "cell_type": "code",
      "execution_count": 8,
      "metadata": {
        "id": "QAEtoaAbZlvA"
      },
      "outputs": [],
      "source": [
        "lyrics = \"\"\"\n",
        "멀어져 가는 오후를 바라보다\n",
        "스쳐 지나가 버린 그때 생각이나\n",
        "기억 모퉁이에 적혀 있던 네가\n",
        "지금 여기에 있다\n",
        "이젠 멈춰버린 화면 속에서\n",
        "내게 여름처럼 웃고 있는 너\n",
        "어쩌면 이번이 마지막 goodbye\n",
        "오래 머물러 주어서 고마워\n",
        "이 말이 뭐라고 그렇게 어려웠을까\n",
        "이제 goodbye\n",
        "우린 다른 꿈을 찾고 있던 거야\n",
        "아주 어린 날 놀던 숨바꼭질처럼\n",
        "해가 저물도록 혼자 남은 내가\n",
        "지금 여기에 있다\n",
        "이미 멈춰버린 화면 속에서\n",
        "내게 여름처럼 웃고 있는 너\n",
        "어쩌면 이번이 마지막 goodbye\n",
        "오래 머물러 주어서 고마워\n",
        "이 말이 뭐라고 이렇게 힘들었을까\n",
        "Woa- yeah\n",
        "You are the only\n",
        "You're the only one in my memory, ah\n",
        "(You are the all)\n",
        "For me\n",
        "손에 꼭 쥐었던 너와의 goodbye\n",
        "끝내 참지 못한 눈물이 나\n",
        "어쩌면 오늘이 마지막 goodbye\n",
        "함께 했던 모든 날이 좋았어\n",
        "이 말이 뭐라고 그렇게 어려웠을까\n",
        "이제 goodbye\"\"\""
      ]
    },
    {
      "cell_type": "code",
      "execution_count": 9,
      "metadata": {
        "colab": {
          "base_uri": "https://localhost:8080/"
        },
        "id": "9QtQoBGwZlvB",
        "outputId": "4ce5496c-170e-48eb-c4d5-686d0359f933"
      },
      "outputs": [
        {
          "name": "stdout",
          "output_type": "stream",
          "text": [
            "Probabilities: [0.01831391 0.2303964  0.7658176  0.03039098 0.79218495 0.6094772\n",
            " 0.01475084 0.1424625  0.21351899 0.01879317 0.12693875 0.08967086\n",
            " 0.01358082 0.36265036 0.4137804  0.09173781 0.6756677  0.03656485\n",
            " 0.01577206 0.09390534 0.01917519 0.00898008 0.02189625 0.0157669\n",
            " 0.08632588 0.08522971 0.02697163 0.39165625 0.39489585 0.4494769\n",
            " 0.05206206 0.01298655 0.20157506 0.03998    0.00823457 0.01838758\n",
            " 0.16206434 0.01561029 0.22367956 0.05680367 0.9227157  0.08339317\n",
            " 0.8775673  0.40426806]\n",
            "Logits: [-3.9816105  -1.2060742   1.1848438  -3.462747    1.3381466   0.44511536\n",
            " -4.2015944  -1.7949861  -1.3038427  -3.9552896  -1.9283011  -2.3176603\n",
            " -4.285423   -0.5638792  -0.348359   -2.2925985   0.73393273 -3.2714179\n",
            " -4.1336174  -2.2668564  -3.9347768  -4.7037263  -3.7993002  -4.13395\n",
            " -2.3593445  -2.373323   -3.5856276  -0.4403555  -0.42677858 -0.2027845\n",
            " -2.9018526  -4.3307695  -1.3764791  -3.1785748  -4.791146   -3.977521\n",
            " -1.6429479  -4.1440916  -1.2443509  -2.8096735   2.47983    -2.3971121\n",
            "  1.9695927  -0.38771266]\n"
          ]
        }
      ],
      "source": [
        "# 각 감정별 확률값\n",
        "probs, logits = clf.classify(lyrics)\n",
        "print(f\"Probabilities: {probs}\\nLogits: {logits}\")"
      ]
    },
    {
      "cell_type": "code",
      "execution_count": 10,
      "metadata": {
        "colab": {
          "base_uri": "https://localhost:8080/"
        },
        "id": "rh1IW9B1TO8Q",
        "outputId": "93c19693-6065-43c5-8337-f95301bdd8a7"
      },
      "outputs": [
        {
          "data": {
            "text/plain": [
              "(['행복', '기쁨', '고마움', '감동/감탄', '아껴주는'],\n",
              " [0.9227157235145569,\n",
              "  0.8775672912597656,\n",
              "  0.7921849489212036,\n",
              "  0.7658175826072693,\n",
              "  0.6756677031517029])"
            ]
          },
          "execution_count": 10,
          "metadata": {},
          "output_type": "execute_result"
        }
      ],
      "source": [
        "# 상위 확률 5개 감정 확인\n",
        "clf.get_max_n(values = probs, n = 5)"
      ]
    },
    {
      "cell_type": "markdown",
      "metadata": {
        "id": "4nIMvhj5GF3J"
      },
      "source": [
        "참고 : https://github.com/searle-j/kote"
      ]
    }
  ],
  "metadata": {
    "colab": {
      "collapsed_sections": [],
      "machine_shape": "hm",
      "provenance": []
    },
    "gpuClass": "standard",
    "kernelspec": {
      "display_name": "Python 3.10.2 64-bit",
      "language": "python",
      "name": "python3"
    },
    "language_info": {
      "codemirror_mode": {
        "name": "ipython",
        "version": 3
      },
      "file_extension": ".py",
      "mimetype": "text/x-python",
      "name": "python",
      "nbconvert_exporter": "python",
      "pygments_lexer": "ipython3",
      "version": "3.10.2"
    },
    "vscode": {
      "interpreter": {
        "hash": "aee8b7b246df8f9039afb4144a1f6fd8d2ca17a180786b69acc140d282b71a49"
      }
    }
  },
  "nbformat": 4,
  "nbformat_minor": 0
}
