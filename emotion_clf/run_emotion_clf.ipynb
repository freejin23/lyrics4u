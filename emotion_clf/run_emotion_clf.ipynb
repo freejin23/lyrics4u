{
 "cells": [
  {
   "cell_type": "markdown",
   "metadata": {
    "id": "D6VaAS_aUnax"
   },
   "source": [
    "[참고- [파이썬]KoBERT로 다중 분류 모델 만들기 - 코드](https://velog.io/@seolini43/KOBERT로-다중-분류-모델-만들기-파이썬Colab)"
   ]
  },
  {
   "cell_type": "code",
   "execution_count": 1,
   "metadata": {
    "colab": {
     "base_uri": "https://localhost:8080/"
    },
    "executionInfo": {
     "elapsed": 23515,
     "status": "ok",
     "timestamp": 1660230687484,
     "user": {
      "displayName": "이지홍",
      "userId": "11136008413482623832"
     },
     "user_tz": -540
    },
    "id": "6P0RFZPVP_uK",
    "outputId": "00030c91-c543-494d-86a7-308c1926c1ef"
   },
   "outputs": [],
   "source": [
    "# !pip install mxnet\n",
    "# !pip install gluonnlp pandas tqdm\n",
    "# !pip install sentencepiece\n",
    "# !pip install transformers\n",
    "# !pip install torch\n",
    "# !pip install datasets\n",
    "# !pip install kobert\n",
    "# !pip install -U huggingface_hub"
   ]
  },
  {
   "cell_type": "markdown",
   "metadata": {},
   "source": [
    "## 모듈 불러오기"
   ]
  },
  {
   "cell_type": "code",
   "execution_count": 2,
   "metadata": {},
   "outputs": [],
   "source": [
    "import torch\n",
    "import numpy as np\n",
    "import random\n",
    "from emotionModule import load, modelEngine"
   ]
  },
  {
   "cell_type": "code",
   "execution_count": 3,
   "metadata": {},
   "outputs": [
    {
     "name": "stdout",
     "output_type": "stream",
     "text": [
      "cuda:0\n"
     ]
    }
   ],
   "source": [
    "RANDOM_SEED = 42\n",
    "random.seed(RANDOM_SEED)\n",
    "np.random.seed(RANDOM_SEED)\n",
    "torch.manual_seed(RANDOM_SEED)\n",
    "torch.cuda.manual_seed_all(RANDOM_SEED)\n",
    "\n",
    "device = torch.device(\"cuda:0\" if torch.cuda.is_available() else \"cpu\")\n",
    "print(device)"
   ]
  },
  {
   "cell_type": "markdown",
   "metadata": {},
   "source": [
    "## 모델 불러오기"
   ]
  },
  {
   "cell_type": "code",
   "execution_count": 4,
   "metadata": {},
   "outputs": [],
   "source": [
    "loader = load.loader()"
   ]
  },
  {
   "cell_type": "code",
   "execution_count": 5,
   "metadata": {},
   "outputs": [
    {
     "name": "stdout",
     "output_type": "stream",
     "text": [
      "using cached model. /home/work/data/final/.cache/kobert_v1.zip\n",
      "using cached model. /home/work/data/final/.cache/kobert_news_wiki_ko_cased-1087f8699e.spiece\n",
      "using cached model. /home/work/data/final/.cache/kobert_v1.zip\n",
      "using cached model. /home/work/data/final/.cache/kobert_news_wiki_ko_cased-1087f8699e.spiece\n",
      "using cached model. /home/work/data/final/.cache/kobert_news_wiki_ko_cased-1087f8699e.spiece\n"
     ]
    }
   ],
   "source": [
    "# MODEL_NAME = \"klue/bert-base\"\n",
    "MODEL_NAME = 'kobert'\n",
    "\n",
    "bertmodel = loader.BertModel(MODEL_NAME)\n",
    "tokenizer, vocab = loader.tokenizer(MODEL_NAME)"
   ]
  },
  {
   "cell_type": "markdown",
   "metadata": {},
   "source": [
    "## 데이터셋 불러오기"
   ]
  },
  {
   "cell_type": "code",
   "execution_count": 6,
   "metadata": {},
   "outputs": [
    {
     "data": {
      "text/plain": [
       "DatasetDict({\n",
       "    train: Dataset({\n",
       "        features: ['text', 'class_idx', 'class_label'],\n",
       "        num_rows: 40000\n",
       "    })\n",
       "    validation: Dataset({\n",
       "        features: ['text', 'class_idx', 'class_label'],\n",
       "        num_rows: 5000\n",
       "    })\n",
       "    test: Dataset({\n",
       "        features: ['text', 'class_idx', 'class_label'],\n",
       "        num_rows: 5000\n",
       "    })\n",
       "})"
      ]
     },
     "execution_count": 6,
     "metadata": {},
     "output_type": "execute_result"
    }
   ],
   "source": [
    "DATA_PATH = \"KOTE_relabel/\"\n",
    "ds = loader.dataset(DATA_PATH)\n",
    "ds"
   ]
  },
  {
   "cell_type": "markdown",
   "metadata": {},
   "source": [
    "### 모델 configuration"
   ]
  },
  {
   "cell_type": "code",
   "execution_count": 7,
   "metadata": {},
   "outputs": [],
   "source": [
    "# set config\n",
    "label_dict = dict(zip(range(5), [\"행복한\", \"화나는\", \"평온한\", \"슬픈\", \"없음\"]))\n",
    "\n",
    "configs = {\"max_len\": 256,\n",
    "\"batch_size\" : 16,\n",
    "\"warmup_ratio\": 0.1,\n",
    "\"num_epochs\": 25,\n",
    "\"max_grad_norm\": 1,\n",
    "\"log_interval\": 200,\n",
    "\"learning_rate\":  5e-5,\n",
    "\"num_classes\" :len(label_dict),\n",
    "\"train_len\" : len(ds[\"train\"])\n",
    "}"
   ]
  },
  {
   "cell_type": "code",
   "execution_count": 8,
   "metadata": {},
   "outputs": [],
   "source": [
    "preprocessor = load.preprocess(tokenizer = tokenizer, vocab = vocab, configs = configs)"
   ]
  },
  {
   "cell_type": "code",
   "execution_count": 9,
   "metadata": {},
   "outputs": [],
   "source": [
    "tok_train = preprocessor.tokenize(ds[\"train\"])\n",
    "tok_test = preprocessor.tokenize(ds[\"test\"])\n",
    "tok_valid = preprocessor.tokenize(ds[\"validation\"])"
   ]
  },
  {
   "cell_type": "code",
   "execution_count": 10,
   "metadata": {},
   "outputs": [
    {
     "name": "stderr",
     "output_type": "stream",
     "text": [
      "/usr/local/lib/python3.8/dist-packages/torch/utils/data/dataloader.py:478: UserWarning: This DataLoader will create 5 worker processes in total. Our suggested max number of worker in current system is 4, which is smaller than what this DataLoader is going to create. Please be aware that excessive worker creation might get DataLoader running slow or even freeze, lower the worker number to avoid potential slowness/freeze if necessary.\n",
      "  warnings.warn(_create_warning_msg(\n"
     ]
    }
   ],
   "source": [
    "train = preprocessor.cvt2dataloader(tok_train)\n",
    "test = preprocessor.cvt2dataloader(tok_test)\n",
    "valid = preprocessor.cvt2dataloader(tok_valid)"
   ]
  },
  {
   "cell_type": "code",
   "execution_count": 12,
   "metadata": {},
   "outputs": [],
   "source": [
    "engine = modelEngine.engine(bertmodel, device, configs)"
   ]
  },
  {
   "cell_type": "code",
   "execution_count": 13,
   "metadata": {},
   "outputs": [
    {
     "name": "stderr",
     "output_type": "stream",
     "text": [
      "/home/work/.local/lib/python3.8/site-packages/transformers/optimization.py:306: FutureWarning: This implementation of AdamW is deprecated and will be removed in a future version. Use the PyTorch implementation torch.optim.AdamW instead, or set `no_deprecation_warning=True` to disable this warning\n",
      "  warnings.warn(\n"
     ]
    }
   ],
   "source": [
    "# compiling as default setting\n",
    "engine.set_default(configs)"
   ]
  },
  {
   "cell_type": "code",
   "execution_count": null,
   "metadata": {},
   "outputs": [],
   "source": [
    "# # training\n",
    "# engine.fit(train, valid, configs)"
   ]
  },
  {
   "cell_type": "markdown",
   "metadata": {},
   "source": [
    "## 모델 저장"
   ]
  },
  {
   "cell_type": "code",
   "execution_count": 14,
   "metadata": {},
   "outputs": [],
   "source": [
    "# MODEL_PATH = \"model/KoBert_full\""
   ]
  },
  {
   "cell_type": "code",
   "execution_count": 577,
   "metadata": {},
   "outputs": [],
   "source": [
    "# torch.save(engine.model.state_dict(), MODEL_PATH)"
   ]
  },
  {
   "cell_type": "markdown",
   "metadata": {},
   "source": [
    "## 학습한 모델 불러오기"
   ]
  },
  {
   "cell_type": "code",
   "execution_count": 15,
   "metadata": {},
   "outputs": [],
   "source": [
    "MODEL_PATH = \"model/KoBert_full\""
   ]
  },
  {
   "cell_type": "code",
   "execution_count": 16,
   "metadata": {},
   "outputs": [],
   "source": [
    "new_engine = modelEngine.engine(bertmodel, device, configs)"
   ]
  },
  {
   "cell_type": "code",
   "execution_count": 17,
   "metadata": {},
   "outputs": [
    {
     "data": {
      "text/plain": [
       "<All keys matched successfully>"
      ]
     },
     "execution_count": 17,
     "metadata": {},
     "output_type": "execute_result"
    }
   ],
   "source": [
    "new_engine.model.load_state_dict(torch.load(MODEL_PATH))"
   ]
  },
  {
   "cell_type": "markdown",
   "metadata": {},
   "source": [
    "### 가사 validation set 불러오기"
   ]
  },
  {
   "cell_type": "code",
   "execution_count": 18,
   "metadata": {},
   "outputs": [
    {
     "data": {
      "text/plain": [
       "Dataset({\n",
       "    features: ['genre', 'lyrics', 'emotion', 'idx'],\n",
       "    num_rows: 113\n",
       "})"
      ]
     },
     "execution_count": 18,
     "metadata": {},
     "output_type": "execute_result"
    }
   ],
   "source": [
    "VALID_PATH = \"lyrics_emotion\"\n",
    "valid_ds = loader.dataset(VALID_PATH)\n",
    "valid_ds"
   ]
  },
  {
   "cell_type": "markdown",
   "metadata": {},
   "source": [
    "### 감정 분류"
   ]
  },
  {
   "cell_type": "code",
   "execution_count": 19,
   "metadata": {},
   "outputs": [],
   "source": [
    "predictions, probs = new_engine.predict(new_text = valid_ds[\"lyrics\"], preprocessor = preprocessor, return_max_only=True)"
   ]
  },
  {
   "cell_type": "code",
   "execution_count": 20,
   "metadata": {},
   "outputs": [],
   "source": [
    "results = valid_ds.to_pandas()\n",
    "results[\"prediction\"] = [label_dict[idx] for idx in predictions]"
   ]
  },
  {
   "cell_type": "code",
   "execution_count": 21,
   "metadata": {},
   "outputs": [
    {
     "data": {
      "text/html": [
       "<div>\n",
       "<style scoped>\n",
       "    .dataframe tbody tr th:only-of-type {\n",
       "        vertical-align: middle;\n",
       "    }\n",
       "\n",
       "    .dataframe tbody tr th {\n",
       "        vertical-align: top;\n",
       "    }\n",
       "\n",
       "    .dataframe thead th {\n",
       "        text-align: right;\n",
       "    }\n",
       "</style>\n",
       "<table border=\"1\" class=\"dataframe\">\n",
       "  <thead>\n",
       "    <tr style=\"text-align: right;\">\n",
       "      <th></th>\n",
       "      <th>genre</th>\n",
       "      <th>lyrics</th>\n",
       "      <th>emotion</th>\n",
       "      <th>idx</th>\n",
       "      <th>prediction</th>\n",
       "    </tr>\n",
       "  </thead>\n",
       "  <tbody>\n",
       "    <tr>\n",
       "      <th>0</th>\n",
       "      <td>댄스</td>\n",
       "      <td>20 22 PSY Coming back (이리 오너라) Long time no se...</td>\n",
       "      <td>행복한</td>\n",
       "      <td>0</td>\n",
       "      <td>행복한</td>\n",
       "    </tr>\n",
       "    <tr>\n",
       "      <th>1</th>\n",
       "      <td>록/메탈</td>\n",
       "      <td>Look at you 넌 못 감당해 날 Ya took off hook 기분은 Cok...</td>\n",
       "      <td>화나는</td>\n",
       "      <td>1</td>\n",
       "      <td>행복한</td>\n",
       "    </tr>\n",
       "    <tr>\n",
       "      <th>2</th>\n",
       "      <td>발라드</td>\n",
       "      <td>너와 함께 하고 싶은 일들을 상상하는 게 요즘 내 일상이 되고 너의 즐거워하는 모습...</td>\n",
       "      <td>행복한</td>\n",
       "      <td>0</td>\n",
       "      <td>슬픈</td>\n",
       "    </tr>\n",
       "    <tr>\n",
       "      <th>3</th>\n",
       "      <td>발라드</td>\n",
       "      <td>너를 위해 해 줄 것이 하나 없어서 보낼 수밖에 없었고 네가 없이 사는 법을 알지 ...</td>\n",
       "      <td>슬픈</td>\n",
       "      <td>3</td>\n",
       "      <td>슬픈</td>\n",
       "    </tr>\n",
       "    <tr>\n",
       "      <th>4</th>\n",
       "      <td>발라드</td>\n",
       "      <td>하얀 머리 뽑아 달라며 한 개 백 원이라던 그 시절 다 지나가고 이젠 흰 눈만 남았...</td>\n",
       "      <td>슬픈</td>\n",
       "      <td>3</td>\n",
       "      <td>슬픈</td>\n",
       "    </tr>\n",
       "    <tr>\n",
       "      <th>...</th>\n",
       "      <td>...</td>\n",
       "      <td>...</td>\n",
       "      <td>...</td>\n",
       "      <td>...</td>\n",
       "      <td>...</td>\n",
       "    </tr>\n",
       "    <tr>\n",
       "      <th>108</th>\n",
       "      <td>발라드</td>\n",
       "      <td>너와 함께 하고 싶은 일들을 상상하는 게 요즘 내 일상이 되고 너의 즐거워하는 모습...</td>\n",
       "      <td>행복한</td>\n",
       "      <td>0</td>\n",
       "      <td>슬픈</td>\n",
       "    </tr>\n",
       "    <tr>\n",
       "      <th>109</th>\n",
       "      <td>발라드</td>\n",
       "      <td>둥근 해가 뜨면 제일 먼저 기분 좋은 상상을 하지 하나 둘 셋 자리에 일어나 하마처...</td>\n",
       "      <td>행복한</td>\n",
       "      <td>0</td>\n",
       "      <td>행복한</td>\n",
       "    </tr>\n",
       "    <tr>\n",
       "      <th>110</th>\n",
       "      <td>인디음악</td>\n",
       "      <td>사랑노래가 너무 많아서 어떤 노래로 고백을 할까 처음본 순간 falling love...</td>\n",
       "      <td>행복한</td>\n",
       "      <td>0</td>\n",
       "      <td>행복한</td>\n",
       "    </tr>\n",
       "    <tr>\n",
       "      <th>111</th>\n",
       "      <td>국내뮤지컬</td>\n",
       "      <td>잔인한 곳 무자비한 곳 목구멍 풀칠해 버텨내 살아내는 것도 벅차 세상은 잔인한 곳 ...</td>\n",
       "      <td>화나는</td>\n",
       "      <td>1</td>\n",
       "      <td>화나는</td>\n",
       "    </tr>\n",
       "    <tr>\n",
       "      <th>112</th>\n",
       "      <td>랩/힙합</td>\n",
       "      <td>얼마전 버벌진트가 내게 피처링을 부탁했어 나는 흔쾌히 응했지 하지만 곧 나는 그를 ...</td>\n",
       "      <td>화나는</td>\n",
       "      <td>1</td>\n",
       "      <td>슬픈</td>\n",
       "    </tr>\n",
       "  </tbody>\n",
       "</table>\n",
       "<p>113 rows × 5 columns</p>\n",
       "</div>"
      ],
      "text/plain": [
       "     genre                                             lyrics emotion  idx  \\\n",
       "0       댄스  20 22 PSY Coming back (이리 오너라) Long time no se...     행복한    0   \n",
       "1     록/메탈  Look at you 넌 못 감당해 날 Ya took off hook 기분은 Cok...     화나는    1   \n",
       "2      발라드  너와 함께 하고 싶은 일들을 상상하는 게 요즘 내 일상이 되고 너의 즐거워하는 모습...     행복한    0   \n",
       "3      발라드  너를 위해 해 줄 것이 하나 없어서 보낼 수밖에 없었고 네가 없이 사는 법을 알지 ...      슬픈    3   \n",
       "4      발라드  하얀 머리 뽑아 달라며 한 개 백 원이라던 그 시절 다 지나가고 이젠 흰 눈만 남았...      슬픈    3   \n",
       "..     ...                                                ...     ...  ...   \n",
       "108    발라드  너와 함께 하고 싶은 일들을 상상하는 게 요즘 내 일상이 되고 너의 즐거워하는 모습...     행복한    0   \n",
       "109    발라드  둥근 해가 뜨면 제일 먼저 기분 좋은 상상을 하지 하나 둘 셋 자리에 일어나 하마처...     행복한    0   \n",
       "110   인디음악  사랑노래가 너무 많아서 어떤 노래로 고백을 할까 처음본 순간 falling love...     행복한    0   \n",
       "111  국내뮤지컬  잔인한 곳 무자비한 곳 목구멍 풀칠해 버텨내 살아내는 것도 벅차 세상은 잔인한 곳 ...     화나는    1   \n",
       "112   랩/힙합  얼마전 버벌진트가 내게 피처링을 부탁했어 나는 흔쾌히 응했지 하지만 곧 나는 그를 ...     화나는    1   \n",
       "\n",
       "    prediction  \n",
       "0          행복한  \n",
       "1          행복한  \n",
       "2           슬픈  \n",
       "3           슬픈  \n",
       "4           슬픈  \n",
       "..         ...  \n",
       "108         슬픈  \n",
       "109        행복한  \n",
       "110        행복한  \n",
       "111        화나는  \n",
       "112         슬픈  \n",
       "\n",
       "[113 rows x 5 columns]"
      ]
     },
     "execution_count": 21,
     "metadata": {},
     "output_type": "execute_result"
    }
   ],
   "source": [
    "results"
   ]
  },
  {
   "cell_type": "markdown",
   "metadata": {},
   "source": [
    "### 정확도"
   ]
  },
  {
   "cell_type": "code",
   "execution_count": 22,
   "metadata": {},
   "outputs": [
    {
     "data": {
      "text/plain": [
       "0.5398230088495575"
      ]
     },
     "execution_count": 22,
     "metadata": {},
     "output_type": "execute_result"
    }
   ],
   "source": [
    "(results[\"emotion\"] == results[\"prediction\"]).mean()"
   ]
  },
  {
   "cell_type": "code",
   "execution_count": null,
   "metadata": {},
   "outputs": [],
   "source": []
  },
  {
   "cell_type": "code",
   "execution_count": null,
   "metadata": {},
   "outputs": [],
   "source": []
  }
 ],
 "metadata": {
  "kernelspec": {
   "display_name": "PyTorch 1.9.0 on Python 3.8 (CUDA 11.1)",
   "language": "python",
   "name": "python3"
  },
  "language_info": {
   "codemirror_mode": {
    "name": "ipython",
    "version": 3
   },
   "file_extension": ".py",
   "mimetype": "text/x-python",
   "name": "python",
   "nbconvert_exporter": "python",
   "pygments_lexer": "ipython3",
   "version": "3.8.7"
  }
 },
 "nbformat": 4,
 "nbformat_minor": 4
}
